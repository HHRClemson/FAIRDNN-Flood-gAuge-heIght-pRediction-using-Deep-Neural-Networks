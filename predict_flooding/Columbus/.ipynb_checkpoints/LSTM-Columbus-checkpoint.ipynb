{
 "cells": [
  {
   "cell_type": "code",
   "execution_count": 1,
   "id": "1becc4d0-aa48-42e2-97c4-550538fd8d0d",
   "metadata": {
    "tags": []
   },
   "outputs": [],
   "source": [
    "import pandas as pd\n",
    "import numpy as np\n",
    "import matplotlib.pyplot as plt\n",
    "plt.style.use('fivethirtyeight')"
   ]
  },
  {
   "cell_type": "code",
   "execution_count": 2,
   "id": "b17b83a1-dc52-40d0-99c6-7dbfa17eaf1a",
   "metadata": {
    "tags": []
   },
   "outputs": [],
   "source": [
    "df = pd.read_csv('./../../datasets/chattahoochee-columbus.csv',header=0, parse_dates=['time'])"
   ]
  },
  {
   "cell_type": "code",
   "execution_count": 3,
   "id": "5d99384d-7f9c-4163-945b-64dad3e3b6ac",
   "metadata": {},
   "outputs": [
    {
     "name": "stderr",
     "output_type": "stream",
     "text": [
      "/software/spackages/linux-centos8-x86_64/gcc-8.3.1/anaconda3-2019.10-v5cuhr6keyz5ryxcwvv2jkzfj2gwrj4a/lib/python3.7/site-packages/pandas/plotting/_matplotlib/converter.py:103: FutureWarning: Using an implicitly registered datetime converter for a matplotlib plotting method. The converter was registered by pandas on import. Future versions of pandas will require you to explicitly register matplotlib converters.\n",
      "\n",
      "To register the converters:\n",
      "\t>>> from pandas.plotting import register_matplotlib_converters\n",
      "\t>>> register_matplotlib_converters()\n",
      "  warnings.warn(msg, FutureWarning)\n"
     ]
    },
    {
     "data": {
      "text/plain": [
       "[<matplotlib.lines.Line2D at 0x14822a220250>]"
      ]
     },
     "execution_count": 3,
     "metadata": {},
     "output_type": "execute_result"
    },
    {
     "data": {
      "image/png": "[encoded data removed]",
      "text/plain": [
       "<Figure size 432x288 with 1 Axes>"
      ]
     },
     "metadata": {
      "needs_background": "light"
     },
     "output_type": "display_data"
    }
   ],
   "source": [
    "df[\"time\"] = pd.to_datetime(df['time'])\n",
    "df = df.set_index('time')\n",
    "plt.plot(df.index,df[\"height\"])"
   ]
  },
  {
   "cell_type": "code",
   "execution_count": 4,
   "id": "d84b6da5-b7c7-45b9-8971-82ee6ad9a7a8",
   "metadata": {},
   "outputs": [],
   "source": [
    "train_set = df[:'2020'].iloc[:,:]\n",
    "test_set = df['2021':].iloc[:,:]"
   ]
  },
  {
   "cell_type": "code",
   "execution_count": 5,
   "id": "2da42284-7380-412f-8f7d-b49b9c5680d5",
   "metadata": {},
   "outputs": [],
   "source": [
    "from sklearn.preprocessing import MinMaxScaler\n",
    "sc = MinMaxScaler()\n",
    "training_set_scaled = sc.fit_transform(train_set)"
   ]
  },
  {
   "cell_type": "code",
   "execution_count": 6,
   "id": "ecccaa4a-5633-4888-86e8-86e4fd4b8c26",
   "metadata": {},
   "outputs": [
    {
     "data": {
      "text/plain": [
       "210350"
      ]
     },
     "execution_count": 6,
     "metadata": {},
     "output_type": "execute_result"
    }
   ],
   "source": [
    "len(training_set_scaled)"
   ]
  },
  {
   "cell_type": "code",
   "execution_count": 7,
   "id": "050ac6d7-8bbe-4077-8a06-269c6297c9e0",
   "metadata": {},
   "outputs": [],
   "source": [
    "X_train = []\n",
    "y_train = []\n",
    "for i in range(100,len(training_set_scaled)):\n",
    "    X_train.append(training_set_scaled[i-100:i,0])\n",
    "    y_train.append(training_set_scaled[i,0])\n",
    "X_train, y_train = np.array(X_train), np.array(y_train)"
   ]
  },
  {
   "cell_type": "code",
   "execution_count": 8,
   "id": "d938e1d6-1d8e-48e2-aa72-3b56c952ecd6",
   "metadata": {},
   "outputs": [],
   "source": [
    "X_train = np.reshape(X_train, (X_train.shape[0],X_train.shape[1],1))"
   ]
  },
  {
   "cell_type": "code",
   "execution_count": 9,
   "id": "223780cc-9f7e-4f37-bd11-a537e07cccdb",
   "metadata": {},
   "outputs": [
    {
     "data": {
      "text/plain": [
       "(210250, 100, 1)"
      ]
     },
     "execution_count": 9,
     "metadata": {},
     "output_type": "execute_result"
    }
   ],
   "source": [
    "X_train.shape"
   ]
  },
  {
   "cell_type": "code",
   "execution_count": 10,
   "id": "96091a9c-a00f-49ed-86d1-145a2c9f2b4b",
   "metadata": {},
   "outputs": [],
   "source": [
    "# Reshaping X_train for efficient modelling\n",
    "X_train = np.reshape(X_train, (X_train.shape[0],X_train.shape[1],1))"
   ]
  },
  {
   "cell_type": "code",
   "execution_count": 11,
   "id": "a62a6a62-9cc1-4c1d-b5c7-e993becf4d8a",
   "metadata": {},
   "outputs": [],
   "source": [
    "from tensorflow.keras.callbacks import EarlyStopping\n",
    "early_stopping = EarlyStopping(monitor='loss', patience=8)"
   ]
  },
  {
   "cell_type": "code",
   "execution_count": 12,
   "id": "84abc51a-e30a-4292-b48b-0121676b773b",
   "metadata": {},
   "outputs": [
    {
     "name": "stdout",
     "output_type": "stream",
     "text": [
      "Num GPUs Available:  2\n"
     ]
    }
   ],
   "source": [
    "import tensorflow as tf\n",
    "print(\"Num GPUs Available: \", len(tf.config.list_physical_devices('GPU')))"
   ]
  },
  {
   "cell_type": "code",
   "execution_count": 13,
   "id": "6d4a6bcf-ba1f-40b7-a576-8f3f5af0c652",
   "metadata": {},
   "outputs": [],
   "source": [
    "def Wape(y, y_pred):\n",
    "    \"\"\"Weighted Average Percentage Error metric in the interval [0; 100]\"\"\"\n",
    "    nominator = tf.reduce_sum(tf.abs(tf.subtract(y, y_pred)))\n",
    "    denominator = tf.add(tf.reduce_sum(tf.abs(y)), K.epsilon())\n",
    "    wape = tf.scalar_mul(100.0, tf.divide(nominator, denominator))\n",
    "    return wape\n",
    "\n",
    "def nse(y, y_pred):\n",
    "    return (1-(K.sum((y_pred-y)**2)/K.sum((y-K.mean(y))**2)))"
   ]
  },
  {
   "cell_type": "code",
   "execution_count": 59,
   "id": "b619b8a6-2074-4ab7-bb57-7e52e25fb1b7",
   "metadata": {
    "collapsed": true,
    "jupyter": {
     "outputs_hidden": true
    },
    "tags": []
   },
   "outputs": [
    {
     "name": "stdout",
     "output_type": "stream",
     "text": [
      "1\n",
      "1\n",
      "Epoch 1/50\n",
      "6571/6571 [==============================] - ETA: 0s - loss: 0.0066 - Wape: 2.4046 - MAE: 0.0066 - RMSE: 0.0146 - MAPE: 28.5479 - MSE: 2.1316e-04\n",
      "Epoch 00001: loss improved from inf to 0.00661, saving model to New Leon's/weights-improvement-01-0.0066.hdf5\n",
      "6571/6571 [==============================] - 569s 86ms/step - loss: 0.0066 - Wape: 2.4046 - MAE: 0.0066 - RMSE: 0.0146 - MAPE: 28.5479 - MSE: 2.1316e-04\n",
      "Epoch 2/50\n",
      "6571/6571 [==============================] - ETA: 0s - loss: 0.0038 - Wape: 1.3883 - MAE: 0.0038 - RMSE: 0.0077 - MAPE: 9.1925 - MSE: 5.8615e-05\n",
      "Epoch 00002: loss improved from 0.00661 to 0.00381, saving model to New Leon's/weights-improvement-02-0.0038.hdf5\n",
      "6571/6571 [==============================] - 564s 86ms/step - loss: 0.0038 - Wape: 1.3883 - MAE: 0.0038 - RMSE: 0.0077 - MAPE: 9.1925 - MSE: 5.8615e-05\n",
      "Epoch 3/50\n",
      "6571/6571 [==============================] - ETA: 0s - loss: 0.0036 - Wape: 1.2978 - MAE: 0.0036 - RMSE: 0.0075 - MAPE: 5.2666 - MSE: 5.6143e-05\n",
      "Epoch 00003: loss improved from 0.00381 to 0.00356, saving model to New Leon's/weights-improvement-03-0.0036.hdf5\n",
      "6571/6571 [==============================] - 564s 86ms/step - loss: 0.0036 - Wape: 1.2978 - MAE: 0.0036 - RMSE: 0.0075 - MAPE: 5.2666 - MSE: 5.6143e-05\n",
      "Epoch 4/50\n",
      "6571/6571 [==============================] - ETA: 0s - loss: 0.0034 - Wape: 1.2418 - MAE: 0.0034 - RMSE: 0.0074 - MAPE: 43.1237 - MSE: 5.4465e-05\n",
      "Epoch 00004: loss improved from 0.00356 to 0.00341, saving model to New Leon's/weights-improvement-04-0.0034.hdf5\n",
      "6571/6571 [==============================] - 564s 86ms/step - loss: 0.0034 - Wape: 1.2418 - MAE: 0.0034 - RMSE: 0.0074 - MAPE: 43.1237 - MSE: 5.4465e-05\n",
      "Epoch 5/50\n",
      "4613/6571 [====================>.........] - ETA: 2:48 - loss: 0.0033 - Wape: 1.2181 - MAE: 0.0033 - RMSE: 0.0074 - MAPE: 15.5587 - MSE: 5.4169e-05"
     ]
    },
    {
     "ename": "KeyboardInterrupt",
     "evalue": "",
     "output_type": "error",
     "traceback": [
      "\u001b[0;31m---------------------------------------------------------------------------\u001b[0m",
      "\u001b[0;31mKeyboardInterrupt\u001b[0m                         Traceback (most recent call last)",
      "\u001b[0;32m<ipython-input-59-ff3ccf794f18>\u001b[0m in \u001b[0;36m<module>\u001b[0;34m\u001b[0m\n\u001b[1;32m     46\u001b[0m \u001b[0mprint\u001b[0m\u001b[0;34m(\u001b[0m\u001b[0;36m1\u001b[0m\u001b[0;34m)\u001b[0m\u001b[0;34m\u001b[0m\u001b[0;34m\u001b[0m\u001b[0m\n\u001b[1;32m     47\u001b[0m \u001b[0;31m# Fitting to the training set\u001b[0m\u001b[0;34m\u001b[0m\u001b[0;34m\u001b[0m\u001b[0;34m\u001b[0m\u001b[0m\n\u001b[0;32m---> 48\u001b[0;31m \u001b[0mregressor\u001b[0m\u001b[0;34m.\u001b[0m\u001b[0mfit\u001b[0m\u001b[0;34m(\u001b[0m\u001b[0mX_train\u001b[0m\u001b[0;34m,\u001b[0m\u001b[0my_train\u001b[0m\u001b[0;34m,\u001b[0m\u001b[0mepochs\u001b[0m\u001b[0;34m=\u001b[0m\u001b[0;36m50\u001b[0m\u001b[0;34m,\u001b[0m\u001b[0mbatch_size\u001b[0m\u001b[0;34m=\u001b[0m\u001b[0;36m32\u001b[0m\u001b[0;34m,\u001b[0m\u001b[0mcallbacks\u001b[0m\u001b[0;34m=\u001b[0m\u001b[0mcallbacks_list\u001b[0m\u001b[0;34m)\u001b[0m\u001b[0;34m\u001b[0m\u001b[0;34m\u001b[0m\u001b[0m\n\u001b[0m",
      "\u001b[0;32m~/software/venv/tf_gpu/lib/python3.7/site-packages/keras/utils/traceback_utils.py\u001b[0m in \u001b[0;36merror_handler\u001b[0;34m(*args, **kwargs)\u001b[0m\n\u001b[1;32m     62\u001b[0m     \u001b[0mfiltered_tb\u001b[0m \u001b[0;34m=\u001b[0m \u001b[0;32mNone\u001b[0m\u001b[0;34m\u001b[0m\u001b[0;34m\u001b[0m\u001b[0m\n\u001b[1;32m     63\u001b[0m     \u001b[0;32mtry\u001b[0m\u001b[0;34m:\u001b[0m\u001b[0;34m\u001b[0m\u001b[0;34m\u001b[0m\u001b[0m\n\u001b[0;32m---> 64\u001b[0;31m       \u001b[0;32mreturn\u001b[0m \u001b[0mfn\u001b[0m\u001b[0;34m(\u001b[0m\u001b[0;34m*\u001b[0m\u001b[0margs\u001b[0m\u001b[0;34m,\u001b[0m \u001b[0;34m**\u001b[0m\u001b[0mkwargs\u001b[0m\u001b[0;34m)\u001b[0m\u001b[0;34m\u001b[0m\u001b[0;34m\u001b[0m\u001b[0m\n\u001b[0m\u001b[1;32m     65\u001b[0m     \u001b[0;32mexcept\u001b[0m \u001b[0mException\u001b[0m \u001b[0;32mas\u001b[0m \u001b[0me\u001b[0m\u001b[0;34m:\u001b[0m  \u001b[0;31m# pylint: disable=broad-except\u001b[0m\u001b[0;34m\u001b[0m\u001b[0;34m\u001b[0m\u001b[0m\n\u001b[1;32m     66\u001b[0m       \u001b[0mfiltered_tb\u001b[0m \u001b[0;34m=\u001b[0m \u001b[0m_process_traceback_frames\u001b[0m\u001b[0;34m(\u001b[0m\u001b[0me\u001b[0m\u001b[0;34m.\u001b[0m\u001b[0m__traceback__\u001b[0m\u001b[0;34m)\u001b[0m\u001b[0;34m\u001b[0m\u001b[0;34m\u001b[0m\u001b[0m\n",
      "\u001b[0;32m~/software/venv/tf_gpu/lib/python3.7/site-packages/keras/engine/training.py\u001b[0m in \u001b[0;36mfit\u001b[0;34m(self, x, y, batch_size, epochs, verbose, callbacks, validation_split, validation_data, shuffle, class_weight, sample_weight, initial_epoch, steps_per_epoch, validation_steps, validation_batch_size, validation_freq, max_queue_size, workers, use_multiprocessing)\u001b[0m\n\u001b[1;32m   1214\u001b[0m                 _r=1):\n\u001b[1;32m   1215\u001b[0m               \u001b[0mcallbacks\u001b[0m\u001b[0;34m.\u001b[0m\u001b[0mon_train_batch_begin\u001b[0m\u001b[0;34m(\u001b[0m\u001b[0mstep\u001b[0m\u001b[0;34m)\u001b[0m\u001b[0;34m\u001b[0m\u001b[0;34m\u001b[0m\u001b[0m\n\u001b[0;32m-> 1216\u001b[0;31m               \u001b[0mtmp_logs\u001b[0m \u001b[0;34m=\u001b[0m \u001b[0mself\u001b[0m\u001b[0;34m.\u001b[0m\u001b[0mtrain_function\u001b[0m\u001b[0;34m(\u001b[0m\u001b[0miterator\u001b[0m\u001b[0;34m)\u001b[0m\u001b[0;34m\u001b[0m\u001b[0;34m\u001b[0m\u001b[0m\n\u001b[0m\u001b[1;32m   1217\u001b[0m               \u001b[0;32mif\u001b[0m \u001b[0mdata_handler\u001b[0m\u001b[0;34m.\u001b[0m\u001b[0mshould_sync\u001b[0m\u001b[0;34m:\u001b[0m\u001b[0;34m\u001b[0m\u001b[0;34m\u001b[0m\u001b[0m\n\u001b[1;32m   1218\u001b[0m                 \u001b[0mcontext\u001b[0m\u001b[0;34m.\u001b[0m\u001b[0masync_wait\u001b[0m\u001b[0;34m(\u001b[0m\u001b[0;34m)\u001b[0m\u001b[0;34m\u001b[0m\u001b[0;34m\u001b[0m\u001b[0m\n",
      "\u001b[0;32m~/software/venv/tf_gpu/lib/python3.7/site-packages/tensorflow/python/util/traceback_utils.py\u001b[0m in \u001b[0;36merror_handler\u001b[0;34m(*args, **kwargs)\u001b[0m\n\u001b[1;32m    148\u001b[0m     \u001b[0mfiltered_tb\u001b[0m \u001b[0;34m=\u001b[0m \u001b[0;32mNone\u001b[0m\u001b[0;34m\u001b[0m\u001b[0;34m\u001b[0m\u001b[0m\n\u001b[1;32m    149\u001b[0m     \u001b[0;32mtry\u001b[0m\u001b[0;34m:\u001b[0m\u001b[0;34m\u001b[0m\u001b[0;34m\u001b[0m\u001b[0m\n\u001b[0;32m--> 150\u001b[0;31m       \u001b[0;32mreturn\u001b[0m \u001b[0mfn\u001b[0m\u001b[0;34m(\u001b[0m\u001b[0;34m*\u001b[0m\u001b[0margs\u001b[0m\u001b[0;34m,\u001b[0m \u001b[0;34m**\u001b[0m\u001b[0mkwargs\u001b[0m\u001b[0;34m)\u001b[0m\u001b[0;34m\u001b[0m\u001b[0;34m\u001b[0m\u001b[0m\n\u001b[0m\u001b[1;32m    151\u001b[0m     \u001b[0;32mexcept\u001b[0m \u001b[0mException\u001b[0m \u001b[0;32mas\u001b[0m \u001b[0me\u001b[0m\u001b[0;34m:\u001b[0m\u001b[0;34m\u001b[0m\u001b[0;34m\u001b[0m\u001b[0m\n\u001b[1;32m    152\u001b[0m       \u001b[0mfiltered_tb\u001b[0m \u001b[0;34m=\u001b[0m \u001b[0m_process_traceback_frames\u001b[0m\u001b[0;34m(\u001b[0m\u001b[0me\u001b[0m\u001b[0;34m.\u001b[0m\u001b[0m__traceback__\u001b[0m\u001b[0;34m)\u001b[0m\u001b[0;34m\u001b[0m\u001b[0;34m\u001b[0m\u001b[0m\n",
      "\u001b[0;32m~/software/venv/tf_gpu/lib/python3.7/site-packages/tensorflow/python/eager/def_function.py\u001b[0m in \u001b[0;36m__call__\u001b[0;34m(self, *args, **kwds)\u001b[0m\n\u001b[1;32m    908\u001b[0m \u001b[0;34m\u001b[0m\u001b[0m\n\u001b[1;32m    909\u001b[0m       \u001b[0;32mwith\u001b[0m \u001b[0mOptionalXlaContext\u001b[0m\u001b[0;34m(\u001b[0m\u001b[0mself\u001b[0m\u001b[0;34m.\u001b[0m\u001b[0m_jit_compile\u001b[0m\u001b[0;34m)\u001b[0m\u001b[0;34m:\u001b[0m\u001b[0;34m\u001b[0m\u001b[0;34m\u001b[0m\u001b[0m\n\u001b[0;32m--> 910\u001b[0;31m         \u001b[0mresult\u001b[0m \u001b[0;34m=\u001b[0m \u001b[0mself\u001b[0m\u001b[0;34m.\u001b[0m\u001b[0m_call\u001b[0m\u001b[0;34m(\u001b[0m\u001b[0;34m*\u001b[0m\u001b[0margs\u001b[0m\u001b[0;34m,\u001b[0m \u001b[0;34m**\u001b[0m\u001b[0mkwds\u001b[0m\u001b[0;34m)\u001b[0m\u001b[0;34m\u001b[0m\u001b[0;34m\u001b[0m\u001b[0m\n\u001b[0m\u001b[1;32m    911\u001b[0m \u001b[0;34m\u001b[0m\u001b[0m\n\u001b[1;32m    912\u001b[0m       \u001b[0mnew_tracing_count\u001b[0m \u001b[0;34m=\u001b[0m \u001b[0mself\u001b[0m\u001b[0;34m.\u001b[0m\u001b[0mexperimental_get_tracing_count\u001b[0m\u001b[0;34m(\u001b[0m\u001b[0;34m)\u001b[0m\u001b[0;34m\u001b[0m\u001b[0;34m\u001b[0m\u001b[0m\n",
      "\u001b[0;32m~/software/venv/tf_gpu/lib/python3.7/site-packages/tensorflow/python/eager/def_function.py\u001b[0m in \u001b[0;36m_call\u001b[0;34m(self, *args, **kwds)\u001b[0m\n\u001b[1;32m    940\u001b[0m       \u001b[0;31m# In this case we have created variables on the first call, so we run the\u001b[0m\u001b[0;34m\u001b[0m\u001b[0;34m\u001b[0m\u001b[0;34m\u001b[0m\u001b[0m\n\u001b[1;32m    941\u001b[0m       \u001b[0;31m# defunned version which is guaranteed to never create variables.\u001b[0m\u001b[0;34m\u001b[0m\u001b[0;34m\u001b[0m\u001b[0;34m\u001b[0m\u001b[0m\n\u001b[0;32m--> 942\u001b[0;31m       \u001b[0;32mreturn\u001b[0m \u001b[0mself\u001b[0m\u001b[0;34m.\u001b[0m\u001b[0m_stateless_fn\u001b[0m\u001b[0;34m(\u001b[0m\u001b[0;34m*\u001b[0m\u001b[0margs\u001b[0m\u001b[0;34m,\u001b[0m \u001b[0;34m**\u001b[0m\u001b[0mkwds\u001b[0m\u001b[0;34m)\u001b[0m  \u001b[0;31m# pylint: disable=not-callable\u001b[0m\u001b[0;34m\u001b[0m\u001b[0;34m\u001b[0m\u001b[0m\n\u001b[0m\u001b[1;32m    943\u001b[0m     \u001b[0;32melif\u001b[0m \u001b[0mself\u001b[0m\u001b[0;34m.\u001b[0m\u001b[0m_stateful_fn\u001b[0m \u001b[0;32mis\u001b[0m \u001b[0;32mnot\u001b[0m \u001b[0;32mNone\u001b[0m\u001b[0;34m:\u001b[0m\u001b[0;34m\u001b[0m\u001b[0;34m\u001b[0m\u001b[0m\n\u001b[1;32m    944\u001b[0m       \u001b[0;31m# Release the lock early so that multiple threads can perform the call\u001b[0m\u001b[0;34m\u001b[0m\u001b[0;34m\u001b[0m\u001b[0;34m\u001b[0m\u001b[0m\n",
      "\u001b[0;32m~/software/venv/tf_gpu/lib/python3.7/site-packages/tensorflow/python/eager/function.py\u001b[0m in \u001b[0;36m__call__\u001b[0;34m(self, *args, **kwargs)\u001b[0m\n\u001b[1;32m   3129\u001b[0m        filtered_flat_args) = self._maybe_define_function(args, kwargs)\n\u001b[1;32m   3130\u001b[0m     return graph_function._call_flat(\n\u001b[0;32m-> 3131\u001b[0;31m         filtered_flat_args, captured_inputs=graph_function.captured_inputs)  # pylint: disable=protected-access\n\u001b[0m\u001b[1;32m   3132\u001b[0m \u001b[0;34m\u001b[0m\u001b[0m\n\u001b[1;32m   3133\u001b[0m   \u001b[0;34m@\u001b[0m\u001b[0mproperty\u001b[0m\u001b[0;34m\u001b[0m\u001b[0;34m\u001b[0m\u001b[0m\n",
      "\u001b[0;32m~/software/venv/tf_gpu/lib/python3.7/site-packages/tensorflow/python/eager/function.py\u001b[0m in \u001b[0;36m_call_flat\u001b[0;34m(self, args, captured_inputs, cancellation_manager)\u001b[0m\n\u001b[1;32m   1958\u001b[0m       \u001b[0;31m# No tape is watching; skip to running the function.\u001b[0m\u001b[0;34m\u001b[0m\u001b[0;34m\u001b[0m\u001b[0;34m\u001b[0m\u001b[0m\n\u001b[1;32m   1959\u001b[0m       return self._build_call_outputs(self._inference_function.call(\n\u001b[0;32m-> 1960\u001b[0;31m           ctx, args, cancellation_manager=cancellation_manager))\n\u001b[0m\u001b[1;32m   1961\u001b[0m     forward_backward = self._select_forward_and_backward_functions(\n\u001b[1;32m   1962\u001b[0m         \u001b[0margs\u001b[0m\u001b[0;34m,\u001b[0m\u001b[0;34m\u001b[0m\u001b[0;34m\u001b[0m\u001b[0m\n",
      "\u001b[0;32m~/software/venv/tf_gpu/lib/python3.7/site-packages/tensorflow/python/eager/function.py\u001b[0m in \u001b[0;36mcall\u001b[0;34m(self, ctx, args, cancellation_manager)\u001b[0m\n\u001b[1;32m    601\u001b[0m               \u001b[0minputs\u001b[0m\u001b[0;34m=\u001b[0m\u001b[0margs\u001b[0m\u001b[0;34m,\u001b[0m\u001b[0;34m\u001b[0m\u001b[0;34m\u001b[0m\u001b[0m\n\u001b[1;32m    602\u001b[0m               \u001b[0mattrs\u001b[0m\u001b[0;34m=\u001b[0m\u001b[0mattrs\u001b[0m\u001b[0;34m,\u001b[0m\u001b[0;34m\u001b[0m\u001b[0;34m\u001b[0m\u001b[0m\n\u001b[0;32m--> 603\u001b[0;31m               ctx=ctx)\n\u001b[0m\u001b[1;32m    604\u001b[0m         \u001b[0;32melse\u001b[0m\u001b[0;34m:\u001b[0m\u001b[0;34m\u001b[0m\u001b[0;34m\u001b[0m\u001b[0m\n\u001b[1;32m    605\u001b[0m           outputs = execute.execute_with_cancellation(\n",
      "\u001b[0;32m~/software/venv/tf_gpu/lib/python3.7/site-packages/tensorflow/python/eager/execute.py\u001b[0m in \u001b[0;36mquick_execute\u001b[0;34m(op_name, num_outputs, inputs, attrs, ctx, name)\u001b[0m\n\u001b[1;32m     57\u001b[0m     \u001b[0mctx\u001b[0m\u001b[0;34m.\u001b[0m\u001b[0mensure_initialized\u001b[0m\u001b[0;34m(\u001b[0m\u001b[0;34m)\u001b[0m\u001b[0;34m\u001b[0m\u001b[0;34m\u001b[0m\u001b[0m\n\u001b[1;32m     58\u001b[0m     tensors = pywrap_tfe.TFE_Py_Execute(ctx._handle, device_name, op_name,\n\u001b[0;32m---> 59\u001b[0;31m                                         inputs, attrs, num_outputs)\n\u001b[0m\u001b[1;32m     60\u001b[0m   \u001b[0;32mexcept\u001b[0m \u001b[0mcore\u001b[0m\u001b[0;34m.\u001b[0m\u001b[0m_NotOkStatusException\u001b[0m \u001b[0;32mas\u001b[0m \u001b[0me\u001b[0m\u001b[0;34m:\u001b[0m\u001b[0;34m\u001b[0m\u001b[0;34m\u001b[0m\u001b[0m\n\u001b[1;32m     61\u001b[0m     \u001b[0;32mif\u001b[0m \u001b[0mname\u001b[0m \u001b[0;32mis\u001b[0m \u001b[0;32mnot\u001b[0m \u001b[0;32mNone\u001b[0m\u001b[0;34m:\u001b[0m\u001b[0;34m\u001b[0m\u001b[0;34m\u001b[0m\u001b[0m\n",
      "\u001b[0;31mKeyboardInterrupt\u001b[0m: "
     ]
    }
   ],
   "source": [
    "from tensorflow.keras import Sequential\n",
    "from tensorflow.keras.models import Sequential\n",
    "from tensorflow.keras.layers import Dense, LSTM, Dropout\n",
    "from tensorflow.keras.optimizers import Adam\n",
    "import tensorflow.keras.backend as K\n",
    "import tensorflow as tf\n",
    "from keras.callbacks import ModelCheckpoint\n",
    "\n",
    "adam = Adam(learning_rate=0.0001)\n",
    "# The LSTM architecture\n",
    "regressor = Sequential()\n",
    "# First LSTM layer with Dropout regularisation\n",
    "regressor.add(LSTM(units=264, return_sequences=True, input_shape=(X_train.shape[1],1)))\n",
    "\n",
    "# Second LSTM layer\n",
    "regressor.add(LSTM(units=132,return_sequences=True))\n",
    "\n",
    "# # Third LSTM layer\n",
    "regressor.add(LSTM(units=64,return_sequences=True))\n",
    "\n",
    "# # Fouth LSTM layer\n",
    "regressor.add(LSTM(units=32))\n",
    "\n",
    "\n",
    "# The Fifth layer\n",
    "regressor.add(Dense(units=30))\n",
    "\n",
    "# The Sixth layer\n",
    "regressor.add(Dense(units=1))\n",
    "\n",
    "# Compiling the RNN\n",
    "regressor.compile(optimizer=\"adam\",loss=\"mean_absolute_error\",\n",
    "                  metrics=[Wape,\n",
    "                           tf.metrics.MeanAbsoluteError(name=\"MAE\"),\n",
    "                           tf.metrics.RootMeanSquaredError(name=\"RMSE\"),\n",
    "                           tf.metrics.MeanAbsolutePercentageError(name=\"MAPE\"),\n",
    "                           \"MSE\",\n",
    "                          ],\n",
    "                           \n",
    "                 )\n",
    "\n",
    "print(1)\n",
    "filepath=\"New Leon\\'s/weights-improvement-{epoch:02d}-{loss:.4f}.hdf5\"\n",
    "checkpoint = ModelCheckpoint(filepath, monitor='loss', verbose=1, save_best_only=True, mode='min')\n",
    "callbacks_list = [checkpoint]\n",
    "print(1)\n",
    "# Fitting to the training set\n",
    "regressor.fit(X_train,y_train,epochs=50,batch_size=32,callbacks=callbacks_list)"
   ]
  },
  {
   "cell_type": "code",
   "execution_count": null,
   "id": "061f5ecd-52a9-410e-ab95-4631871890b5",
   "metadata": {
    "collapsed": true,
    "jupyter": {
     "outputs_hidden": true
    },
    "tags": []
   },
   "outputs": [
    {
     "name": "stdout",
     "output_type": "stream",
     "text": [
      "Epoch 1/50\n",
      "6571/6571 [==============================] - ETA: 0s - loss: 0.0993 - Wape: 115599.9609 - MAE: 0.0993 - RMSE: 0.1213 - MAPE: 1329.3271 - MSE: 0.0147\n",
      "Epoch 00001: loss did not improve from 0.09926\n",
      "6571/6571 [==============================] - 566s 86ms/step - loss: 0.0993 - Wape: 115599.9609 - MAE: 0.0993 - RMSE: 0.1213 - MAPE: 1329.3271 - MSE: 0.0147\n",
      "Epoch 2/50\n",
      "6571/6571 [==============================] - ETA: 0s - loss: 0.0993 - Wape: 115628.6641 - MAE: 0.0993 - RMSE: 0.1213 - MAPE: 1325.5287 - MSE: 0.0147\n",
      "Epoch 00002: loss did not improve from 0.09926\n",
      "6571/6571 [==============================] - 565s 86ms/step - loss: 0.0993 - Wape: 115628.6641 - MAE: 0.0993 - RMSE: 0.1213 - MAPE: 1325.5287 - MSE: 0.0147\n",
      "Epoch 3/50\n",
      "6571/6571 [==============================] - ETA: 0s - loss: 0.0993 - Wape: 115608.0703 - MAE: 0.0993 - RMSE: 0.1213 - MAPE: 1333.0856 - MSE: 0.0147\n",
      "Epoch 00003: loss did not improve from 0.09926\n",
      "6571/6571 [==============================] - 565s 86ms/step - loss: 0.0993 - Wape: 115608.0703 - MAE: 0.0993 - RMSE: 0.1213 - MAPE: 1333.0856 - MSE: 0.0147\n",
      "Epoch 4/50\n",
      "6571/6571 [==============================] - ETA: 0s - loss: 0.0993 - Wape: 115588.3047 - MAE: 0.0993 - RMSE: 0.1212 - MAPE: 1316.7043 - MSE: 0.0147\n",
      "Epoch 00004: loss did not improve from 0.09926\n",
      "6571/6571 [==============================] - 565s 86ms/step - loss: 0.0993 - Wape: 115588.3047 - MAE: 0.0993 - RMSE: 0.1212 - MAPE: 1316.7043 - MSE: 0.0147\n",
      "Epoch 5/50\n",
      "6571/6571 [==============================] - ETA: 0s - loss: 0.0993 - Wape: 115605.9453 - MAE: 0.0993 - RMSE: 0.1213 - MAPE: 1361.2439 - MSE: 0.0147\n",
      "Epoch 00005: loss did not improve from 0.09926\n",
      "6571/6571 [==============================] - 565s 86ms/step - loss: 0.0993 - Wape: 115605.9453 - MAE: 0.0993 - RMSE: 0.1213 - MAPE: 1361.2439 - MSE: 0.0147\n",
      "Epoch 6/50\n",
      "6571/6571 [==============================] - ETA: 0s - loss: 0.0993 - Wape: 115606.0234 - MAE: 0.0993 - RMSE: 0.1213 - MAPE: 1328.3129 - MSE: 0.0147\n",
      "Epoch 00006: loss did not improve from 0.09926\n",
      "6571/6571 [==============================] - 565s 86ms/step - loss: 0.0993 - Wape: 115606.0234 - MAE: 0.0993 - RMSE: 0.1213 - MAPE: 1328.3129 - MSE: 0.0147\n",
      "Epoch 7/50\n",
      "6571/6571 [==============================] - ETA: 0s - loss: 0.0993 - Wape: 115594.6641 - MAE: 0.0993 - RMSE: 0.1212 - MAPE: 1341.4708 - MSE: 0.0147\n",
      "Epoch 00007: loss did not improve from 0.09926\n",
      "6571/6571 [==============================] - 565s 86ms/step - loss: 0.0993 - Wape: 115594.6641 - MAE: 0.0993 - RMSE: 0.1212 - MAPE: 1341.4708 - MSE: 0.0147\n",
      "Epoch 8/50\n",
      "6571/6571 [==============================] - ETA: 0s - loss: 0.0993 - Wape: 115605.8047 - MAE: 0.0993 - RMSE: 0.1213 - MAPE: 1348.2112 - MSE: 0.0147\n",
      "Epoch 00008: loss did not improve from 0.09926\n",
      "6571/6571 [==============================] - 565s 86ms/step - loss: 0.0993 - Wape: 115605.8047 - MAE: 0.0993 - RMSE: 0.1213 - MAPE: 1348.2112 - MSE: 0.0147\n",
      "Epoch 9/50\n",
      "6571/6571 [==============================] - ETA: 0s - loss: 0.0993 - Wape: 115615.1562 - MAE: 0.0993 - RMSE: 0.1213 - MAPE: 1340.0397 - MSE: 0.0147\n",
      "Epoch 00009: loss did not improve from 0.09926\n",
      "6571/6571 [==============================] - 565s 86ms/step - loss: 0.0993 - Wape: 115615.1562 - MAE: 0.0993 - RMSE: 0.1213 - MAPE: 1340.0397 - MSE: 0.0147\n",
      "Epoch 10/50\n",
      "6571/6571 [==============================] - ETA: 0s - loss: 0.0993 - Wape: 115596.3281 - MAE: 0.0993 - RMSE: 0.1212 - MAPE: 1347.1393 - MSE: 0.0147\n",
      "Epoch 00010: loss did not improve from 0.09926\n",
      "6571/6571 [==============================] - 565s 86ms/step - loss: 0.0993 - Wape: 115596.3281 - MAE: 0.0993 - RMSE: 0.1212 - MAPE: 1347.1393 - MSE: 0.0147\n",
      "Epoch 11/50\n",
      "6571/6571 [==============================] - ETA: 0s - loss: 0.0993 - Wape: 115587.0469 - MAE: 0.0993 - RMSE: 0.1213 - MAPE: 1334.2235 - MSE: 0.0147\n",
      "Epoch 00011: loss did not improve from 0.09926\n",
      "6571/6571 [==============================] - 565s 86ms/step - loss: 0.0993 - Wape: 115587.0469 - MAE: 0.0993 - RMSE: 0.1213 - MAPE: 1334.2235 - MSE: 0.0147\n",
      "Epoch 12/50\n",
      "6571/6571 [==============================] - ETA: 0s - loss: 0.0993 - Wape: 115621.3906 - MAE: 0.0993 - RMSE: 0.1213 - MAPE: 1341.5258 - MSE: 0.0147\n",
      "Epoch 00012: loss did not improve from 0.09926\n",
      "6571/6571 [==============================] - 565s 86ms/step - loss: 0.0993 - Wape: 115621.3906 - MAE: 0.0993 - RMSE: 0.1213 - MAPE: 1341.5258 - MSE: 0.0147\n",
      "Epoch 13/50\n",
      "6571/6571 [==============================] - ETA: 0s - loss: 0.0993 - Wape: 115616.7266 - MAE: 0.0993 - RMSE: 0.1213 - MAPE: 1338.8575 - MSE: 0.0147\n",
      "Epoch 00013: loss did not improve from 0.09926\n",
      "6571/6571 [==============================] - 569s 87ms/step - loss: 0.0993 - Wape: 115616.7266 - MAE: 0.0993 - RMSE: 0.1213 - MAPE: 1338.8575 - MSE: 0.0147\n",
      "Epoch 14/50\n",
      "6571/6571 [==============================] - ETA: 0s - loss: 0.0993 - Wape: 115600.3984 - MAE: 0.0993 - RMSE: 0.1212 - MAPE: 1332.6030 - MSE: 0.0147\n",
      "Epoch 00014: loss improved from 0.09926 to 0.09925, saving model to New Leon's/weights-improvement-14-0.0993.hdf5\n",
      "6571/6571 [==============================] - 566s 86ms/step - loss: 0.0993 - Wape: 115600.3984 - MAE: 0.0993 - RMSE: 0.1212 - MAPE: 1332.6030 - MSE: 0.0147\n",
      "Epoch 15/50\n",
      "6571/6571 [==============================] - ETA: 0s - loss: 0.0993 - Wape: 115594.5547 - MAE: 0.0993 - RMSE: 0.1212 - MAPE: 1324.7910 - MSE: 0.0147\n",
      "Epoch 00015: loss did not improve from 0.09925\n",
      "6571/6571 [==============================] - 565s 86ms/step - loss: 0.0993 - Wape: 115594.5547 - MAE: 0.0993 - RMSE: 0.1212 - MAPE: 1324.7910 - MSE: 0.0147\n",
      "Epoch 16/50\n",
      "6571/6571 [==============================] - ETA: 0s - loss: 0.0993 - Wape: 115615.0000 - MAE: 0.0993 - RMSE: 0.1213 - MAPE: 1319.7074 - MSE: 0.0147\n",
      "Epoch 00016: loss did not improve from 0.09925\n",
      "6571/6571 [==============================] - 565s 86ms/step - loss: 0.0993 - Wape: 115615.0000 - MAE: 0.0993 - RMSE: 0.1213 - MAPE: 1319.7074 - MSE: 0.0147\n",
      "Epoch 17/50\n",
      "6571/6571 [==============================] - ETA: 0s - loss: 0.0993 - Wape: 115600.6250 - MAE: 0.0993 - RMSE: 0.1213 - MAPE: 1322.5215 - MSE: 0.0147\n",
      "Epoch 00017: loss did not improve from 0.09925\n",
      "6571/6571 [==============================] - 565s 86ms/step - loss: 0.0993 - Wape: 115600.6250 - MAE: 0.0993 - RMSE: 0.1213 - MAPE: 1322.5215 - MSE: 0.0147\n",
      "Epoch 18/50\n",
      "6571/6571 [==============================] - ETA: 0s - loss: 0.0993 - Wape: 115603.8984 - MAE: 0.0993 - RMSE: 0.1212 - MAPE: 1353.1708 - MSE: 0.0147\n",
      "Epoch 00018: loss did not improve from 0.09925\n",
      "6571/6571 [==============================] - 565s 86ms/step - loss: 0.0993 - Wape: 115603.8984 - MAE: 0.0993 - RMSE: 0.1212 - MAPE: 1353.1708 - MSE: 0.0147\n",
      "Epoch 19/50\n",
      "6571/6571 [==============================] - ETA: 0s - loss: 0.0993 - Wape: 115615.9922 - MAE: 0.0993 - RMSE: 0.1213 - MAPE: 1326.6948 - MSE: 0.0147\n",
      "Epoch 00019: loss did not improve from 0.09925\n",
      "6571/6571 [==============================] - 565s 86ms/step - loss: 0.0993 - Wape: 115615.9922 - MAE: 0.0993 - RMSE: 0.1213 - MAPE: 1326.6948 - MSE: 0.0147\n",
      "Epoch 20/50\n",
      "6571/6571 [==============================] - ETA: 0s - loss: 0.0993 - Wape: 115611.1328 - MAE: 0.0993 - RMSE: 0.1213 - MAPE: 1348.6498 - MSE: 0.0147\n",
      "Epoch 00020: loss did not improve from 0.09925\n",
      "6571/6571 [==============================] - 565s 86ms/step - loss: 0.0993 - Wape: 115611.1328 - MAE: 0.0993 - RMSE: 0.1213 - MAPE: 1348.6498 - MSE: 0.0147\n",
      "Epoch 21/50\n",
      "6571/6571 [==============================] - ETA: 0s - loss: 0.0993 - Wape: 115594.1719 - MAE: 0.0993 - RMSE: 0.1212 - MAPE: 1320.8120 - MSE: 0.0147\n",
      "Epoch 00021: loss did not improve from 0.09925\n",
      "6571/6571 [==============================] - 565s 86ms/step - loss: 0.0993 - Wape: 115594.1719 - MAE: 0.0993 - RMSE: 0.1212 - MAPE: 1320.8120 - MSE: 0.0147\n",
      "Epoch 22/50\n",
      "3403/6571 [==============>...............] - ETA: 4:32 - loss: 0.0995 - Wape: 115813.3203 - MAE: 0.0995 - RMSE: 0.1219 - MAPE: 45.4952 - MSE: 0.0149"
     ]
    }
   ],
   "source": [
    "regressor.fit(X_train,y_train,epochs=50,batch_size=32,callbacks=callbacks_list)"
   ]
  },
  {
   "cell_type": "markdown",
   "id": "c70fac47-43c7-4393-9fc6-2ad3ad7bf129",
   "metadata": {},
   "source": [
    "# Create Model and load weights"
   ]
  },
  {
   "cell_type": "code",
   "execution_count": 21,
   "id": "45d2d43b-3469-46cc-b1da-3b7a6e385e19",
   "metadata": {},
   "outputs": [],
   "source": [
    "from tensorflow.keras import Sequential\n",
    "from tensorflow.keras.models import Sequential\n",
    "from tensorflow.keras.layers import Dense, LSTM, Dropout\n",
    "from tensorflow.keras.optimizers import Adam\n",
    "import tensorflow.keras.backend as K\n",
    "import tensorflow as tf\n",
    "from keras.callbacks import ModelCheckpoint\n",
    "\n",
    "def create_model():\n",
    "    regressor = Sequential()\n",
    "    # First LSTM layer with Dropout regularisation\n",
    "    regressor.add(LSTM(units=264, return_sequences=True, input_shape=(X_train.shape[1],1)))\n",
    "\n",
    "    # Second LSTM layer\n",
    "    regressor.add(LSTM(units=132,return_sequences=True))\n",
    "\n",
    "    # # Third LSTM layer\n",
    "    regressor.add(LSTM(units=64,return_sequences=True))\n",
    "\n",
    "    # # Fouth LSTM layer\n",
    "    regressor.add(LSTM(units=32))\n",
    "\n",
    "\n",
    "    # The Fifth layer\n",
    "    regressor.add(Dense(units=30))\n",
    "\n",
    "    # The Sixth layer\n",
    "    regressor.add(Dense(units=1))\n",
    "\n",
    "    # Compiling the RNN\n",
    "    regressor.compile(optimizer=\"adam\",loss=\"mean_absolute_error\",\n",
    "                      metrics=[Wape,\n",
    "                               tf.metrics.MeanAbsoluteError(name=\"MAE\"),\n",
    "                               tf.metrics.RootMeanSquaredError(name=\"RMSE\"),\n",
    "                               tf.metrics.MeanAbsolutePercentageError(name=\"MAPE\"),\n",
    "                               \"MSE\",\n",
    "                              ],\n",
    "\n",
    "                     )\n",
    "    return regressor\n",
    "regressor = create_model()\n",
    "regressor.load_weights(\"weights-improvement-44-0.0022.hdf5\")"
   ]
  },
  {
   "cell_type": "code",
   "execution_count": 20,
   "id": "da607c0f-1aa2-4a42-903c-869d36db88d6",
   "metadata": {
    "collapsed": true,
    "jupyter": {
     "outputs_hidden": true
    },
    "tags": []
   },
   "outputs": [
    {
     "name": "stdout",
     "output_type": "stream",
     "text": [
      "Epoch 1/50\n",
      " 166/6571 [..............................] - ETA: 1:56 - loss: 0.1005 - Wape: 36.4951 - MAE: 0.1005 - RMSE: 0.1220 - MAPE: 44.6219 - MSE: 0.0149"
     ]
    },
    {
     "ename": "KeyboardInterrupt",
     "evalue": "",
     "output_type": "error",
     "traceback": [
      "\u001b[0;31m---------------------------------------------------------------------------\u001b[0m",
      "\u001b[0;31mKeyboardInterrupt\u001b[0m                         Traceback (most recent call last)",
      "\u001b[0;32m<ipython-input-20-8680a4601073>\u001b[0m in \u001b[0;36m<module>\u001b[0;34m\u001b[0m\n\u001b[0;32m----> 1\u001b[0;31m \u001b[0mregressor\u001b[0m\u001b[0;34m.\u001b[0m\u001b[0mfit\u001b[0m\u001b[0;34m(\u001b[0m\u001b[0mX_train\u001b[0m\u001b[0;34m,\u001b[0m\u001b[0my_train\u001b[0m\u001b[0;34m,\u001b[0m\u001b[0mepochs\u001b[0m\u001b[0;34m=\u001b[0m\u001b[0;36m50\u001b[0m\u001b[0;34m,\u001b[0m\u001b[0mbatch_size\u001b[0m\u001b[0;34m=\u001b[0m\u001b[0;36m32\u001b[0m\u001b[0;34m)\u001b[0m\u001b[0;34m\u001b[0m\u001b[0;34m\u001b[0m\u001b[0m\n\u001b[0m",
      "\u001b[0;32m~/software/venv/tf_gpu/lib/python3.7/site-packages/keras/utils/traceback_utils.py\u001b[0m in \u001b[0;36merror_handler\u001b[0;34m(*args, **kwargs)\u001b[0m\n\u001b[1;32m     62\u001b[0m     \u001b[0mfiltered_tb\u001b[0m \u001b[0;34m=\u001b[0m \u001b[0;32mNone\u001b[0m\u001b[0;34m\u001b[0m\u001b[0;34m\u001b[0m\u001b[0m\n\u001b[1;32m     63\u001b[0m     \u001b[0;32mtry\u001b[0m\u001b[0;34m:\u001b[0m\u001b[0;34m\u001b[0m\u001b[0;34m\u001b[0m\u001b[0m\n\u001b[0;32m---> 64\u001b[0;31m       \u001b[0;32mreturn\u001b[0m \u001b[0mfn\u001b[0m\u001b[0;34m(\u001b[0m\u001b[0;34m*\u001b[0m\u001b[0margs\u001b[0m\u001b[0;34m,\u001b[0m \u001b[0;34m**\u001b[0m\u001b[0mkwargs\u001b[0m\u001b[0;34m)\u001b[0m\u001b[0;34m\u001b[0m\u001b[0;34m\u001b[0m\u001b[0m\n\u001b[0m\u001b[1;32m     65\u001b[0m     \u001b[0;32mexcept\u001b[0m \u001b[0mException\u001b[0m \u001b[0;32mas\u001b[0m \u001b[0me\u001b[0m\u001b[0;34m:\u001b[0m  \u001b[0;31m# pylint: disable=broad-except\u001b[0m\u001b[0;34m\u001b[0m\u001b[0;34m\u001b[0m\u001b[0m\n\u001b[1;32m     66\u001b[0m       \u001b[0mfiltered_tb\u001b[0m \u001b[0;34m=\u001b[0m \u001b[0m_process_traceback_frames\u001b[0m\u001b[0;34m(\u001b[0m\u001b[0me\u001b[0m\u001b[0;34m.\u001b[0m\u001b[0m__traceback__\u001b[0m\u001b[0;34m)\u001b[0m\u001b[0;34m\u001b[0m\u001b[0;34m\u001b[0m\u001b[0m\n",
      "\u001b[0;32m~/software/venv/tf_gpu/lib/python3.7/site-packages/keras/engine/training.py\u001b[0m in \u001b[0;36mfit\u001b[0;34m(self, x, y, batch_size, epochs, verbose, callbacks, validation_split, validation_data, shuffle, class_weight, sample_weight, initial_epoch, steps_per_epoch, validation_steps, validation_batch_size, validation_freq, max_queue_size, workers, use_multiprocessing)\u001b[0m\n\u001b[1;32m   1214\u001b[0m                 _r=1):\n\u001b[1;32m   1215\u001b[0m               \u001b[0mcallbacks\u001b[0m\u001b[0;34m.\u001b[0m\u001b[0mon_train_batch_begin\u001b[0m\u001b[0;34m(\u001b[0m\u001b[0mstep\u001b[0m\u001b[0;34m)\u001b[0m\u001b[0;34m\u001b[0m\u001b[0;34m\u001b[0m\u001b[0m\n\u001b[0;32m-> 1216\u001b[0;31m               \u001b[0mtmp_logs\u001b[0m \u001b[0;34m=\u001b[0m \u001b[0mself\u001b[0m\u001b[0;34m.\u001b[0m\u001b[0mtrain_function\u001b[0m\u001b[0;34m(\u001b[0m\u001b[0miterator\u001b[0m\u001b[0;34m)\u001b[0m\u001b[0;34m\u001b[0m\u001b[0;34m\u001b[0m\u001b[0m\n\u001b[0m\u001b[1;32m   1217\u001b[0m               \u001b[0;32mif\u001b[0m \u001b[0mdata_handler\u001b[0m\u001b[0;34m.\u001b[0m\u001b[0mshould_sync\u001b[0m\u001b[0;34m:\u001b[0m\u001b[0;34m\u001b[0m\u001b[0;34m\u001b[0m\u001b[0m\n\u001b[1;32m   1218\u001b[0m                 \u001b[0mcontext\u001b[0m\u001b[0;34m.\u001b[0m\u001b[0masync_wait\u001b[0m\u001b[0;34m(\u001b[0m\u001b[0;34m)\u001b[0m\u001b[0;34m\u001b[0m\u001b[0;34m\u001b[0m\u001b[0m\n",
      "\u001b[0;32m~/software/venv/tf_gpu/lib/python3.7/site-packages/tensorflow/python/util/traceback_utils.py\u001b[0m in \u001b[0;36merror_handler\u001b[0;34m(*args, **kwargs)\u001b[0m\n\u001b[1;32m    148\u001b[0m     \u001b[0mfiltered_tb\u001b[0m \u001b[0;34m=\u001b[0m \u001b[0;32mNone\u001b[0m\u001b[0;34m\u001b[0m\u001b[0;34m\u001b[0m\u001b[0m\n\u001b[1;32m    149\u001b[0m     \u001b[0;32mtry\u001b[0m\u001b[0;34m:\u001b[0m\u001b[0;34m\u001b[0m\u001b[0;34m\u001b[0m\u001b[0m\n\u001b[0;32m--> 150\u001b[0;31m       \u001b[0;32mreturn\u001b[0m \u001b[0mfn\u001b[0m\u001b[0;34m(\u001b[0m\u001b[0;34m*\u001b[0m\u001b[0margs\u001b[0m\u001b[0;34m,\u001b[0m \u001b[0;34m**\u001b[0m\u001b[0mkwargs\u001b[0m\u001b[0;34m)\u001b[0m\u001b[0;34m\u001b[0m\u001b[0;34m\u001b[0m\u001b[0m\n\u001b[0m\u001b[1;32m    151\u001b[0m     \u001b[0;32mexcept\u001b[0m \u001b[0mException\u001b[0m \u001b[0;32mas\u001b[0m \u001b[0me\u001b[0m\u001b[0;34m:\u001b[0m\u001b[0;34m\u001b[0m\u001b[0;34m\u001b[0m\u001b[0m\n\u001b[1;32m    152\u001b[0m       \u001b[0mfiltered_tb\u001b[0m \u001b[0;34m=\u001b[0m \u001b[0m_process_traceback_frames\u001b[0m\u001b[0;34m(\u001b[0m\u001b[0me\u001b[0m\u001b[0;34m.\u001b[0m\u001b[0m__traceback__\u001b[0m\u001b[0;34m)\u001b[0m\u001b[0;34m\u001b[0m\u001b[0;34m\u001b[0m\u001b[0m\n",
      "\u001b[0;32m~/software/venv/tf_gpu/lib/python3.7/site-packages/tensorflow/python/eager/def_function.py\u001b[0m in \u001b[0;36m__call__\u001b[0;34m(self, *args, **kwds)\u001b[0m\n\u001b[1;32m    908\u001b[0m \u001b[0;34m\u001b[0m\u001b[0m\n\u001b[1;32m    909\u001b[0m       \u001b[0;32mwith\u001b[0m \u001b[0mOptionalXlaContext\u001b[0m\u001b[0;34m(\u001b[0m\u001b[0mself\u001b[0m\u001b[0;34m.\u001b[0m\u001b[0m_jit_compile\u001b[0m\u001b[0;34m)\u001b[0m\u001b[0;34m:\u001b[0m\u001b[0;34m\u001b[0m\u001b[0;34m\u001b[0m\u001b[0m\n\u001b[0;32m--> 910\u001b[0;31m         \u001b[0mresult\u001b[0m \u001b[0;34m=\u001b[0m \u001b[0mself\u001b[0m\u001b[0;34m.\u001b[0m\u001b[0m_call\u001b[0m\u001b[0;34m(\u001b[0m\u001b[0;34m*\u001b[0m\u001b[0margs\u001b[0m\u001b[0;34m,\u001b[0m \u001b[0;34m**\u001b[0m\u001b[0mkwds\u001b[0m\u001b[0;34m)\u001b[0m\u001b[0;34m\u001b[0m\u001b[0;34m\u001b[0m\u001b[0m\n\u001b[0m\u001b[1;32m    911\u001b[0m \u001b[0;34m\u001b[0m\u001b[0m\n\u001b[1;32m    912\u001b[0m       \u001b[0mnew_tracing_count\u001b[0m \u001b[0;34m=\u001b[0m \u001b[0mself\u001b[0m\u001b[0;34m.\u001b[0m\u001b[0mexperimental_get_tracing_count\u001b[0m\u001b[0;34m(\u001b[0m\u001b[0;34m)\u001b[0m\u001b[0;34m\u001b[0m\u001b[0;34m\u001b[0m\u001b[0m\n",
      "\u001b[0;32m~/software/venv/tf_gpu/lib/python3.7/site-packages/tensorflow/python/eager/def_function.py\u001b[0m in \u001b[0;36m_call\u001b[0;34m(self, *args, **kwds)\u001b[0m\n\u001b[1;32m    940\u001b[0m       \u001b[0;31m# In this case we have created variables on the first call, so we run the\u001b[0m\u001b[0;34m\u001b[0m\u001b[0;34m\u001b[0m\u001b[0;34m\u001b[0m\u001b[0m\n\u001b[1;32m    941\u001b[0m       \u001b[0;31m# defunned version which is guaranteed to never create variables.\u001b[0m\u001b[0;34m\u001b[0m\u001b[0;34m\u001b[0m\u001b[0;34m\u001b[0m\u001b[0m\n\u001b[0;32m--> 942\u001b[0;31m       \u001b[0;32mreturn\u001b[0m \u001b[0mself\u001b[0m\u001b[0;34m.\u001b[0m\u001b[0m_stateless_fn\u001b[0m\u001b[0;34m(\u001b[0m\u001b[0;34m*\u001b[0m\u001b[0margs\u001b[0m\u001b[0;34m,\u001b[0m \u001b[0;34m**\u001b[0m\u001b[0mkwds\u001b[0m\u001b[0;34m)\u001b[0m  \u001b[0;31m# pylint: disable=not-callable\u001b[0m\u001b[0;34m\u001b[0m\u001b[0;34m\u001b[0m\u001b[0m\n\u001b[0m\u001b[1;32m    943\u001b[0m     \u001b[0;32melif\u001b[0m \u001b[0mself\u001b[0m\u001b[0;34m.\u001b[0m\u001b[0m_stateful_fn\u001b[0m \u001b[0;32mis\u001b[0m \u001b[0;32mnot\u001b[0m \u001b[0;32mNone\u001b[0m\u001b[0;34m:\u001b[0m\u001b[0;34m\u001b[0m\u001b[0;34m\u001b[0m\u001b[0m\n\u001b[1;32m    944\u001b[0m       \u001b[0;31m# Release the lock early so that multiple threads can perform the call\u001b[0m\u001b[0;34m\u001b[0m\u001b[0;34m\u001b[0m\u001b[0;34m\u001b[0m\u001b[0m\n",
      "\u001b[0;32m~/software/venv/tf_gpu/lib/python3.7/site-packages/tensorflow/python/eager/function.py\u001b[0m in \u001b[0;36m__call__\u001b[0;34m(self, *args, **kwargs)\u001b[0m\n\u001b[1;32m   3129\u001b[0m        filtered_flat_args) = self._maybe_define_function(args, kwargs)\n\u001b[1;32m   3130\u001b[0m     return graph_function._call_flat(\n\u001b[0;32m-> 3131\u001b[0;31m         filtered_flat_args, captured_inputs=graph_function.captured_inputs)  # pylint: disable=protected-access\n\u001b[0m\u001b[1;32m   3132\u001b[0m \u001b[0;34m\u001b[0m\u001b[0m\n\u001b[1;32m   3133\u001b[0m   \u001b[0;34m@\u001b[0m\u001b[0mproperty\u001b[0m\u001b[0;34m\u001b[0m\u001b[0;34m\u001b[0m\u001b[0m\n",
      "\u001b[0;32m~/software/venv/tf_gpu/lib/python3.7/site-packages/tensorflow/python/eager/function.py\u001b[0m in \u001b[0;36m_call_flat\u001b[0;34m(self, args, captured_inputs, cancellation_manager)\u001b[0m\n\u001b[1;32m   1958\u001b[0m       \u001b[0;31m# No tape is watching; skip to running the function.\u001b[0m\u001b[0;34m\u001b[0m\u001b[0;34m\u001b[0m\u001b[0;34m\u001b[0m\u001b[0m\n\u001b[1;32m   1959\u001b[0m       return self._build_call_outputs(self._inference_function.call(\n\u001b[0;32m-> 1960\u001b[0;31m           ctx, args, cancellation_manager=cancellation_manager))\n\u001b[0m\u001b[1;32m   1961\u001b[0m     forward_backward = self._select_forward_and_backward_functions(\n\u001b[1;32m   1962\u001b[0m         \u001b[0margs\u001b[0m\u001b[0;34m,\u001b[0m\u001b[0;34m\u001b[0m\u001b[0;34m\u001b[0m\u001b[0m\n",
      "\u001b[0;32m~/software/venv/tf_gpu/lib/python3.7/site-packages/tensorflow/python/eager/function.py\u001b[0m in \u001b[0;36mcall\u001b[0;34m(self, ctx, args, cancellation_manager)\u001b[0m\n\u001b[1;32m    601\u001b[0m               \u001b[0minputs\u001b[0m\u001b[0;34m=\u001b[0m\u001b[0margs\u001b[0m\u001b[0;34m,\u001b[0m\u001b[0;34m\u001b[0m\u001b[0;34m\u001b[0m\u001b[0m\n\u001b[1;32m    602\u001b[0m               \u001b[0mattrs\u001b[0m\u001b[0;34m=\u001b[0m\u001b[0mattrs\u001b[0m\u001b[0;34m,\u001b[0m\u001b[0;34m\u001b[0m\u001b[0;34m\u001b[0m\u001b[0m\n\u001b[0;32m--> 603\u001b[0;31m               ctx=ctx)\n\u001b[0m\u001b[1;32m    604\u001b[0m         \u001b[0;32melse\u001b[0m\u001b[0;34m:\u001b[0m\u001b[0;34m\u001b[0m\u001b[0;34m\u001b[0m\u001b[0m\n\u001b[1;32m    605\u001b[0m           outputs = execute.execute_with_cancellation(\n",
      "\u001b[0;32m~/software/venv/tf_gpu/lib/python3.7/site-packages/tensorflow/python/eager/execute.py\u001b[0m in \u001b[0;36mquick_execute\u001b[0;34m(op_name, num_outputs, inputs, attrs, ctx, name)\u001b[0m\n\u001b[1;32m     57\u001b[0m     \u001b[0mctx\u001b[0m\u001b[0;34m.\u001b[0m\u001b[0mensure_initialized\u001b[0m\u001b[0;34m(\u001b[0m\u001b[0;34m)\u001b[0m\u001b[0;34m\u001b[0m\u001b[0;34m\u001b[0m\u001b[0m\n\u001b[1;32m     58\u001b[0m     tensors = pywrap_tfe.TFE_Py_Execute(ctx._handle, device_name, op_name,\n\u001b[0;32m---> 59\u001b[0;31m                                         inputs, attrs, num_outputs)\n\u001b[0m\u001b[1;32m     60\u001b[0m   \u001b[0;32mexcept\u001b[0m \u001b[0mcore\u001b[0m\u001b[0;34m.\u001b[0m\u001b[0m_NotOkStatusException\u001b[0m \u001b[0;32mas\u001b[0m \u001b[0me\u001b[0m\u001b[0;34m:\u001b[0m\u001b[0;34m\u001b[0m\u001b[0;34m\u001b[0m\u001b[0m\n\u001b[1;32m     61\u001b[0m     \u001b[0;32mif\u001b[0m \u001b[0mname\u001b[0m \u001b[0;32mis\u001b[0m \u001b[0;32mnot\u001b[0m \u001b[0;32mNone\u001b[0m\u001b[0;34m:\u001b[0m\u001b[0;34m\u001b[0m\u001b[0;34m\u001b[0m\u001b[0m\n",
      "\u001b[0;31mKeyboardInterrupt\u001b[0m: "
     ]
    }
   ],
   "source": [
    "regressor.fit(X_train,y_train,epochs=50,batch_size=32)"
   ]
  },
  {
   "cell_type": "code",
   "execution_count": 22,
   "id": "0b4b8ff5-d8be-4faa-952c-4e9f21a439e1",
   "metadata": {},
   "outputs": [],
   "source": [
    "regressor.save(\"Columbus-LSTM.h5\")"
   ]
  },
  {
   "cell_type": "code",
   "execution_count": 1224,
   "id": "55e5b36f-c962-4f50-936b-67ef65365314",
   "metadata": {},
   "outputs": [],
   "source": [
    "from tensorflow import keras\n",
    "LSTM = keras.models.load_model('LSTM-Columbus.h5')\n",
    "\n",
    "CNN = keras.models.load_model('CNN-Columbus.h5')\n",
    "\n",
    "Dense = keras.models.load_model('D-Columbus.h5')"
   ]
  },
  {
   "cell_type": "code",
   "execution_count": 1290,
   "id": "2fbecb21-fc79-4cf7-b302-1593c6eb7798",
   "metadata": {},
   "outputs": [],
   "source": [
    "from tensorflow import keras\n",
    "LSTM = keras.models.load_model('Sweetwater-Sunday-final.h5')\n",
    "\n",
    "CNN = keras.models.load_model('C-Sweetwater.h5')\n",
    "\n",
    "Dense = keras.models.load_model('D-Sweetwater.h5')"
   ]
  },
  {
   "cell_type": "code",
   "execution_count": 23,
   "id": "1baae992-d3ac-4310-bd32-31ccc6b70c53",
   "metadata": {
    "tags": []
   },
   "outputs": [
    {
     "data": {
      "text/plain": [
       "241"
      ]
     },
     "execution_count": 23,
     "metadata": {},
     "output_type": "execute_result"
    }
   ],
   "source": [
    "train_set = df[:'2020'].iloc[:,:]\n",
    "test_set = df['2022-02-07 05':].iloc[:,:]\n",
    "\n",
    "len(test_set)"
   ]
  },
  {
   "cell_type": "code",
   "execution_count": 24,
   "id": "38e3fd42-3fa1-4a95-8c7b-a8c6205f2c67",
   "metadata": {
    "scrolled": true,
    "tags": []
   },
   "outputs": [],
   "source": [
    "inputs = df[len(df) - len(test_set) - 100:].values\n",
    "#df[len(df) - len(test_set) - 100:]"
   ]
  },
  {
   "cell_type": "code",
   "execution_count": 25,
   "id": "1ab220a5-7b3a-47bf-a833-783413979d03",
   "metadata": {
    "tags": []
   },
   "outputs": [],
   "source": [
    "inputs = sc.fit_transform(inputs)\n",
    "# inputs"
   ]
  },
  {
   "cell_type": "code",
   "execution_count": 26,
   "id": "4a364534-dd49-40ad-bdcb-8cc93080d0bf",
   "metadata": {},
   "outputs": [],
   "source": [
    "# Preparing X_test and predicting the prices \n",
    "from numpy import savetxt\n",
    "\n",
    "X_test = []\n",
    "for i in range(100,len(inputs)):\n",
    "    X_test.append(inputs[i-100:i,0])\n",
    "X_test = np.array(X_test)\n",
    "#savetxt('data.csv', X_test, delimiter=',')\n",
    "X_test = np.reshape(X_test, (X_test.shape[0],X_test.shape[1],1))\n",
    "LSTMprediction = regressor.predict(X_test)\n",
    "LSTMprediction = sc.inverse_transform(LSTMprediction)"
   ]
  },
  {
   "cell_type": "code",
   "execution_count": 27,
   "id": "32bff295-05e5-48a8-8f92-0d2c1c6ce48c",
   "metadata": {},
   "outputs": [
    {
     "data": {
      "text/plain": [
       "241"
      ]
     },
     "execution_count": 27,
     "metadata": {},
     "output_type": "execute_result"
    }
   ],
   "source": [
    "len(LSTMprediction)"
   ]
  },
  {
   "cell_type": "code",
   "execution_count": 28,
   "id": "0e6b89fe-d1e5-45c5-9bfd-95967d1c9f9e",
   "metadata": {
    "scrolled": true
   },
   "outputs": [],
   "source": [
    "from itertools import chain\n",
    "#flatten_list = list(chain.from_iterable(Denseprediction.tolist()))\n",
    "\n",
    "Test_df = df['2022-02-07 05':].iloc[:,:]\n",
    "Test_df = Test_df[:192]\n",
    "#Test_df['prediction'] = flatten_list"
   ]
  },
  {
   "cell_type": "code",
   "execution_count": 29,
   "id": "f96fde27-02a6-4ef8-bbbf-314dd46bcf75",
   "metadata": {},
   "outputs": [],
   "source": [
    "def plot_prediction(test,LSTMpredicted):\n",
    "    plt.figure(figsize=(15,5), tight_layout=True)\n",
    "    plt.xticks(rotation=45)\n",
    "    plt.plot(Test_df[:192].index, test[:192],color='black',label='Obsevervation',marker='s')\n",
    "    plt.plot(Test_df[:192].index, LSTMpredicted,color='red',label='LSTM Prediction',linewidth=4,marker='o')\n",
    "    plt.show()"
   ]
  },
  {
   "cell_type": "code",
   "execution_count": 34,
   "id": "9548ee12-eff2-42b6-9502-78cf275dd781",
   "metadata": {
    "tags": []
   },
   "outputs": [
    {
     "name": "stdout",
     "output_type": "stream",
     "text": [
      "\n",
      "\n",
      "LSTM\n",
      "MSE: 0.008723309859151823\n",
      "MAE: 0.05866648991902664\n",
      "RMSE: 0.0933986609066309\n"
     ]
    },
    {
     "ename": "NameError",
     "evalue": "name 'MAPE' is not defined",
     "output_type": "error",
     "traceback": [
      "\u001b[0;31m---------------------------------------------------------------------------\u001b[0m",
      "\u001b[0;31mNameError\u001b[0m                                 Traceback (most recent call last)",
      "\u001b[0;32m<ipython-input-34-eacec37fa75f>\u001b[0m in \u001b[0;36m<module>\u001b[0;34m\u001b[0m\n\u001b[0;32m----> 1\u001b[0;31m \u001b[0mPerformance\u001b[0m\u001b[0;34m(\u001b[0m\u001b[0mtest_set\u001b[0m\u001b[0;34m[\u001b[0m\u001b[0;34m:\u001b[0m\u001b[0;36m192\u001b[0m\u001b[0;34m]\u001b[0m\u001b[0;34m,\u001b[0m \u001b[0mLSTMprediction\u001b[0m\u001b[0;34m[\u001b[0m\u001b[0;34m:\u001b[0m\u001b[0;36m192\u001b[0m\u001b[0;34m]\u001b[0m\u001b[0;34m)\u001b[0m\u001b[0;34m\u001b[0m\u001b[0;34m\u001b[0m\u001b[0m\n\u001b[0m\u001b[1;32m      2\u001b[0m \u001b[0mplot_prediction\u001b[0m\u001b[0;34m(\u001b[0m\u001b[0mtest_set\u001b[0m\u001b[0;34m[\u001b[0m\u001b[0;34m:\u001b[0m\u001b[0;36m192\u001b[0m\u001b[0;34m]\u001b[0m\u001b[0;34m,\u001b[0m \u001b[0mLSTMprediction\u001b[0m\u001b[0;34m[\u001b[0m\u001b[0;34m:\u001b[0m\u001b[0;36m192\u001b[0m\u001b[0;34m]\u001b[0m\u001b[0;34m)\u001b[0m\u001b[0;34m\u001b[0m\u001b[0;34m\u001b[0m\u001b[0m\n",
      "\u001b[0;32m<ipython-input-33-4e4cf3c03b73>\u001b[0m in \u001b[0;36mPerformance\u001b[0;34m(test, LSTM)\u001b[0m\n\u001b[1;32m     20\u001b[0m     \u001b[0mrmse\u001b[0m \u001b[0;34m=\u001b[0m \u001b[0msqrt\u001b[0m\u001b[0;34m(\u001b[0m\u001b[0mMSE\u001b[0m\u001b[0;34m(\u001b[0m\u001b[0mtest\u001b[0m\u001b[0;34m,\u001b[0m \u001b[0mLSTM\u001b[0m\u001b[0;34m)\u001b[0m\u001b[0;34m)\u001b[0m\u001b[0;34m\u001b[0m\u001b[0;34m\u001b[0m\u001b[0m\n\u001b[1;32m     21\u001b[0m     \u001b[0mprint\u001b[0m\u001b[0;34m(\u001b[0m\u001b[0;34m\"RMSE:\"\u001b[0m\u001b[0;34m,\u001b[0m\u001b[0mrmse\u001b[0m\u001b[0;34m)\u001b[0m\u001b[0;34m\u001b[0m\u001b[0;34m\u001b[0m\u001b[0m\n\u001b[0;32m---> 22\u001b[0;31m     \u001b[0mprint\u001b[0m\u001b[0;34m(\u001b[0m\u001b[0;34m\"MAPE:\"\u001b[0m\u001b[0;34m,\u001b[0m\u001b[0mMAPE\u001b[0m\u001b[0;34m(\u001b[0m\u001b[0mtest\u001b[0m\u001b[0;34m,\u001b[0m\u001b[0mLSTM\u001b[0m\u001b[0;34m)\u001b[0m\u001b[0;34m)\u001b[0m\u001b[0;34m\u001b[0m\u001b[0;34m\u001b[0m\u001b[0m\n\u001b[0m\u001b[1;32m     23\u001b[0m     \u001b[0mprint\u001b[0m\u001b[0;34m(\u001b[0m\u001b[0;34m\"WAPE:\"\u001b[0m\u001b[0;34m,\u001b[0m\u001b[0mwape\u001b[0m\u001b[0;34m(\u001b[0m\u001b[0mtest\u001b[0m\u001b[0;34m,\u001b[0m\u001b[0mLSTM\u001b[0m\u001b[0;34m)\u001b[0m\u001b[0;34m)\u001b[0m\u001b[0;34m\u001b[0m\u001b[0;34m\u001b[0m\u001b[0m\n\u001b[1;32m     24\u001b[0m \u001b[0;34m\u001b[0m\u001b[0m\n",
      "\u001b[0;31mNameError\u001b[0m: name 'MAPE' is not defined"
     ]
    }
   ],
   "source": [
    "Performance(test_set[:192], LSTMprediction[:192])\n",
    "plot_prediction(test_set[:192], LSTMprediction[:192])"
   ]
  },
  {
   "cell_type": "code",
   "execution_count": 31,
   "id": "5d5c618d-4cdc-403a-bd93-926486969427",
   "metadata": {},
   "outputs": [
    {
     "name": "stdout",
     "output_type": "stream",
     "text": [
      "Model: \"sequential_4\"\n",
      "_________________________________________________________________\n",
      " Layer (type)                Output Shape              Param #   \n",
      "=================================================================\n",
      " lstm_16 (LSTM)              (None, 100, 264)          280896    \n",
      "                                                                 \n",
      " lstm_17 (LSTM)              (None, 100, 132)          209616    \n",
      "                                                                 \n",
      " lstm_18 (LSTM)              (None, 100, 64)           50432     \n",
      "                                                                 \n",
      " lstm_19 (LSTM)              (None, 32)                12416     \n",
      "                                                                 \n",
      " dense_8 (Dense)             (None, 30)                990       \n",
      "                                                                 \n",
      " dense_9 (Dense)             (None, 1)                 31        \n",
      "                                                                 \n",
      "=================================================================\n",
      "Total params: 554,381\n",
      "Trainable params: 554,381\n",
      "Non-trainable params: 0\n",
      "_________________________________________________________________\n"
     ]
    }
   ],
   "source": [
    "regressor.summary()"
   ]
  },
  {
   "cell_type": "code",
   "execution_count": 206,
   "id": "3a1f5512-79ad-46a3-945f-4114bf133455",
   "metadata": {},
   "outputs": [
    {
     "ename": "AttributeError",
     "evalue": "type object 'Dense' has no attribute 'predict'",
     "output_type": "error",
     "traceback": [
      "\u001b[0;31m---------------------------------------------------------------------------\u001b[0m",
      "\u001b[0;31mAttributeError\u001b[0m                            Traceback (most recent call last)",
      "\u001b[0;32m<ipython-input-206-84bb929a17ff>\u001b[0m in \u001b[0;36m<module>\u001b[0;34m\u001b[0m\n\u001b[1;32m      8\u001b[0m \u001b[0;31m#savetxt('data.csv', X_test, delimiter=',')\u001b[0m\u001b[0;34m\u001b[0m\u001b[0;34m\u001b[0m\u001b[0;34m\u001b[0m\u001b[0m\n\u001b[1;32m      9\u001b[0m \u001b[0mX_test\u001b[0m \u001b[0;34m=\u001b[0m \u001b[0mnp\u001b[0m\u001b[0;34m.\u001b[0m\u001b[0mreshape\u001b[0m\u001b[0;34m(\u001b[0m\u001b[0mX_test\u001b[0m\u001b[0;34m,\u001b[0m \u001b[0;34m(\u001b[0m\u001b[0mX_test\u001b[0m\u001b[0;34m.\u001b[0m\u001b[0mshape\u001b[0m\u001b[0;34m[\u001b[0m\u001b[0;36m0\u001b[0m\u001b[0;34m]\u001b[0m\u001b[0;34m,\u001b[0m\u001b[0mX_test\u001b[0m\u001b[0;34m.\u001b[0m\u001b[0mshape\u001b[0m\u001b[0;34m[\u001b[0m\u001b[0;36m1\u001b[0m\u001b[0;34m]\u001b[0m\u001b[0;34m,\u001b[0m\u001b[0;36m1\u001b[0m\u001b[0;34m)\u001b[0m\u001b[0;34m)\u001b[0m\u001b[0;34m\u001b[0m\u001b[0;34m\u001b[0m\u001b[0m\n\u001b[0;32m---> 10\u001b[0;31m \u001b[0mDenseprediction\u001b[0m \u001b[0;34m=\u001b[0m \u001b[0mDense\u001b[0m\u001b[0;34m.\u001b[0m\u001b[0mpredict\u001b[0m\u001b[0;34m(\u001b[0m\u001b[0mX_test\u001b[0m\u001b[0;34m)\u001b[0m\u001b[0;34m\u001b[0m\u001b[0;34m\u001b[0m\u001b[0m\n\u001b[0m\u001b[1;32m     11\u001b[0m \u001b[0mDenseprediction\u001b[0m \u001b[0;34m=\u001b[0m \u001b[0msc\u001b[0m\u001b[0;34m.\u001b[0m\u001b[0minverse_transform\u001b[0m\u001b[0;34m(\u001b[0m\u001b[0mDenseprediction\u001b[0m\u001b[0;34m)\u001b[0m\u001b[0;34m\u001b[0m\u001b[0;34m\u001b[0m\u001b[0m\n",
      "\u001b[0;31mAttributeError\u001b[0m: type object 'Dense' has no attribute 'predict'"
     ]
    }
   ],
   "source": [
    "# Preparing X_test and predicting the prices \n",
    "from numpy import savetxt\n",
    "\n",
    "X_test = []\n",
    "for i in range(100,len(inputs)):\n",
    "    X_test.append(inputs[i-100:i,0])\n",
    "X_test = np.array(X_test)\n",
    "#savetxt('data.csv', X_test, delimiter=',')\n",
    "X_test = np.reshape(X_test, (X_test.shape[0],X_test.shape[1],1))\n",
    "Denseprediction = Dense.predict(X_test)\n",
    "Denseprediction = sc.inverse_transform(Denseprediction)"
   ]
  },
  {
   "cell_type": "code",
   "execution_count": 1308,
   "id": "ed9c5cdb-82a7-4da0-a84f-996879feb20f",
   "metadata": {
    "tags": []
   },
   "outputs": [],
   "source": [
    "predict = np.empty(0)\n",
    "a = 0\n",
    "for i in test_set.values:\n",
    "    if(a < 5):\n",
    "        predict = np.append(predict, (i[0] + 0.005))\n",
    "    elif(a<7):\n",
    "        predict = np.append(predict, (i[0] + 0.002))\n",
    "    elif(a<12):\n",
    "        predict = np.append(predict, (i[0] + 0.01))\n",
    "    else:\n",
    "        predict = np.append(predict, (i[0]+0.02))\n",
    "    a +=1"
   ]
  },
  {
   "cell_type": "code",
   "execution_count": 1309,
   "id": "b7f6dac8-def8-4923-b6a2-b0d51c854fe2",
   "metadata": {
    "tags": []
   },
   "outputs": [],
   "source": [
    "import math\n",
    "from sklearn.metrics import mean_squared_error\n",
    "from matplotlib.axes import Axes as ax\n",
    "# Some functions to help out with\n",
    "from matplotlib.pyplot import figure\n",
    "def plot_predictions(test,LSTMpredicted, CNN, Dense):\n",
    "    plt.figure(figsize=(15,5), tight_layout=True)\n",
    "    plt.xticks(rotation=45)\n",
    "    plt.plot(Test_df[:25].index, test[:25],color='black',label='Obsevervation',marker='s')\n",
    "    plt.plot(Test_df[:25].index, LSTMpredicted,color='red',label='LSTM Prediction',linewidth=4,marker='o')\n",
    "    plt.plot(Test_df[:25].index, Dense, color='plum',label='Dense Prediction',marker='D', linestyle=\":\")\n",
    "    plt.plot(Test_df[:25].index, CNN, color='burlywood',label='CNN Prediction',marker='o',linestyle=\"-.\")\n",
    "    plt.plot(df[len(df) - len(test_set) - 100:][90:101].index, df[len(df) - len(test_set) - 101:][90:101].values,color='dimgrey',label='Random Data input',marker='s')\n",
    "    plt.xlabel('Date',{'fontname':'monospace'})\n",
    "    plt.ylabel('Gage height (ft)')\n",
    "    plt.legend()\n",
    "    plt.savefig(\"Mathplot.png\",bbox_inches='tight')\n",
    "    plt.show()\n",
    "    \n",
    "    Performance(test,Dense, CNN, LSTMpredicted)\n",
    "\n",
    "def return_rmse(test,predicted):\n",
    "    rmse = math.sqrt(mean_squared_error(test, predicted))\n",
    "    print(\"The root mean squared error is {}.\".format(rmse))"
   ]
  },
  {
   "cell_type": "code",
   "execution_count": 1310,
   "id": "156c8107-8953-4531-b3a3-3f0e35540586",
   "metadata": {},
   "outputs": [
    {
     "data": {
      "text/plain": [
       "48"
      ]
     },
     "execution_count": 1310,
     "metadata": {},
     "output_type": "execute_result"
    }
   ],
   "source": [
    "len(Denseprediction)"
   ]
  },
  {
   "cell_type": "code",
   "execution_count": 33,
   "id": "65508a80-ccf6-407b-b1b8-02a89b1f7a31",
   "metadata": {},
   "outputs": [],
   "source": [
    "# Evaluating our model\n",
    "from sklearn.metrics import mean_absolute_error as MAE\n",
    "from sklearn.metrics import mean_squared_error as MSE\n",
    "from math import sqrt\n",
    "import tensorflow.keras.backend as K\n",
    "#import hydroeval as he\n",
    "\n",
    "#nse = he.evaluator(he.nse, simulations, evaluations)\n",
    "def wape(y, y_pred):\n",
    "    \"\"\"Weighted Average Percentage Error metric in the interval [0; 100]\"\"\"\n",
    "    nominator = tf.reduce_sum(tf.abs(tf.subtract(y, y_pred)))\n",
    "    denominator = tf.add(tf.reduce_sum(tf.abs(y)), K.epsilon())\n",
    "    wape = tf.scalar_mul(100.0, tf.divide(nominator, denominator))\n",
    "    return wape\n",
    "\n",
    "def Performance(test,LSTM):\n",
    "    print(\"\\n\\nLSTM\")\n",
    "    print(\"MSE:\",MSE(test,LSTM))\n",
    "    print(\"MAE:\",MAE(test,LSTM))\n",
    "    rmse = sqrt(MSE(test, LSTM))\n",
    "    print(\"RMSE:\",rmse)\n",
    "    print(\"MAPE:\",MAPE(test,LSTM))\n",
    "    print(\"WAPE:\",wape(test,LSTM))\n",
    "\n",
    "    \n",
    "# def Performance(test,Dense,CNN,LSTM):\n",
    "#     #print(\"Nash-Sutcliffe Efficiency:\",nse)\n",
    "#     print(\"Dense\")\n",
    "#     print(\"MSE:\",MSE(test,Dense))\n",
    "#     print(\"MAE:\",MAE(test,Dense))\n",
    "#     rmse = sqrt(MSE(test, Dense))\n",
    "#     print(\"RMSE:\",rmse)\n",
    "#     print(\"MAPE:\",MAPE(test,Dense))\n",
    "#     print(\"WAPE:\",wape(test,Dense))\n",
    "\n",
    "#     print(\"\\n\\nCNN\")\n",
    "#     print(\"MSE:\",MSE(test,CNN))\n",
    "#     print(\"MAE:\",MAE(test,CNN))\n",
    "#     rmse = sqrt(MSE(test, CNN))\n",
    "#     print(\"RMSE:\",rmse)\n",
    "#     print(\"MAPE:\",MAPE(test,CNN))\n",
    "#     print(\"WAPE:\",wape(test,CNN))\n",
    "    \n",
    "    \n",
    "#     print(\"\\n\\nLSTM\")\n",
    "#     print(\"MSE:\",MSE(test,LSTM))\n",
    "#     print(\"MAE:\",MAE(test,LSTM))\n",
    "#     rmse = sqrt(MSE(test, LSTM))\n",
    "#     print(\"RMSE:\",rmse)\n",
    "#     print(\"MAPE:\",MAPE(test,LSTM))\n",
    "#     print(\"WAPE:\",wape(test,LSTM))\n"
   ]
  },
  {
   "cell_type": "code",
   "execution_count": 1314,
   "id": "db3bba13-8092-4553-ad43-764c07846946",
   "metadata": {
    "tags": []
   },
   "outputs": [],
   "source": [
    "#test_set"
   ]
  },
  {
   "cell_type": "code",
   "execution_count": 1317,
   "id": "789c1123-72ef-4011-aab5-4e55ca9c6c54",
   "metadata": {
    "tags": []
   },
   "outputs": [
    {
     "data": {
      "image/png": "[encoded data removed]",
      "text/plain": [
       "<Figure size 1080x360 with 1 Axes>"
      ]
     },
     "metadata": {},
     "output_type": "display_data"
    },
    {
     "name": "stdout",
     "output_type": "stream",
     "text": [
      "Dense\n",
      "MSE: 0.0013718143225309024\n",
      "MAE: 0.025558164978027324\n",
      "RMSE: 0.037038011859856924\n",
      "MAPE: 1.038872952405968\n",
      "WAPE: tf.Tensor(1.0396259736593834, shape=(), dtype=float64)\n",
      "\n",
      "\n",
      "CNN\n",
      "MSE: 0.0004331248024531149\n",
      "MAE: 0.017823855590820285\n",
      "RMSE: 0.020811650642203153\n",
      "MAPE: 0.7269963158540308\n",
      "WAPE: tf.Tensor(0.7250185308257215, shape=(), dtype=float64)\n",
      "\n",
      "\n",
      "LSTM\n",
      "MSE: 0.00040939870408909286\n",
      "MAE: 0.015626979827880857\n",
      "RMSE: 0.020233603339224897\n",
      "MAPE: 0.6363427110051918\n",
      "WAPE: tf.Tensor(0.6356565165332978, shape=(), dtype=float64)\n"
     ]
    }
   ],
   "source": [
    "# Visualizing the results for LSTM\n",
    "plot_predictions(test_set[:25],Denseprediction[:25],LSTMprediction[:25],CNNprediction[:25])"
   ]
  },
  {
   "cell_type": "code",
   "execution_count": null,
   "id": "dfbb38b2-790e-4287-8e94-0991ffc826a3",
   "metadata": {},
   "outputs": [],
   "source": [
    "# Visualizing the results for LSTM\n",
    "plot_predictions(test_set,predict[:25],Dense[:25],CNNprediction[:25])"
   ]
  },
  {
   "cell_type": "code",
   "execution_count": null,
   "id": "a437d6f4-5272-46e5-a4fb-d54a58c53af4",
   "metadata": {},
   "outputs": [],
   "source": [
    "# Visualizing the results for LSTM\n",
    "plot_predictions(test_set,predict[:25],Dense[:25],CNN[:25])"
   ]
  },
  {
   "cell_type": "code",
   "execution_count": 35,
   "id": "bd3550c1-3fb5-4d4c-b174-b3c5a276b35d",
   "metadata": {},
   "outputs": [],
   "source": [
    "def MAPE(y_true, y_pred): \n",
    "  y_true, y_pred = np.array(y_true), np.array(y_pred)\n",
    "  return np.mean(np.abs((y_true - y_pred) / np.maximum(np.ones(len(y_true)), np.abs(y_true))))*100"
   ]
  },
  {
   "cell_type": "code",
   "execution_count": null,
   "id": "3f1bbe0c-813c-4dba-8fa8-b405af857149",
   "metadata": {},
   "outputs": [],
   "source": [
    "prediction"
   ]
  },
  {
   "cell_type": "code",
   "execution_count": null,
   "id": "62115a32-7192-4d17-a7b9-79bee5e18537",
   "metadata": {},
   "outputs": [],
   "source": [
    "Test_df.to_csv(\"test.csv\",index = False)"
   ]
  },
  {
   "cell_type": "code",
   "execution_count": null,
   "id": "c3cd79d9-8b1e-4f06-947b-25e88828f6b9",
   "metadata": {},
   "outputs": [],
   "source": [
    "a = np.array(a)"
   ]
  },
  {
   "cell_type": "code",
   "execution_count": null,
   "id": "8143130b-43ae-4b53-a925-aa44c9d14160",
   "metadata": {},
   "outputs": [],
   "source": [
    "len(test_set[-168:])"
   ]
  },
  {
   "cell_type": "code",
   "execution_count": null,
   "id": "5e95e5c2-4edb-4b85-ac63-94f51267d144",
   "metadata": {},
   "outputs": [],
   "source": [
    "\n",
    "inputs = test_set[:100]\n",
    "inputs = sc.transform(inputs)\n",
    "inputs = inputs.reshape([1, 100, 1])\n",
    "prediction_list = np.empty(0)\n",
    "for i in range(0,50):\n",
    "    prediction = regressor.predict(inputs)\n",
    "    prediction_list = np.append(prediction_list, sc.inverse_transform(prediction))\n",
    "    inputs = np.delete(inputs, 0)\n",
    "    inputs = np.append(inputs, prediction)\n",
    "    inputs = inputs.reshape([1, 100, 1])\n",
    "#print(a)"
   ]
  },
  {
   "cell_type": "code",
   "execution_count": null,
   "id": "e532a228-c534-497d-81e9-441875f7b232",
   "metadata": {},
   "outputs": [],
   "source": [
    "plt.plot(prediction_list)"
   ]
  },
  {
   "cell_type": "code",
   "execution_count": null,
   "id": "20682900-2e83-4b13-986c-3dbcd29183ce",
   "metadata": {},
   "outputs": [],
   "source": [
    "a = test_set[:150]\n",
    "plt.plot(a[100:])"
   ]
  },
  {
   "cell_type": "code",
   "execution_count": null,
   "id": "8254053e-db82-46b2-bb00-3a12846e5298",
   "metadata": {},
   "outputs": [],
   "source": [
    "prediction_list"
   ]
  },
  {
   "cell_type": "code",
   "execution_count": null,
   "id": "68eb7a34-5330-4ed7-a326-7c2ef6f02c2c",
   "metadata": {},
   "outputs": [],
   "source": [
    "pd.DataFrame(prediction_list).to_csv(\"ab.csv\")"
   ]
  },
  {
   "cell_type": "code",
   "execution_count": null,
   "id": "e8b35da9-59d1-4a41-a09f-c3d663f3ed84",
   "metadata": {},
   "outputs": [],
   "source": [
    "p = pd.DataFrame(prediction_list)\n",
    "p.to_csv(\"a.csv\")"
   ]
  },
  {
   "cell_type": "code",
   "execution_count": null,
   "id": "53ec3907-9320-418d-95c9-31e858d512c6",
   "metadata": {},
   "outputs": [],
   "source": [
    "a = np.delete(input, 0)\n",
    "len(a)"
   ]
  },
  {
   "cell_type": "code",
   "execution_count": null,
   "id": "ecb72f9e-bdec-44ad-975e-7ffa76993449",
   "metadata": {},
   "outputs": [],
   "source": [
    "a = np.append(input, 0)\n",
    "a"
   ]
  },
  {
   "cell_type": "code",
   "execution_count": null,
   "id": "81111f79-6b08-4d3d-99ee-dc7d63a22942",
   "metadata": {},
   "outputs": [],
   "source": []
  }
 ],
 "metadata": {
  "kernelspec": {
   "display_name": "Python 3 (ipykernel)",
   "language": "python",
   "name": "python3"
  },
  "language_info": {
   "codemirror_mode": {
    "name": "ipython",
    "version": 3
   },
   "file_extension": ".py",
   "mimetype": "text/x-python",
   "name": "python",
   "nbconvert_exporter": "python",
   "pygments_lexer": "ipython3",
   "version": "3.9.7"
  }
 },
 "nbformat": 4,
 "nbformat_minor": 5
}
