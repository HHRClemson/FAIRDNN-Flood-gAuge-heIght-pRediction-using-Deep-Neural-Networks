{
 "cells": [
  {
   "cell_type": "code",
   "execution_count": 1,
   "id": "1becc4d0-aa48-42e2-97c4-550538fd8d0d",
   "metadata": {
    "tags": []
   },
   "outputs": [],
   "source": [
    "import pandas as pd\n",
    "import numpy as np\n",
    "import matplotlib.pyplot as plt\n",
    "plt.style.use('fivethirtyeight')"
   ]
  },
  {
   "cell_type": "code",
   "execution_count": 2,
   "id": "702fa34d-493b-411e-b66b-10ac5ae495df",
   "metadata": {},
   "outputs": [],
   "source": [
    "df = pd.read_csv('./../../datasets/chattahoochee-columbus.csv',header=0, parse_dates=['time'])"
   ]
  },
  {
   "cell_type": "code",
   "execution_count": 5,
   "id": "5d99384d-7f9c-4163-945b-64dad3e3b6ac",
   "metadata": {},
   "outputs": [
    {
     "name": "stderr",
     "output_type": "stream",
     "text": [
      "/software/spackages/linux-centos8-x86_64/gcc-8.3.1/anaconda3-2019.10-v5cuhr6keyz5ryxcwvv2jkzfj2gwrj4a/lib/python3.7/site-packages/pandas/plotting/_matplotlib/converter.py:103: FutureWarning: Using an implicitly registered datetime converter for a matplotlib plotting method. The converter was registered by pandas on import. Future versions of pandas will require you to explicitly register matplotlib converters.\n",
      "\n",
      "To register the converters:\n",
      "\t>>> from pandas.plotting import register_matplotlib_converters\n",
      "\t>>> register_matplotlib_converters()\n",
      "  warnings.warn(msg, FutureWarning)\n"
     ]
    },
    {
     "data": {
      "text/plain": [
       "[<matplotlib.lines.Line2D at 0x1455fcda4810>]"
      ]
     },
     "execution_count": 5,
     "metadata": {},
     "output_type": "execute_result"
    },
    {
     "data": {
      "image/png": "[encoded data removed]",
      "text/plain": [
       "<Figure size 432x288 with 1 Axes>"
      ]
     },
     "metadata": {
      "needs_background": "light"
     },
     "output_type": "display_data"
    }
   ],
   "source": [
    "df[\"time\"] = pd.to_datetime(df['time'])\n",
    "df = df.set_index('time')\n",
    "plt.plot(df.index,df[\"height\"])"
   ]
  },
  {
   "cell_type": "code",
   "execution_count": 6,
   "id": "d84b6da5-b7c7-45b9-8971-82ee6ad9a7a8",
   "metadata": {},
   "outputs": [],
   "source": [
    "train_set = df[:'2020'].iloc[:,:]\n",
    "test_set = df['2021':].iloc[:,:]"
   ]
  },
  {
   "cell_type": "code",
   "execution_count": 7,
   "id": "2da42284-7380-412f-8f7d-b49b9c5680d5",
   "metadata": {},
   "outputs": [],
   "source": [
    "from sklearn.preprocessing import MinMaxScaler\n",
    "sc = MinMaxScaler()\n",
    "training_set_scaled = sc.fit_transform(train_set)"
   ]
  },
  {
   "cell_type": "code",
   "execution_count": 8,
   "id": "ecccaa4a-5633-4888-86e8-86e4fd4b8c26",
   "metadata": {},
   "outputs": [
    {
     "data": {
      "text/plain": [
       "210350"
      ]
     },
     "execution_count": 8,
     "metadata": {},
     "output_type": "execute_result"
    }
   ],
   "source": [
    "len(training_set_scaled)"
   ]
  },
  {
   "cell_type": "code",
   "execution_count": 9,
   "id": "050ac6d7-8bbe-4077-8a06-269c6297c9e0",
   "metadata": {},
   "outputs": [],
   "source": [
    "X_train = []\n",
    "y_train = []\n",
    "for i in range(100,len(training_set_scaled)):\n",
    "    X_train.append(training_set_scaled[i-100:i,0])\n",
    "    y_train.append(training_set_scaled[i,0])\n",
    "X_train, y_train = np.array(X_train), np.array(y_train)"
   ]
  },
  {
   "cell_type": "code",
   "execution_count": 10,
   "id": "d938e1d6-1d8e-48e2-aa72-3b56c952ecd6",
   "metadata": {},
   "outputs": [],
   "source": [
    "X_train = np.reshape(X_train, (X_train.shape[0],X_train.shape[1],1))"
   ]
  },
  {
   "cell_type": "code",
   "execution_count": 11,
   "id": "223780cc-9f7e-4f37-bd11-a537e07cccdb",
   "metadata": {},
   "outputs": [
    {
     "data": {
      "text/plain": [
       "(210250, 100, 1)"
      ]
     },
     "execution_count": 11,
     "metadata": {},
     "output_type": "execute_result"
    }
   ],
   "source": [
    "X_train.shape"
   ]
  },
  {
   "cell_type": "code",
   "execution_count": 12,
   "id": "96091a9c-a00f-49ed-86d1-145a2c9f2b4b",
   "metadata": {},
   "outputs": [],
   "source": [
    "# Reshaping X_train for efficient modelling\n",
    "X_train = np.reshape(X_train, (X_train.shape[0],X_train.shape[1],1))"
   ]
  },
  {
   "cell_type": "code",
   "execution_count": 13,
   "id": "a62a6a62-9cc1-4c1d-b5c7-e993becf4d8a",
   "metadata": {},
   "outputs": [],
   "source": [
    "from tensorflow.keras.callbacks import EarlyStopping\n",
    "early_stopping = EarlyStopping(monitor='loss', patience=8)"
   ]
  },
  {
   "cell_type": "code",
   "execution_count": 14,
   "id": "84abc51a-e30a-4292-b48b-0121676b773b",
   "metadata": {},
   "outputs": [
    {
     "name": "stdout",
     "output_type": "stream",
     "text": [
      "Num GPUs Available:  2\n"
     ]
    }
   ],
   "source": [
    "import tensorflow as tf\n",
    "print(\"Num GPUs Available: \", len(tf.config.list_physical_devices('GPU')))"
   ]
  },
  {
   "cell_type": "code",
   "execution_count": 15,
   "id": "6d4a6bcf-ba1f-40b7-a576-8f3f5af0c652",
   "metadata": {},
   "outputs": [],
   "source": [
    "def Wape(y, y_pred):\n",
    "    \"\"\"Weighted Average Percentage Error metric in the interval [0; 100]\"\"\"\n",
    "    nominator = tf.reduce_sum(tf.abs(tf.subtract(y, y_pred)))\n",
    "    denominator = tf.add(tf.reduce_sum(tf.abs(y)), K.epsilon())\n",
    "    wape = tf.scalar_mul(100.0, tf.divide(nominator, denominator))\n",
    "    return wape\n",
    "\n",
    "def nse(y, y_pred):\n",
    "    return (1-(K.sum((y_pred-y)**2)/K.sum((y-K.mean(y))**2)))"
   ]
  },
  {
   "cell_type": "code",
   "execution_count": 16,
   "id": "b619b8a6-2074-4ab7-bb57-7e52e25fb1b7",
   "metadata": {
    "collapsed": true,
    "jupyter": {
     "outputs_hidden": true
    },
    "tags": []
   },
   "outputs": [
    {
     "name": "stdout",
     "output_type": "stream",
     "text": [
      "1\n",
      "1\n",
      "Epoch 1/50\n",
      "6559/6571 [============================>.] - ETA: 0s - loss: 0.0124 - Wape: 4.5404 - MAE: 0.0124 - RMSE: 0.0249 - MAPE: 437.3267 - MSE: 6.1884e-04\n",
      "Epoch 00001: loss improved from inf to 0.01244, saving model to New Leon's LSTM Sweatwater/weights-improvement-01-0.0124.hdf5\n",
      "6571/6571 [==============================] - 15s 2ms/step - loss: 0.0124 - Wape: 4.5375 - MAE: 0.0124 - RMSE: 0.0249 - MAPE: 436.5794 - MSE: 6.1814e-04\n",
      "Epoch 2/50\n",
      "6547/6571 [============================>.] - ETA: 0s - loss: 0.0079 - Wape: 2.8807 - MAE: 0.0079 - RMSE: 0.0180 - MAPE: 387.6411 - MSE: 3.2282e-04\n",
      "Epoch 00002: loss improved from 0.01244 to 0.00791, saving model to New Leon's LSTM Sweatwater/weights-improvement-02-0.0079.hdf5\n",
      "6571/6571 [==============================] - 12s 2ms/step - loss: 0.0079 - Wape: 2.8802 - MAE: 0.0079 - RMSE: 0.0180 - MAPE: 386.2758 - MSE: 3.2275e-04\n",
      "Epoch 3/50\n",
      "6551/6571 [============================>.] - ETA: 0s - loss: 0.0073 - Wape: 2.6688 - MAE: 0.0073 - RMSE: 0.0175 - MAPE: 406.8127 - MSE: 3.0470e-04\n",
      "Epoch 00003: loss improved from 0.00791 to 0.00732, saving model to New Leon's LSTM Sweatwater/weights-improvement-03-0.0073.hdf5\n",
      "6571/6571 [==============================] - 12s 2ms/step - loss: 0.0073 - Wape: 2.6680 - MAE: 0.0073 - RMSE: 0.0174 - MAPE: 405.6244 - MSE: 3.0448e-04\n",
      "Epoch 4/50\n",
      "6568/6571 [============================>.] - ETA: 0s - loss: 0.0071 - Wape: 2.5979 - MAE: 0.0071 - RMSE: 0.0174 - MAPE: 431.8933 - MSE: 3.0187e-04\n",
      "Epoch 00004: loss improved from 0.00732 to 0.00712, saving model to New Leon's LSTM Sweatwater/weights-improvement-04-0.0071.hdf5\n",
      "6571/6571 [==============================] - 12s 2ms/step - loss: 0.0071 - Wape: 2.5978 - MAE: 0.0071 - RMSE: 0.0174 - MAPE: 431.7420 - MSE: 3.0180e-04\n",
      "Epoch 5/50\n",
      "6555/6571 [============================>.] - ETA: 0s - loss: 0.0070 - Wape: 2.5417 - MAE: 0.0070 - RMSE: 0.0173 - MAPE: 490.5038 - MSE: 2.9876e-04\n",
      "Epoch 00005: loss improved from 0.00712 to 0.00698, saving model to New Leon's LSTM Sweatwater/weights-improvement-05-0.0070.hdf5\n",
      "6571/6571 [==============================] - 12s 2ms/step - loss: 0.0070 - Wape: 2.5423 - MAE: 0.0070 - RMSE: 0.0173 - MAPE: 489.3675 - MSE: 2.9900e-04\n",
      "Epoch 6/50\n",
      "6555/6571 [============================>.] - ETA: 0s - loss: 0.0069 - Wape: 2.5167 - MAE: 0.0069 - RMSE: 0.0172 - MAPE: 557.0276 - MSE: 2.9649e-04\n",
      "Epoch 00006: loss improved from 0.00698 to 0.00691, saving model to New Leon's LSTM Sweatwater/weights-improvement-06-0.0069.hdf5\n",
      "6571/6571 [==============================] - 13s 2ms/step - loss: 0.0069 - Wape: 2.5177 - MAE: 0.0069 - RMSE: 0.0172 - MAPE: 555.7361 - MSE: 2.9654e-04\n",
      "Epoch 7/50\n",
      "6564/6571 [============================>.] - ETA: 0s - loss: 0.0069 - Wape: 2.5046 - MAE: 0.0069 - RMSE: 0.0172 - MAPE: 532.7324 - MSE: 2.9658e-04\n",
      "Epoch 00007: loss improved from 0.00691 to 0.00687, saving model to New Leon's LSTM Sweatwater/weights-improvement-07-0.0069.hdf5\n",
      "6571/6571 [==============================] - 12s 2ms/step - loss: 0.0069 - Wape: 2.5051 - MAE: 0.0069 - RMSE: 0.0172 - MAPE: 532.2232 - MSE: 2.9667e-04\n",
      "Epoch 8/50\n",
      "6550/6571 [============================>.] - ETA: 0s - loss: 0.0068 - Wape: 2.4810 - MAE: 0.0068 - RMSE: 0.0172 - MAPE: 538.7775 - MSE: 2.9712e-04\n",
      "Epoch 00008: loss improved from 0.00687 to 0.00681, saving model to New Leon's LSTM Sweatwater/weights-improvement-08-0.0068.hdf5\n",
      "6571/6571 [==============================] - 12s 2ms/step - loss: 0.0068 - Wape: 2.4816 - MAE: 0.0068 - RMSE: 0.0172 - MAPE: 537.1190 - MSE: 2.9693e-04\n",
      "Epoch 9/50\n",
      "6563/6571 [============================>.] - ETA: 0s - loss: 0.0068 - Wape: 2.4685 - MAE: 0.0068 - RMSE: 0.0172 - MAPE: 578.4775 - MSE: 2.9626e-04\n",
      "Epoch 00009: loss improved from 0.00681 to 0.00677, saving model to New Leon's LSTM Sweatwater/weights-improvement-09-0.0068.hdf5\n",
      "6571/6571 [==============================] - 12s 2ms/step - loss: 0.0068 - Wape: 2.4681 - MAE: 0.0068 - RMSE: 0.0172 - MAPE: 577.8362 - MSE: 2.9645e-04\n",
      "Epoch 10/50\n",
      "6560/6571 [============================>.] - ETA: 0s - loss: 0.0067 - Wape: 2.4536 - MAE: 0.0067 - RMSE: 0.0172 - MAPE: 585.6482 - MSE: 2.9587e-04\n",
      "Epoch 00010: loss improved from 0.00677 to 0.00673, saving model to New Leon's LSTM Sweatwater/weights-improvement-10-0.0067.hdf5\n",
      "6571/6571 [==============================] - 12s 2ms/step - loss: 0.0067 - Wape: 2.4542 - MAE: 0.0067 - RMSE: 0.0172 - MAPE: 584.7336 - MSE: 2.9613e-04\n",
      "Epoch 11/50\n",
      "6558/6571 [============================>.] - ETA: 0s - loss: 0.0067 - Wape: 2.4503 - MAE: 0.0067 - RMSE: 0.0172 - MAPE: 602.3609 - MSE: 2.9538e-04\n",
      "Epoch 00011: loss improved from 0.00673 to 0.00672, saving model to New Leon's LSTM Sweatwater/weights-improvement-11-0.0067.hdf5\n",
      "6571/6571 [==============================] - 12s 2ms/step - loss: 0.0067 - Wape: 2.4505 - MAE: 0.0067 - RMSE: 0.0172 - MAPE: 601.2375 - MSE: 2.9529e-04\n",
      "Epoch 12/50\n",
      "6545/6571 [============================>.] - ETA: 0s - loss: 0.0067 - Wape: 2.4552 - MAE: 0.0067 - RMSE: 0.0172 - MAPE: 618.9430 - MSE: 2.9574e-04\n",
      "Epoch 00012: loss did not improve from 0.00672\n",
      "6571/6571 [==============================] - 12s 2ms/step - loss: 0.0067 - Wape: 2.4545 - MAE: 0.0067 - RMSE: 0.0172 - MAPE: 616.5677 - MSE: 2.9545e-04\n",
      "Epoch 13/50\n",
      "6570/6571 [============================>.] - ETA: 0s - loss: 0.0067 - Wape: 2.4374 - MAE: 0.0067 - RMSE: 0.0172 - MAPE: 594.3636 - MSE: 2.9462e-04\n",
      "Epoch 00013: loss improved from 0.00672 to 0.00668, saving model to New Leon's LSTM Sweatwater/weights-improvement-13-0.0067.hdf5\n",
      "6571/6571 [==============================] - 12s 2ms/step - loss: 0.0067 - Wape: 2.4373 - MAE: 0.0067 - RMSE: 0.0172 - MAPE: 594.3354 - MSE: 2.9461e-04\n",
      "Epoch 14/50\n",
      "6556/6571 [============================>.] - ETA: 0s - loss: 0.0067 - Wape: 2.4335 - MAE: 0.0067 - RMSE: 0.0172 - MAPE: 586.2924 - MSE: 2.9423e-04\n",
      "Epoch 00014: loss improved from 0.00668 to 0.00668, saving model to New Leon's LSTM Sweatwater/weights-improvement-14-0.0067.hdf5\n",
      "6571/6571 [==============================] - 12s 2ms/step - loss: 0.0067 - Wape: 2.4332 - MAE: 0.0067 - RMSE: 0.0172 - MAPE: 585.0201 - MSE: 2.9423e-04\n",
      "Epoch 15/50\n",
      "6547/6571 [============================>.] - ETA: 0s - loss: 0.0067 - Wape: 2.4259 - MAE: 0.0067 - RMSE: 0.0171 - MAPE: 581.1445 - MSE: 2.9402e-04\n",
      "Epoch 00015: loss improved from 0.00668 to 0.00665, saving model to New Leon's LSTM Sweatwater/weights-improvement-15-0.0067.hdf5\n",
      "6571/6571 [==============================] - 12s 2ms/step - loss: 0.0067 - Wape: 2.4261 - MAE: 0.0067 - RMSE: 0.0171 - MAPE: 579.0919 - MSE: 2.9396e-04\n",
      "Epoch 16/50\n",
      "6546/6571 [============================>.] - ETA: 0s - loss: 0.0066 - Wape: 2.4142 - MAE: 0.0066 - RMSE: 0.0171 - MAPE: 602.9533 - MSE: 2.9188e-04\n",
      "Epoch 00016: loss improved from 0.00665 to 0.00663, saving model to New Leon's LSTM Sweatwater/weights-improvement-16-0.0066.hdf5\n",
      "6571/6571 [==============================] - 12s 2ms/step - loss: 0.0066 - Wape: 2.4158 - MAE: 0.0066 - RMSE: 0.0171 - MAPE: 600.7329 - MSE: 2.9241e-04\n",
      "Epoch 17/50\n",
      "6559/6571 [============================>.] - ETA: 0s - loss: 0.0066 - Wape: 2.4019 - MAE: 0.0066 - RMSE: 0.0171 - MAPE: 614.6622 - MSE: 2.9156e-04\n",
      "Epoch 00017: loss improved from 0.00663 to 0.00659, saving model to New Leon's LSTM Sweatwater/weights-improvement-17-0.0066.hdf5\n",
      "6571/6571 [==============================] - 12s 2ms/step - loss: 0.0066 - Wape: 2.4020 - MAE: 0.0066 - RMSE: 0.0171 - MAPE: 613.6086 - MSE: 2.9159e-04\n",
      "Epoch 18/50\n",
      "6550/6571 [============================>.] - ETA: 0s - loss: 0.0066 - Wape: 2.4084 - MAE: 0.0066 - RMSE: 0.0171 - MAPE: 619.1628 - MSE: 2.9156e-04\n",
      "Epoch 00018: loss did not improve from 0.00659\n",
      "6571/6571 [==============================] - 12s 2ms/step - loss: 0.0066 - Wape: 2.4076 - MAE: 0.0066 - RMSE: 0.0171 - MAPE: 617.2557 - MSE: 2.9132e-04\n",
      "Epoch 19/50\n",
      "6554/6571 [============================>.] - ETA: 0s - loss: 0.0066 - Wape: 2.4131 - MAE: 0.0066 - RMSE: 0.0171 - MAPE: 641.4454 - MSE: 2.9080e-04\n",
      "Epoch 00019: loss did not improve from 0.00659\n",
      "6571/6571 [==============================] - 12s 2ms/step - loss: 0.0066 - Wape: 2.4131 - MAE: 0.0066 - RMSE: 0.0170 - MAPE: 639.8591 - MSE: 2.9069e-04\n",
      "Epoch 20/50\n",
      "6567/6571 [============================>.] - ETA: 0s - loss: 0.0066 - Wape: 2.4058 - MAE: 0.0066 - RMSE: 0.0170 - MAPE: 620.8563 - MSE: 2.9041e-04\n",
      "Epoch 00020: loss did not improve from 0.00659\n",
      "6571/6571 [==============================] - 13s 2ms/step - loss: 0.0066 - Wape: 2.4058 - MAE: 0.0066 - RMSE: 0.0170 - MAPE: 620.5444 - MSE: 2.9033e-04\n",
      "Epoch 21/50\n",
      "6554/6571 [============================>.] - ETA: 0s - loss: 0.0066 - Wape: 2.4061 - MAE: 0.0066 - RMSE: 0.0170 - MAPE: 629.8453 - MSE: 2.8899e-04\n",
      "Epoch 00021: loss did not improve from 0.00659\n",
      "6571/6571 [==============================] - 13s 2ms/step - loss: 0.0066 - Wape: 2.4062 - MAE: 0.0066 - RMSE: 0.0170 - MAPE: 628.2883 - MSE: 2.8914e-04\n",
      "Epoch 22/50\n",
      "6558/6571 [============================>.] - ETA: 0s - loss: 0.0066 - Wape: 2.3962 - MAE: 0.0066 - RMSE: 0.0170 - MAPE: 638.9548 - MSE: 2.8859e-04\n",
      "Epoch 00022: loss improved from 0.00659 to 0.00658, saving model to New Leon's LSTM Sweatwater/weights-improvement-22-0.0066.hdf5\n",
      "6571/6571 [==============================] - 12s 2ms/step - loss: 0.0066 - Wape: 2.3959 - MAE: 0.0066 - RMSE: 0.0170 - MAPE: 637.7617 - MSE: 2.8856e-04\n",
      "Epoch 23/50\n",
      "6547/6571 [============================>.] - ETA: 0s - loss: 0.0066 - Wape: 2.4042 - MAE: 0.0066 - RMSE: 0.0170 - MAPE: 629.4346 - MSE: 2.8849e-04\n",
      "Epoch 00023: loss did not improve from 0.00658\n",
      "6571/6571 [==============================] - 12s 2ms/step - loss: 0.0066 - Wape: 2.4033 - MAE: 0.0066 - RMSE: 0.0170 - MAPE: 627.2095 - MSE: 2.8824e-04\n",
      "Epoch 24/50\n",
      "6550/6571 [============================>.] - ETA: 0s - loss: 0.0066 - Wape: 2.3933 - MAE: 0.0066 - RMSE: 0.0170 - MAPE: 620.7162 - MSE: 2.8732e-04\n",
      "Epoch 00024: loss improved from 0.00658 to 0.00657, saving model to New Leon's LSTM Sweatwater/weights-improvement-24-0.0066.hdf5\n",
      "6571/6571 [==============================] - 12s 2ms/step - loss: 0.0066 - Wape: 2.3940 - MAE: 0.0066 - RMSE: 0.0170 - MAPE: 618.8050 - MSE: 2.8737e-04\n",
      "Epoch 25/50\n",
      "6566/6571 [============================>.] - ETA: 0s - loss: 0.0065 - Wape: 2.3851 - MAE: 0.0065 - RMSE: 0.0169 - MAPE: 632.8552 - MSE: 2.8674e-04\n",
      "Epoch 00025: loss improved from 0.00657 to 0.00655, saving model to New Leon's LSTM Sweatwater/weights-improvement-25-0.0065.hdf5\n",
      "6571/6571 [==============================] - 12s 2ms/step - loss: 0.0065 - Wape: 2.3856 - MAE: 0.0065 - RMSE: 0.0169 - MAPE: 632.4415 - MSE: 2.8678e-04\n",
      "Epoch 26/50\n",
      "6554/6571 [============================>.] - ETA: 0s - loss: 0.0066 - Wape: 2.3969 - MAE: 0.0066 - RMSE: 0.0169 - MAPE: 643.8779 - MSE: 2.8610e-04\n",
      "Epoch 00026: loss did not improve from 0.00655\n",
      "6571/6571 [==============================] - 12s 2ms/step - loss: 0.0066 - Wape: 2.3970 - MAE: 0.0066 - RMSE: 0.0169 - MAPE: 642.2856 - MSE: 2.8597e-04\n",
      "Epoch 27/50\n",
      "6552/6571 [============================>.] - ETA: 0s - loss: 0.0065 - Wape: 2.3869 - MAE: 0.0065 - RMSE: 0.0169 - MAPE: 626.6785 - MSE: 2.8537e-04\n",
      "Epoch 00027: loss improved from 0.00655 to 0.00655, saving model to New Leon's LSTM Sweatwater/weights-improvement-27-0.0065.hdf5\n",
      "6571/6571 [==============================] - 12s 2ms/step - loss: 0.0065 - Wape: 2.3866 - MAE: 0.0065 - RMSE: 0.0169 - MAPE: 624.9384 - MSE: 2.8547e-04\n",
      "Epoch 28/50\n",
      "6552/6571 [============================>.] - ETA: 0s - loss: 0.0065 - Wape: 2.3788 - MAE: 0.0065 - RMSE: 0.0169 - MAPE: 650.7085 - MSE: 2.8431e-04\n",
      "Epoch 00028: loss improved from 0.00655 to 0.00652, saving model to New Leon's LSTM Sweatwater/weights-improvement-28-0.0065.hdf5\n",
      "6571/6571 [==============================] - 12s 2ms/step - loss: 0.0065 - Wape: 2.3786 - MAE: 0.0065 - RMSE: 0.0169 - MAPE: 648.9013 - MSE: 2.8427e-04\n",
      "Epoch 29/50\n",
      "6554/6571 [============================>.] - ETA: 0s - loss: 0.0066 - Wape: 2.3883 - MAE: 0.0066 - RMSE: 0.0169 - MAPE: 641.1237 - MSE: 2.8444e-04\n",
      "Epoch 00029: loss did not improve from 0.00652\n",
      "6571/6571 [==============================] - 12s 2ms/step - loss: 0.0066 - Wape: 2.3876 - MAE: 0.0066 - RMSE: 0.0169 - MAPE: 639.5375 - MSE: 2.8421e-04\n",
      "Epoch 30/50\n",
      "6556/6571 [============================>.] - ETA: 0s - loss: 0.0065 - Wape: 2.3706 - MAE: 0.0065 - RMSE: 0.0168 - MAPE: 650.4006 - MSE: 2.8294e-04\n",
      "Epoch 00030: loss improved from 0.00652 to 0.00651, saving model to New Leon's LSTM Sweatwater/weights-improvement-30-0.0065.hdf5\n",
      "6571/6571 [==============================] - 12s 2ms/step - loss: 0.0065 - Wape: 2.3713 - MAE: 0.0065 - RMSE: 0.0168 - MAPE: 648.9901 - MSE: 2.8309e-04\n",
      "Epoch 31/50\n",
      "6551/6571 [============================>.] - ETA: 0s - loss: 0.0065 - Wape: 2.3793 - MAE: 0.0065 - RMSE: 0.0168 - MAPE: 649.3746 - MSE: 2.8340e-04\n",
      "Epoch 00031: loss did not improve from 0.00651\n",
      "6571/6571 [==============================] - 12s 2ms/step - loss: 0.0065 - Wape: 2.3787 - MAE: 0.0065 - RMSE: 0.0168 - MAPE: 647.4725 - MSE: 2.8349e-04\n",
      "Epoch 32/50\n",
      "6543/6571 [============================>.] - ETA: 0s - loss: 0.0065 - Wape: 2.3708 - MAE: 0.0065 - RMSE: 0.0168 - MAPE: 639.5861 - MSE: 2.8202e-04\n",
      "Epoch 00032: loss improved from 0.00651 to 0.00651, saving model to New Leon's LSTM Sweatwater/weights-improvement-32-0.0065.hdf5\n",
      "6571/6571 [==============================] - 12s 2ms/step - loss: 0.0065 - Wape: 2.3703 - MAE: 0.0065 - RMSE: 0.0168 - MAPE: 636.9370 - MSE: 2.8212e-04\n",
      "Epoch 33/50\n",
      "6563/6571 [============================>.] - ETA: 0s - loss: 0.0065 - Wape: 2.3792 - MAE: 0.0065 - RMSE: 0.0168 - MAPE: 658.6510 - MSE: 2.8259e-04\n",
      "Epoch 00033: loss did not improve from 0.00651\n",
      "6571/6571 [==============================] - 12s 2ms/step - loss: 0.0065 - Wape: 2.3790 - MAE: 0.0065 - RMSE: 0.0168 - MAPE: 657.9204 - MSE: 2.8248e-04\n",
      "Epoch 34/50\n",
      "6552/6571 [============================>.] - ETA: 0s - loss: 0.0065 - Wape: 2.3690 - MAE: 0.0065 - RMSE: 0.0168 - MAPE: 630.6278 - MSE: 2.8206e-04\n",
      "Epoch 00034: loss improved from 0.00651 to 0.00650, saving model to New Leon's LSTM Sweatwater/weights-improvement-34-0.0065.hdf5\n",
      "6571/6571 [==============================] - 12s 2ms/step - loss: 0.0065 - Wape: 2.3683 - MAE: 0.0065 - RMSE: 0.0168 - MAPE: 628.8902 - MSE: 2.8190e-04\n",
      "Epoch 35/50\n",
      "6549/6571 [============================>.] - ETA: 0s - loss: 0.0065 - Wape: 2.3723 - MAE: 0.0065 - RMSE: 0.0168 - MAPE: 650.8427 - MSE: 2.8156e-04\n",
      "Epoch 00035: loss did not improve from 0.00650\n",
      "6571/6571 [==============================] - 12s 2ms/step - loss: 0.0065 - Wape: 2.3734 - MAE: 0.0065 - RMSE: 0.0168 - MAPE: 648.7415 - MSE: 2.8195e-04\n",
      "Epoch 36/50\n",
      "6569/6571 [============================>.] - ETA: 0s - loss: 0.0065 - Wape: 2.3734 - MAE: 0.0065 - RMSE: 0.0168 - MAPE: 631.4878 - MSE: 2.8210e-04\n",
      "Epoch 00036: loss did not improve from 0.00650\n",
      "6571/6571 [==============================] - 12s 2ms/step - loss: 0.0065 - Wape: 2.3736 - MAE: 0.0065 - RMSE: 0.0168 - MAPE: 631.3623 - MSE: 2.8211e-04\n",
      "Epoch 37/50\n",
      "6566/6571 [============================>.] - ETA: 0s - loss: 0.0065 - Wape: 2.3761 - MAE: 0.0065 - RMSE: 0.0168 - MAPE: 643.9800 - MSE: 2.8169e-04\n",
      "Epoch 00037: loss did not improve from 0.00650\n",
      "6571/6571 [==============================] - 12s 2ms/step - loss: 0.0065 - Wape: 2.3759 - MAE: 0.0065 - RMSE: 0.0168 - MAPE: 643.5588 - MSE: 2.8172e-04\n",
      "Epoch 38/50\n",
      "6570/6571 [============================>.] - ETA: 0s - loss: 0.0065 - Wape: 2.3730 - MAE: 0.0065 - RMSE: 0.0168 - MAPE: 655.3925 - MSE: 2.8173e-04\n",
      "Epoch 00038: loss did not improve from 0.00650\n",
      "6571/6571 [==============================] - 12s 2ms/step - loss: 0.0065 - Wape: 2.3728 - MAE: 0.0065 - RMSE: 0.0168 - MAPE: 655.3615 - MSE: 2.8171e-04\n",
      "Epoch 39/50\n",
      "6557/6571 [============================>.] - ETA: 0s - loss: 0.0065 - Wape: 2.3729 - MAE: 0.0065 - RMSE: 0.0168 - MAPE: 641.9466 - MSE: 2.8149e-04\n",
      "Epoch 00039: loss did not improve from 0.00650\n",
      "6571/6571 [==============================] - 12s 2ms/step - loss: 0.0065 - Wape: 2.3736 - MAE: 0.0065 - RMSE: 0.0168 - MAPE: 640.6514 - MSE: 2.8153e-04\n",
      "Epoch 40/50\n",
      "6569/6571 [============================>.] - ETA: 0s - loss: 0.0065 - Wape: 2.3693 - MAE: 0.0065 - RMSE: 0.0168 - MAPE: 645.5490 - MSE: 2.8099e-04\n",
      "Epoch 00040: loss improved from 0.00650 to 0.00650, saving model to New Leon's LSTM Sweatwater/weights-improvement-40-0.0065.hdf5\n",
      "6571/6571 [==============================] - 12s 2ms/step - loss: 0.0065 - Wape: 2.3692 - MAE: 0.0065 - RMSE: 0.0168 - MAPE: 645.4203 - MSE: 2.8096e-04\n",
      "Epoch 41/50\n",
      "6567/6571 [============================>.] - ETA: 0s - loss: 0.0065 - Wape: 2.3710 - MAE: 0.0065 - RMSE: 0.0168 - MAPE: 641.4022 - MSE: 2.8143e-04\n",
      "Epoch 00041: loss did not improve from 0.00650\n",
      "6571/6571 [==============================] - 12s 2ms/step - loss: 0.0065 - Wape: 2.3716 - MAE: 0.0065 - RMSE: 0.0168 - MAPE: 641.0803 - MSE: 2.8157e-04\n",
      "Epoch 42/50\n",
      "6546/6571 [============================>.] - ETA: 0s - loss: 0.0065 - Wape: 2.3716 - MAE: 0.0065 - RMSE: 0.0168 - MAPE: 630.5541 - MSE: 2.8109e-04\n",
      "Epoch 00042: loss did not improve from 0.00650\n",
      "6571/6571 [==============================] - 12s 2ms/step - loss: 0.0065 - Wape: 2.3722 - MAE: 0.0065 - RMSE: 0.0168 - MAPE: 628.2309 - MSE: 2.8098e-04\n",
      "Epoch 43/50\n",
      "6545/6571 [============================>.] - ETA: 0s - loss: 0.0065 - Wape: 2.3647 - MAE: 0.0065 - RMSE: 0.0168 - MAPE: 664.8157 - MSE: 2.8082e-04\n",
      "Epoch 00043: loss improved from 0.00650 to 0.00649, saving model to New Leon's LSTM Sweatwater/weights-improvement-43-0.0065.hdf5\n",
      "6571/6571 [==============================] - 12s 2ms/step - loss: 0.0065 - Wape: 2.3658 - MAE: 0.0065 - RMSE: 0.0168 - MAPE: 662.2648 - MSE: 2.8076e-04\n",
      "Epoch 44/50\n",
      "6568/6571 [============================>.] - ETA: 0s - loss: 0.0065 - Wape: 2.3599 - MAE: 0.0065 - RMSE: 0.0168 - MAPE: 645.8744 - MSE: 2.8069e-04\n",
      "Epoch 00044: loss improved from 0.00649 to 0.00648, saving model to New Leon's LSTM Sweatwater/weights-improvement-44-0.0065.hdf5\n",
      "6571/6571 [==============================] - 12s 2ms/step - loss: 0.0065 - Wape: 2.3603 - MAE: 0.0065 - RMSE: 0.0168 - MAPE: 645.6480 - MSE: 2.8069e-04\n",
      "Epoch 45/50\n",
      "6557/6571 [============================>.] - ETA: 0s - loss: 0.0065 - Wape: 2.3804 - MAE: 0.0065 - RMSE: 0.0168 - MAPE: 658.4499 - MSE: 2.8068e-04\n",
      "Epoch 00045: loss did not improve from 0.00648\n",
      "6571/6571 [==============================] - 12s 2ms/step - loss: 0.0065 - Wape: 2.3801 - MAE: 0.0065 - RMSE: 0.0168 - MAPE: 657.1202 - MSE: 2.8065e-04\n",
      "Epoch 46/50\n",
      "6553/6571 [============================>.] - ETA: 0s - loss: 0.0065 - Wape: 2.3608 - MAE: 0.0065 - RMSE: 0.0168 - MAPE: 646.1147 - MSE: 2.8058e-04\n",
      "Epoch 00046: loss did not improve from 0.00648\n",
      "6571/6571 [==============================] - 12s 2ms/step - loss: 0.0065 - Wape: 2.3606 - MAE: 0.0065 - RMSE: 0.0167 - MAPE: 644.4188 - MSE: 2.8045e-04\n",
      "Epoch 47/50\n",
      "6566/6571 [============================>.] - ETA: 0s - loss: 0.0065 - Wape: 2.3691 - MAE: 0.0065 - RMSE: 0.0168 - MAPE: 653.5949 - MSE: 2.8086e-04\n",
      "Epoch 00047: loss did not improve from 0.00648\n",
      "6571/6571 [==============================] - 12s 2ms/step - loss: 0.0065 - Wape: 2.3689 - MAE: 0.0065 - RMSE: 0.0168 - MAPE: 653.1675 - MSE: 2.8092e-04\n",
      "Epoch 48/50\n",
      "6568/6571 [============================>.] - ETA: 0s - loss: 0.0065 - Wape: 2.3610 - MAE: 0.0065 - RMSE: 0.0168 - MAPE: 645.1550 - MSE: 2.8117e-04\n",
      "Epoch 00048: loss did not improve from 0.00648\n",
      "6571/6571 [==============================] - 12s 2ms/step - loss: 0.0065 - Wape: 2.3609 - MAE: 0.0065 - RMSE: 0.0168 - MAPE: 644.9286 - MSE: 2.8112e-04\n",
      "Epoch 49/50\n",
      "6566/6571 [============================>.] - ETA: 0s - loss: 0.0065 - Wape: 2.3721 - MAE: 0.0065 - RMSE: 0.0168 - MAPE: 649.5046 - MSE: 2.8084e-04\n",
      "Epoch 00049: loss did not improve from 0.00648\n",
      "6571/6571 [==============================] - 12s 2ms/step - loss: 0.0065 - Wape: 2.3725 - MAE: 0.0065 - RMSE: 0.0168 - MAPE: 649.0800 - MSE: 2.8085e-04\n",
      "Epoch 50/50\n",
      "6569/6571 [============================>.] - ETA: 0s - loss: 0.0065 - Wape: 2.3636 - MAE: 0.0065 - RMSE: 0.0168 - MAPE: 651.3389 - MSE: 2.8088e-04\n",
      "Epoch 00050: loss did not improve from 0.00648\n",
      "6571/6571 [==============================] - 12s 2ms/step - loss: 0.0065 - Wape: 2.3637 - MAE: 0.0065 - RMSE: 0.0168 - MAPE: 651.2095 - MSE: 2.8089e-04\n"
     ]
    },
    {
     "data": {
      "text/plain": [
       "<keras.callbacks.History at 0x154d24142d50>"
      ]
     },
     "execution_count": 16,
     "metadata": {},
     "output_type": "execute_result"
    }
   ],
   "source": [
    "from tensorflow.keras import Sequential\n",
    "from tensorflow.keras.models import Sequential\n",
    "from tensorflow.keras.layers import Dense, LSTM, Dropout, Conv1D, MaxPooling1D, Flatten\n",
    "from tensorflow.keras.optimizers import Adam\n",
    "import tensorflow.keras.backend as K\n",
    "import tensorflow as tf\n",
    "from keras.callbacks import ModelCheckpoint\n",
    "\n",
    "\n",
    "\n",
    "adam = Adam(learning_rate=0.0001)\n",
    "# The LSTM architecture\n",
    "regressor = Sequential()\n",
    "# First LSTM layer with Dropout regularisation\n",
    "regressor.add(Conv1D(filters=64, kernel_size=2, activation='relu', input_shape=(X_train.shape[1], X_train.shape[2])))\n",
    "\n",
    "# # Third LSTM layer\n",
    "regressor.add(MaxPooling1D(pool_size=2))\n",
    "\n",
    "\n",
    "# The Fifth layer\n",
    "regressor.add(Flatten())\n",
    "\n",
    "# The Sixth layer\n",
    "regressor.add(Dense(units=1))\n",
    "\n",
    "# Compiling the RNN\n",
    "regressor.compile(optimizer=\"adam\",loss=\"mean_absolute_error\",\n",
    "                  metrics=[Wape,\n",
    "                           tf.metrics.MeanAbsoluteError(name=\"MAE\"),\n",
    "                           tf.metrics.RootMeanSquaredError(name=\"RMSE\"),\n",
    "                           tf.metrics.MeanAbsolutePercentageError(name=\"MAPE\"),\n",
    "                           \"MSE\",\n",
    "                          ],\n",
    "                           \n",
    "                 )\n",
    "\n",
    "print(1)\n",
    "filepath=\"New Leon's LSTM Sweatwater/weights-improvement-{epoch:02d}-{loss:.4f}.hdf5\"\n",
    "checkpoint = ModelCheckpoint(filepath, monitor='loss', verbose=1, save_best_only=True, mode='min')\n",
    "callbacks_list = [checkpoint]\n",
    "print(1)\n",
    "# Fitting to the training set\n",
    "regressor.fit(X_train,y_train,epochs=50,batch_size=32,callbacks=callbacks_list)"
   ]
  },
  {
   "cell_type": "code",
   "execution_count": null,
   "id": "061f5ecd-52a9-410e-ab95-4631871890b5",
   "metadata": {
    "tags": []
   },
   "outputs": [],
   "source": [
    "regressor.fit(X_train,y_train,epochs=50,batch_size=32,callbacks=callbacks_list)"
   ]
  },
  {
   "cell_type": "markdown",
   "id": "c70fac47-43c7-4393-9fc6-2ad3ad7bf129",
   "metadata": {},
   "source": [
    "# Create Model and load weights"
   ]
  },
  {
   "cell_type": "code",
   "execution_count": 16,
   "id": "45d2d43b-3469-46cc-b1da-3b7a6e385e19",
   "metadata": {},
   "outputs": [],
   "source": [
    "from tensorflow.keras import Sequential\n",
    "from tensorflow.keras.models import Sequential\n",
    "from tensorflow.keras.layers import Dense, LSTM, Dropout, Conv1D, MaxPooling1D, Flatten\n",
    "from tensorflow.keras.optimizers import Adam\n",
    "import tensorflow.keras.backend as K\n",
    "import tensorflow as tf\n",
    "from keras.callbacks import ModelCheckpoint\n",
    "\n",
    "def create_model():\n",
    "    regressor = Sequential()\n",
    "# First LSTM layer with Dropout regularisation\n",
    "    regressor.add(Conv1D(filters=64, kernel_size=2, activation='relu', input_shape=(X_train.shape[1], X_train.shape[2])))\n",
    "\n",
    "    # # Third LSTM layer\n",
    "    regressor.add(MaxPooling1D(pool_size=2))\n",
    "\n",
    "\n",
    "    # The Fifth layer\n",
    "    regressor.add(Flatten())\n",
    "\n",
    "    # The Sixth layer\n",
    "    regressor.add(Dense(units=1))\n",
    "\n",
    "    # Compiling the RNN\n",
    "    regressor.compile(optimizer=\"adam\",loss=\"mean_absolute_error\",\n",
    "                      metrics=[Wape,\n",
    "                               tf.metrics.MeanAbsoluteError(name=\"MAE\"),\n",
    "                               tf.metrics.RootMeanSquaredError(name=\"RMSE\"),\n",
    "                               tf.metrics.MeanAbsolutePercentageError(name=\"MAPE\"),\n",
    "                               \"MSE\",\n",
    "                              ],\n",
    "\n",
    "                     )\n",
    "\n",
    "    return regressor\n",
    "regressor = create_model()\n",
    "regressor.load_weights(\"New Leon's LSTM Sweatwater/weights-improvement-44-0.0065.hdf5\")"
   ]
  },
  {
   "cell_type": "code",
   "execution_count": 19,
   "id": "0b4b8ff5-d8be-4faa-952c-4e9f21a439e1",
   "metadata": {},
   "outputs": [],
   "source": [
    "regressor.save(\"Columbus-CNN.h5\")"
   ]
  }
 ],
 "metadata": {
  "kernelspec": {
   "display_name": "Python 3 (ipykernel)",
   "language": "python",
   "name": "python3"
  },
  "language_info": {
   "codemirror_mode": {
    "name": "ipython",
    "version": 3
   },
   "file_extension": ".py",
   "mimetype": "text/x-python",
   "name": "python",
   "nbconvert_exporter": "python",
   "pygments_lexer": "ipython3",
   "version": "3.9.7"
  }
 },
 "nbformat": 4,
 "nbformat_minor": 5
}
