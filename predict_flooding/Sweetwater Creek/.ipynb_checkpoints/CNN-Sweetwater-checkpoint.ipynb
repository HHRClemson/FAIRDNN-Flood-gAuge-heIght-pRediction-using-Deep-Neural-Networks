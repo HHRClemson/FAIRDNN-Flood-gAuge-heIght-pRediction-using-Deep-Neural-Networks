{
 "cells": [
  {
   "cell_type": "code",
   "execution_count": 1,
   "id": "1becc4d0-aa48-42e2-97c4-550538fd8d0d",
   "metadata": {
    "tags": []
   },
   "outputs": [],
   "source": [
    "import pandas as pd\n",
    "import numpy as np\n",
    "import matplotlib.pyplot as plt\n",
    "plt.style.use('fivethirtyeight')"
   ]
  },
  {
   "cell_type": "code",
   "execution_count": 2,
   "id": "702fa34d-493b-411e-b66b-10ac5ae495df",
   "metadata": {},
   "outputs": [],
   "source": [
    "df = pd.read_csv('./../../datasets/SWEETWATER CREEK.csv',header=0, parse_dates=['time'])"
   ]
  },
  {
   "cell_type": "code",
   "execution_count": 3,
   "id": "5d99384d-7f9c-4163-945b-64dad3e3b6ac",
   "metadata": {},
   "outputs": [
    {
     "name": "stderr",
     "output_type": "stream",
     "text": [
      "/software/spackages/linux-centos8-x86_64/gcc-8.3.1/anaconda3-2019.10-v5cuhr6keyz5ryxcwvv2jkzfj2gwrj4a/lib/python3.7/site-packages/pandas/plotting/_matplotlib/converter.py:103: FutureWarning: Using an implicitly registered datetime converter for a matplotlib plotting method. The converter was registered by pandas on import. Future versions of pandas will require you to explicitly register matplotlib converters.\n",
      "\n",
      "To register the converters:\n",
      "\t>>> from pandas.plotting import register_matplotlib_converters\n",
      "\t>>> register_matplotlib_converters()\n",
      "  warnings.warn(msg, FutureWarning)\n"
     ]
    },
    {
     "data": {
      "text/plain": [
       "[<matplotlib.lines.Line2D at 0x14b33a9df6d0>]"
      ]
     },
     "execution_count": 3,
     "metadata": {},
     "output_type": "execute_result"
    },
    {
     "data": {
      "image/png": "[encoded data removed]",
      "text/plain": [
       "<Figure size 432x288 with 1 Axes>"
      ]
     },
     "metadata": {
      "needs_background": "light"
     },
     "output_type": "display_data"
    }
   ],
   "source": [
    "df[\"time\"] = pd.to_datetime(df['time'])\n",
    "df = df.set_index('time')\n",
    "plt.plot(df.index,df[\"height\"])"
   ]
  },
  {
   "cell_type": "code",
   "execution_count": 4,
   "id": "d84b6da5-b7c7-45b9-8971-82ee6ad9a7a8",
   "metadata": {},
   "outputs": [],
   "source": [
    "train_set = df[:'2020'].iloc[:,:]\n",
    "test_set = df['2021':].iloc[:,:]"
   ]
  },
  {
   "cell_type": "code",
   "execution_count": 5,
   "id": "2da42284-7380-412f-8f7d-b49b9c5680d5",
   "metadata": {},
   "outputs": [],
   "source": [
    "from sklearn.preprocessing import MinMaxScaler\n",
    "sc = MinMaxScaler()\n",
    "training_set_scaled = sc.fit_transform(train_set)"
   ]
  },
  {
   "cell_type": "code",
   "execution_count": 6,
   "id": "ecccaa4a-5633-4888-86e8-86e4fd4b8c26",
   "metadata": {},
   "outputs": [
    {
     "data": {
      "text/plain": [
       "207103"
      ]
     },
     "execution_count": 6,
     "metadata": {},
     "output_type": "execute_result"
    }
   ],
   "source": [
    "len(training_set_scaled)"
   ]
  },
  {
   "cell_type": "code",
   "execution_count": 7,
   "id": "050ac6d7-8bbe-4077-8a06-269c6297c9e0",
   "metadata": {},
   "outputs": [],
   "source": [
    "X_train = []\n",
    "y_train = []\n",
    "for i in range(100,len(training_set_scaled)):\n",
    "    X_train.append(training_set_scaled[i-100:i,0])\n",
    "    y_train.append(training_set_scaled[i,0])\n",
    "X_train, y_train = np.array(X_train), np.array(y_train)"
   ]
  },
  {
   "cell_type": "code",
   "execution_count": 8,
   "id": "d938e1d6-1d8e-48e2-aa72-3b56c952ecd6",
   "metadata": {},
   "outputs": [],
   "source": [
    "X_train = np.reshape(X_train, (X_train.shape[0],X_train.shape[1],1))"
   ]
  },
  {
   "cell_type": "code",
   "execution_count": 9,
   "id": "223780cc-9f7e-4f37-bd11-a537e07cccdb",
   "metadata": {},
   "outputs": [
    {
     "data": {
      "text/plain": [
       "(207003, 100, 1)"
      ]
     },
     "execution_count": 9,
     "metadata": {},
     "output_type": "execute_result"
    }
   ],
   "source": [
    "X_train.shape"
   ]
  },
  {
   "cell_type": "code",
   "execution_count": 10,
   "id": "96091a9c-a00f-49ed-86d1-145a2c9f2b4b",
   "metadata": {},
   "outputs": [],
   "source": [
    "# Reshaping X_train for efficient modelling\n",
    "X_train = np.reshape(X_train, (X_train.shape[0],X_train.shape[1],1))"
   ]
  },
  {
   "cell_type": "code",
   "execution_count": 11,
   "id": "a62a6a62-9cc1-4c1d-b5c7-e993becf4d8a",
   "metadata": {},
   "outputs": [],
   "source": [
    "from tensorflow.keras.callbacks import EarlyStopping\n",
    "early_stopping = EarlyStopping(monitor='loss', patience=8)"
   ]
  },
  {
   "cell_type": "code",
   "execution_count": 12,
   "id": "84abc51a-e30a-4292-b48b-0121676b773b",
   "metadata": {},
   "outputs": [
    {
     "name": "stdout",
     "output_type": "stream",
     "text": [
      "Num GPUs Available:  2\n"
     ]
    }
   ],
   "source": [
    "import tensorflow as tf\n",
    "print(\"Num GPUs Available: \", len(tf.config.list_physical_devices('GPU')))"
   ]
  },
  {
   "cell_type": "code",
   "execution_count": 13,
   "id": "6d4a6bcf-ba1f-40b7-a576-8f3f5af0c652",
   "metadata": {},
   "outputs": [],
   "source": [
    "def Wape(y, y_pred):\n",
    "    \"\"\"Weighted Average Percentage Error metric in the interval [0; 100]\"\"\"\n",
    "    nominator = tf.reduce_sum(tf.abs(tf.subtract(y, y_pred)))\n",
    "    denominator = tf.add(tf.reduce_sum(tf.abs(y)), K.epsilon())\n",
    "    wape = tf.scalar_mul(100.0, tf.divide(nominator, denominator))\n",
    "    return wape\n",
    "\n",
    "def nse(y, y_pred):\n",
    "    return (1-(K.sum((y_pred-y)**2)/K.sum((y-K.mean(y))**2)))"
   ]
  },
  {
   "cell_type": "code",
   "execution_count": 22,
   "id": "b619b8a6-2074-4ab7-bb57-7e52e25fb1b7",
   "metadata": {
    "tags": []
   },
   "outputs": [
    {
     "name": "stdout",
     "output_type": "stream",
     "text": [
      "1\n",
      "1\n",
      "Epoch 1/50\n",
      "6466/6469 [============================>.] - ETA: 0s - loss: 0.1419 - Wape: 72.0955 - MAE: 0.1419 - RMSE: 0.1726 - MAPE: 1405.7708 - MSE: 0.0298\n",
      "Epoch 00001: loss improved from inf to 0.14186, saving model to New Leon's LSTM Sweatwater/weights-improvement-01-0.1419.hdf5\n",
      "6469/6469 [==============================] - 13s 2ms/step - loss: 0.1419 - Wape: 72.0923 - MAE: 0.1419 - RMSE: 0.1725 - MAPE: 1405.1809 - MSE: 0.0298\n",
      "Epoch 2/50\n",
      "6446/6469 [============================>.] - ETA: 0s - loss: 0.1128 - Wape: 57.3069 - MAE: 0.1128 - RMSE: 0.1401 - MAPE: 3040.6416 - MSE: 0.0196\n",
      "Epoch 00002: loss improved from 0.14186 to 0.11280, saving model to New Leon's LSTM Sweatwater/weights-improvement-02-0.1128.hdf5\n",
      "6469/6469 [==============================] - 13s 2ms/step - loss: 0.1128 - Wape: 57.2804 - MAE: 0.1128 - RMSE: 0.1401 - MAPE: 3030.0730 - MSE: 0.0196\n",
      "Epoch 3/50\n",
      "6467/6469 [============================>.] - ETA: 0s - loss: 0.0833 - Wape: 42.2405 - MAE: 0.0833 - RMSE: 0.1078 - MAPE: 4700.6636 - MSE: 0.0116\n",
      "Epoch 00003: loss improved from 0.11280 to 0.08326, saving model to New Leon's LSTM Sweatwater/weights-improvement-03-0.0833.hdf5\n",
      "6469/6469 [==============================] - 13s 2ms/step - loss: 0.0833 - Wape: 42.2378 - MAE: 0.0833 - RMSE: 0.1078 - MAPE: 4699.3325 - MSE: 0.0116\n",
      "Epoch 4/50\n",
      "6468/6469 [============================>.] - ETA: 0s - loss: 0.0534 - Wape: 27.0315 - MAE: 0.0534 - RMSE: 0.0767 - MAPE: 6418.4736 - MSE: 0.0059\n",
      "Epoch 00004: loss improved from 0.08326 to 0.05343, saving model to New Leon's LSTM Sweatwater/weights-improvement-04-0.0534.hdf5\n",
      "6469/6469 [==============================] - 13s 2ms/step - loss: 0.0534 - Wape: 27.0300 - MAE: 0.0534 - RMSE: 0.0767 - MAPE: 6417.6382 - MSE: 0.0059\n",
      "Epoch 5/50\n",
      "6449/6469 [============================>.] - ETA: 0s - loss: 0.0270 - Wape: 13.5775 - MAE: 0.0270 - RMSE: 0.0506 - MAPE: 8189.5439 - MSE: 0.0026\n",
      "Epoch 00005: loss improved from 0.05343 to 0.02698, saving model to New Leon's LSTM Sweatwater/weights-improvement-05-0.0270.hdf5\n",
      "6469/6469 [==============================] - 13s 2ms/step - loss: 0.0270 - Wape: 13.5629 - MAE: 0.0270 - RMSE: 0.0505 - MAPE: 8164.4487 - MSE: 0.0026\n",
      "Epoch 6/50\n",
      "6469/6469 [==============================] - ETA: 0s - loss: 0.0178 - Wape: 8.9248 - MAE: 0.0178 - RMSE: 0.0397 - MAPE: 8919.5518 - MSE: 0.0016\n",
      "Epoch 00006: loss improved from 0.02698 to 0.01778, saving model to New Leon's LSTM Sweatwater/weights-improvement-06-0.0178.hdf5\n",
      "6469/6469 [==============================] - 13s 2ms/step - loss: 0.0178 - Wape: 8.9248 - MAE: 0.0178 - RMSE: 0.0397 - MAPE: 8919.5518 - MSE: 0.0016\n",
      "Epoch 7/50\n",
      "6445/6469 [============================>.] - ETA: 0s - loss: 0.0169 - Wape: 8.4861 - MAE: 0.0169 - RMSE: 0.0383 - MAPE: 8378.9062 - MSE: 0.0015\n",
      "Epoch 00007: loss improved from 0.01778 to 0.01691, saving model to New Leon's LSTM Sweatwater/weights-improvement-07-0.0169.hdf5\n",
      "6469/6469 [==============================] - 13s 2ms/step - loss: 0.0169 - Wape: 8.4856 - MAE: 0.0169 - RMSE: 0.0383 - MAPE: 8587.2109 - MSE: 0.0015\n",
      "Epoch 8/50\n",
      "6460/6469 [============================>.] - ETA: 0s - loss: 0.0162 - Wape: 8.1123 - MAE: 0.0162 - RMSE: 0.0373 - MAPE: 8238.5771 - MSE: 0.0014\n",
      "Epoch 00008: loss improved from 0.01691 to 0.01619, saving model to New Leon's LSTM Sweatwater/weights-improvement-08-0.0162.hdf5\n",
      "6469/6469 [==============================] - 13s 2ms/step - loss: 0.0162 - Wape: 8.1129 - MAE: 0.0162 - RMSE: 0.0373 - MAPE: 8227.3242 - MSE: 0.0014\n",
      "Epoch 9/50\n",
      "6466/6469 [============================>.] - ETA: 0s - loss: 0.0156 - Wape: 7.8130 - MAE: 0.0156 - RMSE: 0.0363 - MAPE: 7909.0469 - MSE: 0.0013\n",
      "Epoch 00009: loss improved from 0.01619 to 0.01557, saving model to New Leon's LSTM Sweatwater/weights-improvement-09-0.0156.hdf5\n",
      "6469/6469 [==============================] - 14s 2ms/step - loss: 0.0156 - Wape: 7.8127 - MAE: 0.0156 - RMSE: 0.0363 - MAPE: 7905.5728 - MSE: 0.0013\n",
      "Epoch 10/50\n",
      "6467/6469 [============================>.] - ETA: 0s - loss: 0.0151 - Wape: 7.5507 - MAE: 0.0151 - RMSE: 0.0355 - MAPE: 7606.5972 - MSE: 0.0013\n",
      "Epoch 00010: loss improved from 0.01557 to 0.01506, saving model to New Leon's LSTM Sweatwater/weights-improvement-10-0.0151.hdf5\n",
      "6469/6469 [==============================] - 13s 2ms/step - loss: 0.0151 - Wape: 7.5508 - MAE: 0.0151 - RMSE: 0.0355 - MAPE: 7604.4312 - MSE: 0.0013\n",
      "Epoch 11/50\n",
      "6452/6469 [============================>.] - ETA: 0s - loss: 0.0146 - Wape: 7.3292 - MAE: 0.0146 - RMSE: 0.0347 - MAPE: 7346.7441 - MSE: 0.0012\n",
      "Epoch 00011: loss improved from 0.01506 to 0.01462, saving model to New Leon's LSTM Sweatwater/weights-improvement-11-0.0146.hdf5\n",
      "6469/6469 [==============================] - 13s 2ms/step - loss: 0.0146 - Wape: 7.3285 - MAE: 0.0146 - RMSE: 0.0347 - MAPE: 7327.6289 - MSE: 0.0012\n",
      "Epoch 12/50\n",
      "6462/6469 [============================>.] - ETA: 0s - loss: 0.0143 - Wape: 7.1474 - MAE: 0.0143 - RMSE: 0.0340 - MAPE: 7094.4717 - MSE: 0.0012\n",
      "Epoch 00012: loss improved from 0.01462 to 0.01425, saving model to New Leon's LSTM Sweatwater/weights-improvement-12-0.0143.hdf5\n",
      "6469/6469 [==============================] - 12s 2ms/step - loss: 0.0143 - Wape: 7.1474 - MAE: 0.0143 - RMSE: 0.0340 - MAPE: 7086.9722 - MSE: 0.0012\n",
      "Epoch 13/50\n",
      "6454/6469 [============================>.] - ETA: 0s - loss: 0.0139 - Wape: 6.9921 - MAE: 0.0139 - RMSE: 0.0334 - MAPE: 6902.9478 - MSE: 0.0011\n",
      "Epoch 00013: loss improved from 0.01425 to 0.01393, saving model to New Leon's LSTM Sweatwater/weights-improvement-13-0.0139.hdf5\n",
      "6469/6469 [==============================] - 12s 2ms/step - loss: 0.0139 - Wape: 6.9895 - MAE: 0.0139 - RMSE: 0.0334 - MAPE: 6887.1196 - MSE: 0.0011\n",
      "Epoch 14/50\n",
      "6469/6469 [==============================] - ETA: 0s - loss: 0.0136 - Wape: 6.8364 - MAE: 0.0136 - RMSE: 0.0328 - MAPE: 6705.0293 - MSE: 0.0011\n",
      "Epoch 00014: loss improved from 0.01393 to 0.01364, saving model to New Leon's LSTM Sweatwater/weights-improvement-14-0.0136.hdf5\n",
      "6469/6469 [==============================] - 12s 2ms/step - loss: 0.0136 - Wape: 6.8364 - MAE: 0.0136 - RMSE: 0.0328 - MAPE: 6705.0293 - MSE: 0.0011\n",
      "Epoch 15/50\n",
      "6452/6469 [============================>.] - ETA: 0s - loss: 0.0134 - Wape: 6.7045 - MAE: 0.0134 - RMSE: 0.0322 - MAPE: 6575.7202 - MSE: 0.0010\n",
      "Epoch 00015: loss improved from 0.01364 to 0.01336, saving model to New Leon's LSTM Sweatwater/weights-improvement-15-0.0134.hdf5\n",
      "6469/6469 [==============================] - 13s 2ms/step - loss: 0.0134 - Wape: 6.7031 - MAE: 0.0134 - RMSE: 0.0322 - MAPE: 6558.6128 - MSE: 0.0010\n",
      "Epoch 16/50\n",
      "6464/6469 [============================>.] - ETA: 0s - loss: 0.0131 - Wape: 6.5724 - MAE: 0.0131 - RMSE: 0.0317 - MAPE: 6419.0210 - MSE: 0.0010 \n",
      "Epoch 00016: loss improved from 0.01336 to 0.01310, saving model to New Leon's LSTM Sweatwater/weights-improvement-16-0.0131.hdf5\n",
      "6469/6469 [==============================] - 12s 2ms/step - loss: 0.0131 - Wape: 6.5715 - MAE: 0.0131 - RMSE: 0.0317 - MAPE: 6414.2183 - MSE: 0.0010\n",
      "Epoch 17/50\n",
      "6448/6469 [============================>.] - ETA: 0s - loss: 0.0128 - Wape: 6.4445 - MAE: 0.0128 - RMSE: 0.0311 - MAPE: 6125.4590 - MSE: 9.6836e-04\n",
      "Epoch 00017: loss improved from 0.01310 to 0.01284, saving model to New Leon's LSTM Sweatwater/weights-improvement-17-0.0128.hdf5\n",
      "6469/6469 [==============================] - 12s 2ms/step - loss: 0.0128 - Wape: 6.4427 - MAE: 0.0128 - RMSE: 0.0311 - MAPE: 6287.3457 - MSE: 9.6785e-04\n",
      "Epoch 18/50\n",
      "6449/6469 [============================>.] - ETA: 0s - loss: 0.0126 - Wape: 6.3148 - MAE: 0.0126 - RMSE: 0.0306 - MAPE: 6182.7402 - MSE: 9.3604e-04\n",
      "Epoch 00018: loss improved from 0.01284 to 0.01259, saving model to New Leon's LSTM Sweatwater/weights-improvement-18-0.0126.hdf5\n",
      "6469/6469 [==============================] - 13s 2ms/step - loss: 0.0126 - Wape: 6.3122 - MAE: 0.0126 - RMSE: 0.0306 - MAPE: 6163.7876 - MSE: 9.3480e-04\n",
      "Epoch 19/50\n",
      "6445/6469 [============================>.] - ETA: 0s - loss: 0.0123 - Wape: 6.1914 - MAE: 0.0123 - RMSE: 0.0301 - MAPE: 5937.4155 - MSE: 9.0374e-04\n",
      "Epoch 00019: loss improved from 0.01259 to 0.01234, saving model to New Leon's LSTM Sweatwater/weights-improvement-19-0.0123.hdf5\n",
      "6469/6469 [==============================] - 12s 2ms/step - loss: 0.0123 - Wape: 6.1888 - MAE: 0.0123 - RMSE: 0.0300 - MAPE: 6052.2388 - MSE: 9.0273e-04\n",
      "Epoch 20/50\n",
      "6444/6469 [============================>.] - ETA: 0s - loss: 0.0121 - Wape: 6.0670 - MAE: 0.0121 - RMSE: 0.0295 - MAPE: 5960.9380 - MSE: 8.7192e-04\n",
      "Epoch 00020: loss improved from 0.01234 to 0.01209, saving model to New Leon's LSTM Sweatwater/weights-improvement-20-0.0121.hdf5\n",
      "6469/6469 [==============================] - 13s 2ms/step - loss: 0.0121 - Wape: 6.0675 - MAE: 0.0121 - RMSE: 0.0295 - MAPE: 5938.0640 - MSE: 8.7185e-04\n",
      "Epoch 21/50\n",
      "6457/6469 [============================>.] - ETA: 0s - loss: 0.0119 - Wape: 5.9508 - MAE: 0.0119 - RMSE: 0.0290 - MAPE: 5844.3208 - MSE: 8.4299e-04\n",
      "Epoch 00021: loss improved from 0.01209 to 0.01186, saving model to New Leon's LSTM Sweatwater/weights-improvement-21-0.0119.hdf5\n",
      "6469/6469 [==============================] - 12s 2ms/step - loss: 0.0119 - Wape: 5.9489 - MAE: 0.0119 - RMSE: 0.0290 - MAPE: 5833.6309 - MSE: 8.4214e-04\n",
      "Epoch 22/50\n",
      "6462/6469 [============================>.] - ETA: 0s - loss: 0.0116 - Wape: 5.8307 - MAE: 0.0116 - RMSE: 0.0285 - MAPE: 5728.1147 - MSE: 8.1387e-04\n",
      "Epoch 00022: loss improved from 0.01186 to 0.01162, saving model to New Leon's LSTM Sweatwater/weights-improvement-22-0.0116.hdf5\n",
      "6469/6469 [==============================] - 12s 2ms/step - loss: 0.0116 - Wape: 5.8308 - MAE: 0.0116 - RMSE: 0.0285 - MAPE: 5722.0596 - MSE: 8.1377e-04\n",
      "Epoch 23/50\n",
      "6465/6469 [============================>.] - ETA: 0s - loss: 0.0114 - Wape: 5.7140 - MAE: 0.0114 - RMSE: 0.0280 - MAPE: 5617.5957 - MSE: 7.8605e-04\n",
      "Epoch 00023: loss improved from 0.01162 to 0.01139, saving model to New Leon's LSTM Sweatwater/weights-improvement-23-0.0114.hdf5\n",
      "6469/6469 [==============================] - 13s 2ms/step - loss: 0.0114 - Wape: 5.7146 - MAE: 0.0114 - RMSE: 0.0280 - MAPE: 5614.2607 - MSE: 7.8618e-04\n",
      "Epoch 24/50\n",
      "6468/6469 [============================>.] - ETA: 0s - loss: 0.0112 - Wape: 5.5981 - MAE: 0.0112 - RMSE: 0.0276 - MAPE: 5515.3115 - MSE: 7.5929e-04\n",
      "Epoch 00024: loss improved from 0.01139 to 0.01116, saving model to New Leon's LSTM Sweatwater/weights-improvement-24-0.0112.hdf5\n",
      "6469/6469 [==============================] - 12s 2ms/step - loss: 0.0112 - Wape: 5.5980 - MAE: 0.0112 - RMSE: 0.0276 - MAPE: 5514.5928 - MSE: 7.5923e-04\n",
      "Epoch 25/50\n",
      "6447/6469 [============================>.] - ETA: 0s - loss: 0.0109 - Wape: 5.4837 - MAE: 0.0109 - RMSE: 0.0271 - MAPE: 5419.3979 - MSE: 7.3330e-04\n",
      "Epoch 00025: loss improved from 0.01116 to 0.01093, saving model to New Leon's LSTM Sweatwater/weights-improvement-25-0.0109.hdf5\n",
      "6469/6469 [==============================] - 13s 2ms/step - loss: 0.0109 - Wape: 5.4852 - MAE: 0.0109 - RMSE: 0.0271 - MAPE: 5401.1182 - MSE: 7.3348e-04\n",
      "Epoch 26/50\n",
      "6449/6469 [============================>.] - ETA: 0s - loss: 0.0107 - Wape: 5.3811 - MAE: 0.0107 - RMSE: 0.0266 - MAPE: 5315.5762 - MSE: 7.0845e-04\n",
      "Epoch 00026: loss improved from 0.01093 to 0.01071, saving model to New Leon's LSTM Sweatwater/weights-improvement-26-0.0107.hdf5\n",
      "6469/6469 [==============================] - 13s 2ms/step - loss: 0.0107 - Wape: 5.3815 - MAE: 0.0107 - RMSE: 0.0266 - MAPE: 5299.2871 - MSE: 7.0873e-04\n",
      "Epoch 27/50\n",
      "6450/6469 [============================>.] - ETA: 0s - loss: 0.0105 - Wape: 5.2672 - MAE: 0.0105 - RMSE: 0.0262 - MAPE: 5216.9102 - MSE: 6.8524e-04\n",
      "Epoch 00027: loss improved from 0.01071 to 0.01049, saving model to New Leon's LSTM Sweatwater/weights-improvement-27-0.0105.hdf5\n",
      "6469/6469 [==============================] - 13s 2ms/step - loss: 0.0105 - Wape: 5.2664 - MAE: 0.0105 - RMSE: 0.0262 - MAPE: 5201.7319 - MSE: 6.8484e-04\n",
      "Epoch 28/50\n",
      "6449/6469 [============================>.] - ETA: 0s - loss: 0.0103 - Wape: 5.1592 - MAE: 0.0103 - RMSE: 0.0257 - MAPE: 5108.6431 - MSE: 6.6220e-04\n",
      "Epoch 00028: loss improved from 0.01049 to 0.01028, saving model to New Leon's LSTM Sweatwater/weights-improvement-28-0.0103.hdf5\n",
      "6469/6469 [==============================] - 13s 2ms/step - loss: 0.0103 - Wape: 5.1580 - MAE: 0.0103 - RMSE: 0.0257 - MAPE: 5092.9829 - MSE: 6.6184e-04\n",
      "Epoch 29/50\n",
      "6454/6469 [============================>.] - ETA: 0s - loss: 0.0101 - Wape: 5.0563 - MAE: 0.0101 - RMSE: 0.0253 - MAPE: 5003.2910 - MSE: 6.4005e-04\n",
      "Epoch 00029: loss improved from 0.01028 to 0.01007, saving model to New Leon's LSTM Sweatwater/weights-improvement-29-0.0101.hdf5\n",
      "6469/6469 [==============================] - 13s 2ms/step - loss: 0.0101 - Wape: 5.0558 - MAE: 0.0101 - RMSE: 0.0253 - MAPE: 4991.8193 - MSE: 6.3985e-04\n",
      "Epoch 30/50\n",
      "6452/6469 [============================>.] - ETA: 0s - loss: 0.0099 - Wape: 4.9528 - MAE: 0.0099 - RMSE: 0.0249 - MAPE: 4896.0850 - MSE: 6.1883e-04\n",
      "Epoch 00030: loss improved from 0.01007 to 0.00986, saving model to New Leon's LSTM Sweatwater/weights-improvement-30-0.0099.hdf5\n",
      "6469/6469 [==============================] - 13s 2ms/step - loss: 0.0099 - Wape: 4.9518 - MAE: 0.0099 - RMSE: 0.0249 - MAPE: 4883.3452 - MSE: 6.1882e-04\n",
      "Epoch 31/50\n",
      "6453/6469 [============================>.] - ETA: 0s - loss: 0.0097 - Wape: 4.8553 - MAE: 0.0097 - RMSE: 0.0245 - MAPE: 4802.0278 - MSE: 5.9896e-04\n",
      "Epoch 00031: loss improved from 0.00986 to 0.00966, saving model to New Leon's LSTM Sweatwater/weights-improvement-31-0.0097.hdf5\n",
      "6469/6469 [==============================] - 13s 2ms/step - loss: 0.0097 - Wape: 4.8536 - MAE: 0.0097 - RMSE: 0.0245 - MAPE: 4790.2744 - MSE: 5.9860e-04\n",
      "Epoch 32/50\n",
      "6460/6469 [============================>.] - ETA: 0s - loss: 0.0095 - Wape: 4.7576 - MAE: 0.0095 - RMSE: 0.0241 - MAPE: 4693.2417 - MSE: 5.7959e-04\n",
      "Epoch 00032: loss improved from 0.00966 to 0.00947, saving model to New Leon's LSTM Sweatwater/weights-improvement-32-0.0095.hdf5\n",
      "6469/6469 [==============================] - 13s 2ms/step - loss: 0.0095 - Wape: 4.7577 - MAE: 0.0095 - RMSE: 0.0241 - MAPE: 4686.8306 - MSE: 5.7943e-04\n",
      "Epoch 33/50\n",
      "6458/6469 [============================>.] - ETA: 0s - loss: 0.0093 - Wape: 4.6573 - MAE: 0.0093 - RMSE: 0.0237 - MAPE: 4595.0874 - MSE: 5.6130e-04\n",
      "Epoch 00033: loss improved from 0.00947 to 0.00928, saving model to New Leon's LSTM Sweatwater/weights-improvement-33-0.0093.hdf5\n",
      "6469/6469 [==============================] - 13s 2ms/step - loss: 0.0093 - Wape: 4.6570 - MAE: 0.0093 - RMSE: 0.0237 - MAPE: 4587.3906 - MSE: 5.6094e-04\n",
      "Epoch 34/50\n",
      "6464/6469 [============================>.] - ETA: 0s - loss: 0.0091 - Wape: 4.5720 - MAE: 0.0091 - RMSE: 0.0233 - MAPE: 4500.1133 - MSE: 5.4370e-04\n",
      "Epoch 00034: loss improved from 0.00928 to 0.00909, saving model to New Leon's LSTM Sweatwater/weights-improvement-34-0.0091.hdf5\n",
      "6469/6469 [==============================] - 13s 2ms/step - loss: 0.0091 - Wape: 4.5721 - MAE: 0.0091 - RMSE: 0.0233 - MAPE: 4496.7466 - MSE: 5.4358e-04\n",
      "Epoch 35/50\n",
      "6469/6469 [==============================] - ETA: 0s - loss: 0.0089 - Wape: 4.4801 - MAE: 0.0089 - RMSE: 0.0230 - MAPE: 4398.5293 - MSE: 5.2697e-04\n",
      "Epoch 00035: loss improved from 0.00909 to 0.00891, saving model to New Leon's LSTM Sweatwater/weights-improvement-35-0.0089.hdf5\n",
      "6469/6469 [==============================] - 13s 2ms/step - loss: 0.0089 - Wape: 4.4801 - MAE: 0.0089 - RMSE: 0.0230 - MAPE: 4398.5293 - MSE: 5.2697e-04\n",
      "Epoch 36/50\n",
      "6451/6469 [============================>.] - ETA: 0s - loss: 0.0087 - Wape: 4.3951 - MAE: 0.0087 - RMSE: 0.0226 - MAPE: 4303.5459 - MSE: 5.1123e-04\n",
      "Epoch 00036: loss improved from 0.00891 to 0.00874, saving model to New Leon's LSTM Sweatwater/weights-improvement-36-0.0087.hdf5\n",
      "6469/6469 [==============================] - 13s 2ms/step - loss: 0.0087 - Wape: 4.3958 - MAE: 0.0087 - RMSE: 0.0226 - MAPE: 4291.6851 - MSE: 5.1114e-04\n",
      "Epoch 37/50\n",
      "6454/6469 [============================>.] - ETA: 0s - loss: 0.0086 - Wape: 4.3113 - MAE: 0.0086 - RMSE: 0.0223 - MAPE: 4215.2554 - MSE: 4.9617e-04\n",
      "Epoch 00037: loss improved from 0.00874 to 0.00858, saving model to New Leon's LSTM Sweatwater/weights-improvement-37-0.0086.hdf5\n",
      "6469/6469 [==============================] - 13s 2ms/step - loss: 0.0086 - Wape: 4.3124 - MAE: 0.0086 - RMSE: 0.0223 - MAPE: 4205.5952 - MSE: 4.9632e-04\n",
      "Epoch 38/50\n",
      "6467/6469 [============================>.] - ETA: 0s - loss: 0.0084 - Wape: 4.2376 - MAE: 0.0084 - RMSE: 0.0220 - MAPE: 4114.8687 - MSE: 4.8229e-04\n",
      "Epoch 00038: loss improved from 0.00858 to 0.00842, saving model to New Leon's LSTM Sweatwater/weights-improvement-38-0.0084.hdf5\n",
      "6469/6469 [==============================] - 13s 2ms/step - loss: 0.0084 - Wape: 4.2377 - MAE: 0.0084 - RMSE: 0.0220 - MAPE: 4113.6963 - MSE: 4.8244e-04\n",
      "Epoch 39/50\n",
      "6447/6469 [============================>.] - ETA: 0s - loss: 0.0083 - Wape: 4.1617 - MAE: 0.0083 - RMSE: 0.0217 - MAPE: 4035.8340 - MSE: 4.6911e-04\n",
      "Epoch 00039: loss improved from 0.00842 to 0.00828, saving model to New Leon's LSTM Sweatwater/weights-improvement-39-0.0083.hdf5\n",
      "6469/6469 [==============================] - 13s 2ms/step - loss: 0.0083 - Wape: 4.1634 - MAE: 0.0083 - RMSE: 0.0217 - MAPE: 4022.2188 - MSE: 4.6938e-04\n",
      "Epoch 40/50\n",
      "6469/6469 [==============================] - ETA: 0s - loss: 0.0081 - Wape: 4.0952 - MAE: 0.0081 - RMSE: 0.0214 - MAPE: 3936.0381 - MSE: 4.5733e-04\n",
      "Epoch 00040: loss improved from 0.00828 to 0.00814, saving model to New Leon's LSTM Sweatwater/weights-improvement-40-0.0081.hdf5\n",
      "6469/6469 [==============================] - 12s 2ms/step - loss: 0.0081 - Wape: 4.0952 - MAE: 0.0081 - RMSE: 0.0214 - MAPE: 3936.0381 - MSE: 4.5733e-04\n",
      "Epoch 41/50\n",
      "6459/6469 [============================>.] - ETA: 0s - loss: 0.0080 - Wape: 4.0302 - MAE: 0.0080 - RMSE: 0.0211 - MAPE: 3854.9321 - MSE: 4.4605e-04\n",
      "Epoch 00041: loss improved from 0.00814 to 0.00801, saving model to New Leon's LSTM Sweatwater/weights-improvement-41-0.0080.hdf5\n",
      "6469/6469 [==============================] - 13s 2ms/step - loss: 0.0080 - Wape: 4.0301 - MAE: 0.0080 - RMSE: 0.0211 - MAPE: 3849.0715 - MSE: 4.4610e-04\n",
      "Epoch 42/50\n",
      "6451/6469 [============================>.] - ETA: 0s - loss: 0.0079 - Wape: 3.9688 - MAE: 0.0079 - RMSE: 0.0209 - MAPE: 3778.7319 - MSE: 4.3504e-04\n",
      "Epoch 00042: loss improved from 0.00801 to 0.00789, saving model to New Leon's LSTM Sweatwater/weights-improvement-42-0.0079.hdf5\n",
      "6469/6469 [==============================] - 13s 2ms/step - loss: 0.0079 - Wape: 3.9711 - MAE: 0.0079 - RMSE: 0.0209 - MAPE: 3768.3186 - MSE: 4.3551e-04\n",
      "Epoch 43/50\n",
      "6467/6469 [============================>.] - ETA: 0s - loss: 0.0078 - Wape: 3.9133 - MAE: 0.0078 - RMSE: 0.0206 - MAPE: 3683.5105 - MSE: 4.2577e-04\n",
      "Epoch 00043: loss improved from 0.00789 to 0.00778, saving model to New Leon's LSTM Sweatwater/weights-improvement-43-0.0078.hdf5\n",
      "6469/6469 [==============================] - 13s 2ms/step - loss: 0.0078 - Wape: 3.9133 - MAE: 0.0078 - RMSE: 0.0206 - MAPE: 3682.4614 - MSE: 4.2570e-04\n",
      "Epoch 44/50\n",
      "6456/6469 [============================>.] - ETA: 0s - loss: 0.0077 - Wape: 3.8661 - MAE: 0.0077 - RMSE: 0.0204 - MAPE: 3607.1541 - MSE: 4.1635e-04\n",
      "Epoch 00044: loss improved from 0.00778 to 0.00767, saving model to New Leon's LSTM Sweatwater/weights-improvement-44-0.0077.hdf5\n",
      "6469/6469 [==============================] - 13s 2ms/step - loss: 0.0077 - Wape: 3.8674 - MAE: 0.0077 - RMSE: 0.0204 - MAPE: 3599.9995 - MSE: 4.1659e-04\n",
      "Epoch 45/50\n",
      "6462/6469 [============================>.] - ETA: 0s - loss: 0.0076 - Wape: 3.8169 - MAE: 0.0076 - RMSE: 0.0202 - MAPE: 3533.5850 - MSE: 4.0817e-04\n",
      "Epoch 00045: loss improved from 0.00767 to 0.00758, saving model to New Leon's LSTM Sweatwater/weights-improvement-45-0.0076.hdf5\n",
      "6469/6469 [==============================] - 13s 2ms/step - loss: 0.0076 - Wape: 3.8174 - MAE: 0.0076 - RMSE: 0.0202 - MAPE: 3529.8508 - MSE: 4.0806e-04\n",
      "Epoch 46/50\n",
      "6466/6469 [============================>.] - ETA: 0s - loss: 0.0075 - Wape: 3.7669 - MAE: 0.0075 - RMSE: 0.0200 - MAPE: 3451.5828 - MSE: 4.0028e-04\n",
      "Epoch 00046: loss improved from 0.00758 to 0.00748, saving model to New Leon's LSTM Sweatwater/weights-improvement-46-0.0075.hdf5\n",
      "6469/6469 [==============================] - 13s 2ms/step - loss: 0.0075 - Wape: 3.7667 - MAE: 0.0075 - RMSE: 0.0200 - MAPE: 3450.0669 - MSE: 4.0017e-04\n",
      "Epoch 47/50\n",
      "6459/6469 [============================>.] - ETA: 0s - loss: 0.0074 - Wape: 3.7246 - MAE: 0.0074 - RMSE: 0.0198 - MAPE: 3379.5325 - MSE: 3.9270e-04\n",
      "Epoch 00047: loss improved from 0.00748 to 0.00740, saving model to New Leon's LSTM Sweatwater/weights-improvement-47-0.0074.hdf5\n",
      "6469/6469 [==============================] - 13s 2ms/step - loss: 0.0074 - Wape: 3.7245 - MAE: 0.0074 - RMSE: 0.0198 - MAPE: 3374.3940 - MSE: 3.9279e-04\n",
      "Epoch 48/50\n",
      "6465/6469 [============================>.] - ETA: 0s - loss: 0.0073 - Wape: 3.6876 - MAE: 0.0073 - RMSE: 0.0196 - MAPE: 3320.7563 - MSE: 3.8604e-04\n",
      "Epoch 00048: loss improved from 0.00740 to 0.00732, saving model to New Leon's LSTM Sweatwater/weights-improvement-48-0.0073.hdf5\n",
      "6469/6469 [==============================] - 14s 2ms/step - loss: 0.0073 - Wape: 3.6880 - MAE: 0.0073 - RMSE: 0.0196 - MAPE: 3318.7856 - MSE: 3.8595e-04\n",
      "Epoch 49/50\n",
      "6466/6469 [============================>.] - ETA: 0s - loss: 0.0072 - Wape: 3.6566 - MAE: 0.0072 - RMSE: 0.0195 - MAPE: 3246.6887 - MSE: 3.7954e-04\n",
      "Epoch 00049: loss improved from 0.00732 to 0.00725, saving model to New Leon's LSTM Sweatwater/weights-improvement-49-0.0072.hdf5\n",
      "6469/6469 [==============================] - 14s 2ms/step - loss: 0.0072 - Wape: 3.6572 - MAE: 0.0072 - RMSE: 0.0195 - MAPE: 3245.2634 - MSE: 3.7962e-04\n",
      "Epoch 50/50\n",
      "6461/6469 [============================>.] - ETA: 0s - loss: 0.0072 - Wape: 3.6170 - MAE: 0.0072 - RMSE: 0.0193 - MAPE: 3190.5405 - MSE: 3.7361e-04\n",
      "Epoch 00050: loss improved from 0.00725 to 0.00718, saving model to New Leon's LSTM Sweatwater/weights-improvement-50-0.0072.hdf5\n",
      "6469/6469 [==============================] - 13s 2ms/step - loss: 0.0072 - Wape: 3.6185 - MAE: 0.0072 - RMSE: 0.0193 - MAPE: 3186.6812 - MSE: 3.7372e-04\n"
     ]
    },
    {
     "data": {
      "text/plain": [
       "<keras.callbacks.History at 0x14b1cc108ad0>"
      ]
     },
     "execution_count": 22,
     "metadata": {},
     "output_type": "execute_result"
    }
   ],
   "source": [
    "from tensorflow.keras import Sequential\n",
    "from tensorflow.keras.models import Sequential\n",
    "from tensorflow.keras.layers import Dense, LSTM, Dropout, Conv1D, MaxPooling1D, Flatten\n",
    "from tensorflow.keras.optimizers import Adam\n",
    "import tensorflow.keras.backend as K\n",
    "import tensorflow as tf\n",
    "from keras.callbacks import ModelCheckpoint\n",
    "\n",
    "\n",
    "\n",
    "adam = Adam(learning_rate=0.00000008)\n",
    "# The LSTM architecture\n",
    "regressor = Sequential()\n",
    "# First LSTM layer with Dropout regularisation\n",
    "regressor.add(Conv1D(filters=64, kernel_size=2, activation='relu', input_shape=(X_train.shape[1], X_train.shape[2])))\n",
    "\n",
    "# # Third LSTM layer\n",
    "regressor.add(MaxPooling1D(pool_size=2))\n",
    "\n",
    "\n",
    "# The Fifth layer\n",
    "regressor.add(Flatten())\n",
    "\n",
    "# The Sixth layer\n",
    "regressor.add(Dense(units=1))\n",
    "\n",
    "# Compiling the RNN\n",
    "regressor.compile(optimizer=adam,loss=\"mean_absolute_error\",\n",
    "                  metrics=[Wape,\n",
    "                           tf.metrics.MeanAbsoluteError(name=\"MAE\"),\n",
    "                           tf.metrics.RootMeanSquaredError(name=\"RMSE\"),\n",
    "                           tf.metrics.MeanAbsolutePercentageError(name=\"MAPE\"),\n",
    "                           \"MSE\",\n",
    "                          ],\n",
    "                           \n",
    "                 )\n",
    "\n",
    "print(1)\n",
    "filepath=\"New Leon's LSTM Sweatwater/weights-improvement-{epoch:02d}-{loss:.4f}.hdf5\"\n",
    "checkpoint = ModelCheckpoint(filepath, monitor='loss', verbose=1, save_best_only=True, mode='min')\n",
    "callbacks_list = [checkpoint]\n",
    "print(1)\n",
    "# Fitting to the training set\n",
    "regressor.fit(X_train,y_train,epochs=50,batch_size=32,callbacks=callbacks_list)"
   ]
  },
  {
   "cell_type": "code",
   "execution_count": null,
   "id": "061f5ecd-52a9-410e-ab95-4631871890b5",
   "metadata": {
    "tags": []
   },
   "outputs": [],
   "source": [
    "regressor.fit(X_train,y_train,epochs=50,batch_size=32,callbacks=callbacks_list)"
   ]
  },
  {
   "cell_type": "markdown",
   "id": "c70fac47-43c7-4393-9fc6-2ad3ad7bf129",
   "metadata": {},
   "source": [
    "# Create Model and load weights"
   ]
  },
  {
   "cell_type": "code",
   "execution_count": 16,
   "id": "45d2d43b-3469-46cc-b1da-3b7a6e385e19",
   "metadata": {},
   "outputs": [],
   "source": [
    "from tensorflow.keras import Sequential\n",
    "from tensorflow.keras.models import Sequential\n",
    "from tensorflow.keras.layers import Dense, LSTM, Dropout, Conv1D, MaxPooling1D, Flatten\n",
    "from tensorflow.keras.optimizers import Adam\n",
    "import tensorflow.keras.backend as K\n",
    "import tensorflow as tf\n",
    "from keras.callbacks import ModelCheckpoint\n",
    "\n",
    "def create_model():\n",
    "    regressor = Sequential()\n",
    "# First LSTM layer with Dropout regularisation\n",
    "    regressor.add(Conv1D(filters=64, kernel_size=2, activation='relu', input_shape=(X_train.shape[1], X_train.shape[2])))\n",
    "\n",
    "    # # Third LSTM layer\n",
    "    regressor.add(MaxPooling1D(pool_size=2))\n",
    "\n",
    "\n",
    "    # The Fifth layer\n",
    "    regressor.add(Flatten())\n",
    "\n",
    "    # The Sixth layer\n",
    "    regressor.add(Dense(units=1))\n",
    "\n",
    "    # Compiling the RNN\n",
    "    regressor.compile(optimizer=\"adam\",loss=\"mean_absolute_error\",\n",
    "                      metrics=[Wape,\n",
    "                               tf.metrics.MeanAbsoluteError(name=\"MAE\"),\n",
    "                               tf.metrics.RootMeanSquaredError(name=\"RMSE\"),\n",
    "                               tf.metrics.MeanAbsolutePercentageError(name=\"MAPE\"),\n",
    "                               \"MSE\",\n",
    "                              ],\n",
    "\n",
    "                     )\n",
    "\n",
    "    return regressor\n",
    "regressor = create_model()\n",
    "regressor.load_weights(\"New Leon's LSTM Sweatwater/weights-improvement-44-0.0065.hdf5\")"
   ]
  },
  {
   "cell_type": "code",
   "execution_count": 33,
   "id": "0b4b8ff5-d8be-4faa-952c-4e9f21a439e1",
   "metadata": {},
   "outputs": [],
   "source": [
    "regressor.save(\"Sweatwater-CNN.h5\")"
   ]
  }
 ],
 "metadata": {
  "kernelspec": {
   "display_name": "Python 3 (ipykernel)",
   "language": "python",
   "name": "python3"
  },
  "language_info": {
   "codemirror_mode": {
    "name": "ipython",
    "version": 3
   },
   "file_extension": ".py",
   "mimetype": "text/x-python",
   "name": "python",
   "nbconvert_exporter": "python",
   "pygments_lexer": "ipython3",
   "version": "3.9.7"
  }
 },
 "nbformat": 4,
 "nbformat_minor": 5
}
