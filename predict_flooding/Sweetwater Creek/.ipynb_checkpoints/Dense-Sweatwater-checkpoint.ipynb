{
 "cells": [
  {
   "cell_type": "code",
   "execution_count": 1,
   "id": "1becc4d0-aa48-42e2-97c4-550538fd8d0d",
   "metadata": {
    "tags": []
   },
   "outputs": [],
   "source": [
    "import pandas as pd\n",
    "import numpy as np\n",
    "import matplotlib.pyplot as plt\n",
    "plt.style.use('fivethirtyeight')"
   ]
  },
  {
   "cell_type": "code",
   "execution_count": 3,
   "id": "702fa34d-493b-411e-b66b-10ac5ae495df",
   "metadata": {},
   "outputs": [],
   "source": [
    "df = pd.read_csv('./../../datasets/SWEETWATER CREEK.csv',header=0, parse_dates=['time'])"
   ]
  },
  {
   "cell_type": "code",
   "execution_count": 4,
   "id": "5d99384d-7f9c-4163-945b-64dad3e3b6ac",
   "metadata": {},
   "outputs": [
    {
     "name": "stderr",
     "output_type": "stream",
     "text": [
      "/software/spackages/linux-centos8-x86_64/gcc-8.3.1/anaconda3-2019.10-v5cuhr6keyz5ryxcwvv2jkzfj2gwrj4a/lib/python3.7/site-packages/pandas/plotting/_matplotlib/converter.py:103: FutureWarning: Using an implicitly registered datetime converter for a matplotlib plotting method. The converter was registered by pandas on import. Future versions of pandas will require you to explicitly register matplotlib converters.\n",
      "\n",
      "To register the converters:\n",
      "\t>>> from pandas.plotting import register_matplotlib_converters\n",
      "\t>>> register_matplotlib_converters()\n",
      "  warnings.warn(msg, FutureWarning)\n"
     ]
    },
    {
     "data": {
      "text/plain": [
       "[<matplotlib.lines.Line2D at 0x14a31c4c7790>]"
      ]
     },
     "execution_count": 4,
     "metadata": {},
     "output_type": "execute_result"
    },
    {
     "data": {
      "image/png": "[encoded data removed]",
      "text/plain": [
       "<Figure size 432x288 with 1 Axes>"
      ]
     },
     "metadata": {
      "needs_background": "light"
     },
     "output_type": "display_data"
    }
   ],
   "source": [
    "df[\"time\"] = pd.to_datetime(df['time'])\n",
    "df = df.set_index('time')\n",
    "plt.plot(df.index,df[\"height\"])"
   ]
  },
  {
   "cell_type": "code",
   "execution_count": 5,
   "id": "d84b6da5-b7c7-45b9-8971-82ee6ad9a7a8",
   "metadata": {},
   "outputs": [],
   "source": [
    "train_set = df[:'2020'].iloc[:,:]\n",
    "test_set = df['2021':].iloc[:,:]"
   ]
  },
  {
   "cell_type": "code",
   "execution_count": 6,
   "id": "2da42284-7380-412f-8f7d-b49b9c5680d5",
   "metadata": {},
   "outputs": [],
   "source": [
    "from sklearn.preprocessing import MinMaxScaler\n",
    "sc = MinMaxScaler()\n",
    "training_set_scaled = sc.fit_transform(train_set)"
   ]
  },
  {
   "cell_type": "code",
   "execution_count": 7,
   "id": "ecccaa4a-5633-4888-86e8-86e4fd4b8c26",
   "metadata": {},
   "outputs": [
    {
     "data": {
      "text/plain": [
       "207103"
      ]
     },
     "execution_count": 7,
     "metadata": {},
     "output_type": "execute_result"
    }
   ],
   "source": [
    "len(training_set_scaled)"
   ]
  },
  {
   "cell_type": "code",
   "execution_count": 8,
   "id": "050ac6d7-8bbe-4077-8a06-269c6297c9e0",
   "metadata": {},
   "outputs": [],
   "source": [
    "X_train = []\n",
    "y_train = []\n",
    "for i in range(100,len(training_set_scaled)):\n",
    "    X_train.append(training_set_scaled[i-100:i,0])\n",
    "    y_train.append(training_set_scaled[i,0])\n",
    "X_train, y_train = np.array(X_train), np.array(y_train)"
   ]
  },
  {
   "cell_type": "code",
   "execution_count": 9,
   "id": "d938e1d6-1d8e-48e2-aa72-3b56c952ecd6",
   "metadata": {},
   "outputs": [],
   "source": [
    "X_train = np.reshape(X_train, (X_train.shape[0],X_train.shape[1],1))"
   ]
  },
  {
   "cell_type": "code",
   "execution_count": 10,
   "id": "223780cc-9f7e-4f37-bd11-a537e07cccdb",
   "metadata": {},
   "outputs": [
    {
     "data": {
      "text/plain": [
       "(207003, 100, 1)"
      ]
     },
     "execution_count": 10,
     "metadata": {},
     "output_type": "execute_result"
    }
   ],
   "source": [
    "X_train.shape"
   ]
  },
  {
   "cell_type": "code",
   "execution_count": 11,
   "id": "96091a9c-a00f-49ed-86d1-145a2c9f2b4b",
   "metadata": {},
   "outputs": [],
   "source": [
    "# Reshaping X_train for efficient modelling\n",
    "X_train = np.reshape(X_train, (X_train.shape[0],X_train.shape[1],1))"
   ]
  },
  {
   "cell_type": "code",
   "execution_count": 12,
   "id": "a62a6a62-9cc1-4c1d-b5c7-e993becf4d8a",
   "metadata": {},
   "outputs": [],
   "source": [
    "from tensorflow.keras.callbacks import EarlyStopping\n",
    "early_stopping = EarlyStopping(monitor='loss', patience=8)"
   ]
  },
  {
   "cell_type": "code",
   "execution_count": 13,
   "id": "84abc51a-e30a-4292-b48b-0121676b773b",
   "metadata": {},
   "outputs": [
    {
     "name": "stdout",
     "output_type": "stream",
     "text": [
      "Num GPUs Available:  2\n"
     ]
    }
   ],
   "source": [
    "import tensorflow as tf\n",
    "print(\"Num GPUs Available: \", len(tf.config.list_physical_devices('GPU')))"
   ]
  },
  {
   "cell_type": "code",
   "execution_count": 14,
   "id": "6d4a6bcf-ba1f-40b7-a576-8f3f5af0c652",
   "metadata": {},
   "outputs": [],
   "source": [
    "def Wape(y, y_pred):\n",
    "    \"\"\"Weighted Average Percentage Error metric in the interval [0; 100]\"\"\"\n",
    "    nominator = tf.reduce_sum(tf.abs(tf.subtract(y, y_pred)))\n",
    "    denominator = tf.add(tf.reduce_sum(tf.abs(y)), K.epsilon())\n",
    "    wape = tf.scalar_mul(100.0, tf.divide(nominator, denominator))\n",
    "    return wape\n",
    "\n",
    "def nse(y, y_pred):\n",
    "    return (1-(K.sum((y_pred-y)**2)/K.sum((y-K.mean(y))**2)))"
   ]
  },
  {
   "cell_type": "code",
   "execution_count": 51,
   "id": "b619b8a6-2074-4ab7-bb57-7e52e25fb1b7",
   "metadata": {
    "jupyter": {
     "outputs_hidden": true
    },
    "scrolled": true,
    "tags": []
   },
   "outputs": [
    {
     "name": "stdout",
     "output_type": "stream",
     "text": [
      "1\n",
      "1\n",
      "Epoch 1/50\n",
      "6452/6469 [============================>.] - ETA: 0s - loss: 0.0456 - Wape: 23.0082 - MAE: 0.0456 - RMSE: 0.0925 - MAPE: 4171.4482 - MSE: 0.0086\n",
      "Epoch 00001: loss improved from inf to 0.04554, saving model to New Leon's LSTM Sweatwater/weights-improvement-01-0.0455.hdf5\n",
      "6469/6469 [==============================] - 14s 2ms/step - loss: 0.0455 - Wape: 22.9888 - MAE: 0.0455 - RMSE: 0.0925 - MAPE: 4160.6382 - MSE: 0.0085\n",
      "Epoch 2/50\n",
      "6463/6469 [============================>.] - ETA: 0s - loss: 0.0325 - Wape: 16.3613 - MAE: 0.0325 - RMSE: 0.0665 - MAPE: 6040.9385 - MSE: 0.0044\n",
      "Epoch 00002: loss improved from 0.04554 to 0.03250, saving model to New Leon's LSTM Sweatwater/weights-improvement-02-0.0325.hdf5\n",
      "6469/6469 [==============================] - 13s 2ms/step - loss: 0.0325 - Wape: 16.3622 - MAE: 0.0325 - RMSE: 0.0665 - MAPE: 6035.5020 - MSE: 0.0044\n",
      "Epoch 3/50\n",
      "6459/6469 [============================>.] - ETA: 0s - loss: 0.0322 - Wape: 16.2084 - MAE: 0.0322 - RMSE: 0.0659 - MAPE: 7364.8521 - MSE: 0.0043\n",
      "Epoch 00003: loss improved from 0.03250 to 0.03218, saving model to New Leon's LSTM Sweatwater/weights-improvement-03-0.0322.hdf5\n",
      "6469/6469 [==============================] - 14s 2ms/step - loss: 0.0322 - Wape: 16.2100 - MAE: 0.0322 - RMSE: 0.0659 - MAPE: 7353.6714 - MSE: 0.0043\n",
      "Epoch 4/50\n",
      "6452/6469 [============================>.] - ETA: 0s - loss: 0.0320 - Wape: 16.0989 - MAE: 0.0320 - RMSE: 0.0660 - MAPE: 5521.7764 - MSE: 0.0044\n",
      "Epoch 00004: loss improved from 0.03218 to 0.03198, saving model to New Leon's LSTM Sweatwater/weights-improvement-04-0.0320.hdf5\n",
      "6469/6469 [==============================] - 13s 2ms/step - loss: 0.0320 - Wape: 16.0936 - MAE: 0.0320 - RMSE: 0.0660 - MAPE: 5507.4419 - MSE: 0.0044\n",
      "Epoch 5/50\n",
      "6463/6469 [============================>.] - ETA: 0s - loss: 0.0320 - Wape: 16.1014 - MAE: 0.0320 - RMSE: 0.0654 - MAPE: 6378.5117 - MSE: 0.0043\n",
      "Epoch 00005: loss improved from 0.03198 to 0.03195, saving model to New Leon's LSTM Sweatwater/weights-improvement-05-0.0320.hdf5\n",
      "6469/6469 [==============================] - 13s 2ms/step - loss: 0.0320 - Wape: 16.1004 - MAE: 0.0320 - RMSE: 0.0654 - MAPE: 6372.7656 - MSE: 0.0043\n",
      "Epoch 6/50\n",
      "6460/6469 [============================>.] - ETA: 0s - loss: 0.0319 - Wape: 16.0757 - MAE: 0.0319 - RMSE: 0.0655 - MAPE: 7637.5635 - MSE: 0.0043\n",
      "Epoch 00006: loss improved from 0.03195 to 0.03194, saving model to New Leon's LSTM Sweatwater/weights-improvement-06-0.0319.hdf5\n",
      "6469/6469 [==============================] - 13s 2ms/step - loss: 0.0319 - Wape: 16.0799 - MAE: 0.0319 - RMSE: 0.0655 - MAPE: 7627.1479 - MSE: 0.0043\n",
      "Epoch 7/50\n",
      "6464/6469 [============================>.] - ETA: 0s - loss: 0.0318 - Wape: 15.9992 - MAE: 0.0318 - RMSE: 0.0653 - MAPE: 5596.6685 - MSE: 0.0043\n",
      "Epoch 00007: loss improved from 0.03194 to 0.03178, saving model to New Leon's LSTM Sweatwater/weights-improvement-07-0.0318.hdf5\n",
      "6469/6469 [==============================] - 12s 2ms/step - loss: 0.0318 - Wape: 15.9993 - MAE: 0.0318 - RMSE: 0.0653 - MAPE: 5592.4917 - MSE: 0.0043\n",
      "Epoch 8/50\n",
      "6448/6469 [============================>.] - ETA: 0s - loss: 0.0317 - Wape: 15.9557 - MAE: 0.0317 - RMSE: 0.0653 - MAPE: 7790.7070 - MSE: 0.0043\n",
      "Epoch 00008: loss improved from 0.03178 to 0.03169, saving model to New Leon's LSTM Sweatwater/weights-improvement-08-0.0317.hdf5\n",
      "6469/6469 [==============================] - 13s 2ms/step - loss: 0.0317 - Wape: 15.9542 - MAE: 0.0317 - RMSE: 0.0653 - MAPE: 7765.6587 - MSE: 0.0043\n",
      "Epoch 9/50\n",
      "6461/6469 [============================>.] - ETA: 0s - loss: 0.0317 - Wape: 15.9619 - MAE: 0.0317 - RMSE: 0.0652 - MAPE: 5925.2197 - MSE: 0.0042\n",
      "Epoch 00009: loss improved from 0.03169 to 0.03169, saving model to New Leon's LSTM Sweatwater/weights-improvement-09-0.0317.hdf5\n",
      "6469/6469 [==============================] - 13s 2ms/step - loss: 0.0317 - Wape: 15.9623 - MAE: 0.0317 - RMSE: 0.0652 - MAPE: 5918.0664 - MSE: 0.0042\n",
      "Epoch 10/50\n",
      "6459/6469 [============================>.] - ETA: 0s - loss: 0.0317 - Wape: 15.9663 - MAE: 0.0317 - RMSE: 0.0657 - MAPE: 5000.6611 - MSE: 0.0043\n",
      "Epoch 00010: loss did not improve from 0.03169\n",
      "6469/6469 [==============================] - 13s 2ms/step - loss: 0.0317 - Wape: 15.9685 - MAE: 0.0317 - RMSE: 0.0657 - MAPE: 4993.0894 - MSE: 0.0043\n",
      "Epoch 11/50\n",
      "6451/6469 [============================>.] - ETA: 0s - loss: 0.0317 - Wape: 15.9476 - MAE: 0.0317 - RMSE: 0.0655 - MAPE: 7108.0410 - MSE: 0.0043\n",
      "Epoch 00011: loss improved from 0.03169 to 0.03165, saving model to New Leon's LSTM Sweatwater/weights-improvement-11-0.0316.hdf5\n",
      "6469/6469 [==============================] - 13s 2ms/step - loss: 0.0316 - Wape: 15.9439 - MAE: 0.0316 - RMSE: 0.0654 - MAPE: 7088.4849 - MSE: 0.0043\n",
      "Epoch 12/50\n",
      "6459/6469 [============================>.] - ETA: 0s - loss: 0.0316 - Wape: 15.9299 - MAE: 0.0316 - RMSE: 0.0655 - MAPE: 7790.2686 - MSE: 0.0043\n",
      "Epoch 00012: loss did not improve from 0.03165\n",
      "6469/6469 [==============================] - 13s 2ms/step - loss: 0.0317 - Wape: 15.9317 - MAE: 0.0317 - RMSE: 0.0655 - MAPE: 7778.4409 - MSE: 0.0043\n",
      "Epoch 13/50\n",
      "6456/6469 [============================>.] - ETA: 0s - loss: 0.0314 - Wape: 15.8004 - MAE: 0.0314 - RMSE: 0.0644 - MAPE: 7822.1328 - MSE: 0.0041\n",
      "Epoch 00013: loss improved from 0.03165 to 0.03137, saving model to New Leon's LSTM Sweatwater/weights-improvement-13-0.0314.hdf5\n",
      "6469/6469 [==============================] - 13s 2ms/step - loss: 0.0314 - Wape: 15.8021 - MAE: 0.0314 - RMSE: 0.0644 - MAPE: 7806.6401 - MSE: 0.0041\n",
      "Epoch 14/50\n",
      "6464/6469 [============================>.] - ETA: 0s - loss: 0.0316 - Wape: 15.8969 - MAE: 0.0316 - RMSE: 0.0654 - MAPE: 8517.0527 - MSE: 0.0043\n",
      "Epoch 00014: loss did not improve from 0.03137\n",
      "6469/6469 [==============================] - 13s 2ms/step - loss: 0.0316 - Wape: 15.8964 - MAE: 0.0316 - RMSE: 0.0654 - MAPE: 8510.6885 - MSE: 0.0043\n",
      "Epoch 15/50\n",
      "6464/6469 [============================>.] - ETA: 0s - loss: 0.0316 - Wape: 15.9084 - MAE: 0.0316 - RMSE: 0.0658 - MAPE: 9443.1377 - MSE: 0.0043\n",
      "Epoch 00015: loss did not improve from 0.03137\n",
      "6469/6469 [==============================] - 13s 2ms/step - loss: 0.0316 - Wape: 15.9087 - MAE: 0.0316 - RMSE: 0.0658 - MAPE: 9436.0791 - MSE: 0.0043\n",
      "Epoch 16/50\n",
      "6458/6469 [============================>.] - ETA: 0s - loss: 0.0315 - Wape: 15.8529 - MAE: 0.0315 - RMSE: 0.0650 - MAPE: 7603.4214 - MSE: 0.0042\n",
      "Epoch 00016: loss did not improve from 0.03137\n",
      "6469/6469 [==============================] - 13s 2ms/step - loss: 0.0315 - Wape: 15.8525 - MAE: 0.0315 - RMSE: 0.0650 - MAPE: 7590.7031 - MSE: 0.0042\n",
      "Epoch 17/50\n",
      "6450/6469 [============================>.] - ETA: 0s - loss: 0.0315 - Wape: 15.8645 - MAE: 0.0315 - RMSE: 0.0652 - MAPE: 7287.4165 - MSE: 0.0043\n",
      "Epoch 00017: loss did not improve from 0.03137\n",
      "6469/6469 [==============================] - 13s 2ms/step - loss: 0.0315 - Wape: 15.8615 - MAE: 0.0315 - RMSE: 0.0652 - MAPE: 7266.2505 - MSE: 0.0042\n",
      "Epoch 18/50\n",
      "6467/6469 [============================>.] - ETA: 0s - loss: 0.0315 - Wape: 15.8668 - MAE: 0.0315 - RMSE: 0.0652 - MAPE: 5277.4307 - MSE: 0.0042\n",
      "Epoch 00018: loss did not improve from 0.03137\n",
      "6469/6469 [==============================] - 13s 2ms/step - loss: 0.0315 - Wape: 15.8667 - MAE: 0.0315 - RMSE: 0.0652 - MAPE: 5275.9302 - MSE: 0.0042\n",
      "Epoch 19/50\n",
      "6452/6469 [============================>.] - ETA: 0s - loss: 0.0314 - Wape: 15.8166 - MAE: 0.0314 - RMSE: 0.0647 - MAPE: 8077.6279 - MSE: 0.0042\n",
      "Epoch 00019: loss did not improve from 0.03137\n",
      "6469/6469 [==============================] - 13s 2ms/step - loss: 0.0314 - Wape: 15.8171 - MAE: 0.0314 - RMSE: 0.0647 - MAPE: 8056.6382 - MSE: 0.0042\n",
      "Epoch 20/50\n",
      "6453/6469 [============================>.] - ETA: 0s - loss: 0.0315 - Wape: 15.8557 - MAE: 0.0315 - RMSE: 0.0654 - MAPE: 5451.9062 - MSE: 0.0043\n",
      "Epoch 00020: loss did not improve from 0.03137\n",
      "6469/6469 [==============================] - 13s 2ms/step - loss: 0.0315 - Wape: 15.8571 - MAE: 0.0315 - RMSE: 0.0654 - MAPE: 5438.5967 - MSE: 0.0043\n",
      "Epoch 21/50\n",
      "6469/6469 [==============================] - ETA: 0s - loss: 0.0313 - Wape: 15.7852 - MAE: 0.0313 - RMSE: 0.0645 - MAPE: 10039.5918 - MSE: 0.0042\n",
      "Epoch 00021: loss improved from 0.03137 to 0.03133, saving model to New Leon's LSTM Sweatwater/weights-improvement-21-0.0313.hdf5\n",
      "6469/6469 [==============================] - 13s 2ms/step - loss: 0.0313 - Wape: 15.7852 - MAE: 0.0313 - RMSE: 0.0645 - MAPE: 10039.5918 - MSE: 0.0042\n",
      "Epoch 22/50\n",
      "6446/6469 [============================>.] - ETA: 0s - loss: 0.0314 - Wape: 15.8233 - MAE: 0.0314 - RMSE: 0.0651 - MAPE: 6162.0615 - MSE: 0.0042\n",
      "Epoch 00022: loss did not improve from 0.03133\n",
      "6469/6469 [==============================] - 13s 2ms/step - loss: 0.0314 - Wape: 15.8249 - MAE: 0.0314 - RMSE: 0.0651 - MAPE: 6140.3652 - MSE: 0.0042\n",
      "Epoch 23/50\n",
      "6458/6469 [============================>.] - ETA: 0s - loss: 0.0314 - Wape: 15.8396 - MAE: 0.0314 - RMSE: 0.0647 - MAPE: 5695.1006 - MSE: 0.0042\n",
      "Epoch 00023: loss did not improve from 0.03133\n",
      "6469/6469 [==============================] - 13s 2ms/step - loss: 0.0314 - Wape: 15.8373 - MAE: 0.0314 - RMSE: 0.0647 - MAPE: 5685.5835 - MSE: 0.0042\n",
      "Epoch 24/50\n",
      "6462/6469 [============================>.] - ETA: 0s - loss: 0.0315 - Wape: 15.8490 - MAE: 0.0315 - RMSE: 0.0652 - MAPE: 4048.4646 - MSE: 0.0042\n",
      "Epoch 00024: loss did not improve from 0.03133\n",
      "6469/6469 [==============================] - 13s 2ms/step - loss: 0.0315 - Wape: 15.8461 - MAE: 0.0315 - RMSE: 0.0651 - MAPE: 4044.1965 - MSE: 0.0042\n",
      "Epoch 25/50\n",
      "6447/6469 [============================>.] - ETA: 0s - loss: 0.0315 - Wape: 15.8379 - MAE: 0.0315 - RMSE: 0.0652 - MAPE: 6496.5679 - MSE: 0.0043\n",
      "Epoch 00025: loss did not improve from 0.03133\n",
      "6469/6469 [==============================] - 13s 2ms/step - loss: 0.0314 - Wape: 15.8309 - MAE: 0.0314 - RMSE: 0.0652 - MAPE: 6474.6899 - MSE: 0.0042\n",
      "Epoch 26/50\n",
      "6445/6469 [============================>.] - ETA: 0s - loss: 0.0314 - Wape: 15.8187 - MAE: 0.0314 - RMSE: 0.0650 - MAPE: 6896.0669 - MSE: 0.0042\n",
      "Epoch 00026: loss did not improve from 0.03133\n",
      "6469/6469 [==============================] - 13s 2ms/step - loss: 0.0314 - Wape: 15.8203 - MAE: 0.0314 - RMSE: 0.0650 - MAPE: 6870.7202 - MSE: 0.0042\n",
      "Epoch 27/50\n",
      "6450/6469 [============================>.] - ETA: 0s - loss: 0.0315 - Wape: 15.8401 - MAE: 0.0315 - RMSE: 0.0653 - MAPE: 8970.8311 - MSE: 0.0043\n",
      "Epoch 00027: loss did not improve from 0.03133\n",
      "6469/6469 [==============================] - 13s 2ms/step - loss: 0.0315 - Wape: 15.8384 - MAE: 0.0315 - RMSE: 0.0652 - MAPE: 8944.7500 - MSE: 0.0043\n",
      "Epoch 28/50\n",
      "6449/6469 [============================>.] - ETA: 0s - loss: 0.0315 - Wape: 15.8525 - MAE: 0.0315 - RMSE: 0.0652 - MAPE: 5785.2925 - MSE: 0.0043\n",
      "Epoch 00028: loss did not improve from 0.03133\n",
      "6469/6469 [==============================] - 13s 2ms/step - loss: 0.0315 - Wape: 15.8563 - MAE: 0.0315 - RMSE: 0.0652 - MAPE: 5813.3101 - MSE: 0.0043\n",
      "Epoch 29/50\n",
      "6469/6469 [==============================] - ETA: 0s - loss: 0.0315 - Wape: 15.8274 - MAE: 0.0315 - RMSE: 0.0650 - MAPE: 4919.9141 - MSE: 0.0042\n",
      "Epoch 00029: loss did not improve from 0.03133\n",
      "6469/6469 [==============================] - 13s 2ms/step - loss: 0.0315 - Wape: 15.8274 - MAE: 0.0315 - RMSE: 0.0650 - MAPE: 4919.9141 - MSE: 0.0042\n",
      "Epoch 30/50\n",
      "6462/6469 [============================>.] - ETA: 0s - loss: 0.0315 - Wape: 15.8441 - MAE: 0.0315 - RMSE: 0.0651 - MAPE: 5803.5854 - MSE: 0.0042\n",
      "Epoch 00030: loss did not improve from 0.03133\n",
      "6469/6469 [==============================] - 13s 2ms/step - loss: 0.0315 - Wape: 15.8426 - MAE: 0.0315 - RMSE: 0.0651 - MAPE: 5797.4619 - MSE: 0.0042\n",
      "Epoch 31/50\n",
      "6459/6469 [============================>.] - ETA: 0s - loss: 0.0314 - Wape: 15.8145 - MAE: 0.0314 - RMSE: 0.0651 - MAPE: 7718.0996 - MSE: 0.0042\n",
      "Epoch 00031: loss did not improve from 0.03133\n",
      "6469/6469 [==============================] - 14s 2ms/step - loss: 0.0314 - Wape: 15.8149 - MAE: 0.0314 - RMSE: 0.0651 - MAPE: 7706.3804 - MSE: 0.0042\n",
      "Epoch 32/50\n",
      "6469/6469 [==============================] - ETA: 0s - loss: 0.0313 - Wape: 15.7801 - MAE: 0.0313 - RMSE: 0.0646 - MAPE: 6374.4175 - MSE: 0.0042\n",
      "Epoch 00032: loss improved from 0.03133 to 0.03132, saving model to New Leon's LSTM Sweatwater/weights-improvement-32-0.0313.hdf5\n",
      "6469/6469 [==============================] - 13s 2ms/step - loss: 0.0313 - Wape: 15.7801 - MAE: 0.0313 - RMSE: 0.0646 - MAPE: 6374.4175 - MSE: 0.0042\n",
      "Epoch 33/50\n",
      "6458/6469 [============================>.] - ETA: 0s - loss: 0.0315 - Wape: 15.8381 - MAE: 0.0315 - RMSE: 0.0654 - MAPE: 8075.1924 - MSE: 0.0043\n",
      "Epoch 00033: loss did not improve from 0.03132\n",
      "6469/6469 [==============================] - 13s 2ms/step - loss: 0.0315 - Wape: 15.8354 - MAE: 0.0315 - RMSE: 0.0654 - MAPE: 8061.6836 - MSE: 0.0043\n",
      "Epoch 34/50\n",
      "6456/6469 [============================>.] - ETA: 0s - loss: 0.0315 - Wape: 15.8640 - MAE: 0.0315 - RMSE: 0.0655 - MAPE: 5986.2134 - MSE: 0.0043\n",
      "Epoch 00034: loss did not improve from 0.03132\n",
      "6469/6469 [==============================] - 13s 2ms/step - loss: 0.0315 - Wape: 15.8635 - MAE: 0.0315 - RMSE: 0.0655 - MAPE: 5974.3623 - MSE: 0.0043\n",
      "Epoch 35/50\n",
      "6448/6469 [============================>.] - ETA: 0s - loss: 0.0317 - Wape: 15.9356 - MAE: 0.0317 - RMSE: 0.0659 - MAPE: 6087.9033 - MSE: 0.0043\n",
      "Epoch 00035: loss did not improve from 0.03132\n",
      "6469/6469 [==============================] - 13s 2ms/step - loss: 0.0316 - Wape: 15.9326 - MAE: 0.0316 - RMSE: 0.0659 - MAPE: 6068.3418 - MSE: 0.0043\n",
      "Epoch 36/50\n",
      "6461/6469 [============================>.] - ETA: 0s - loss: 0.0314 - Wape: 15.8121 - MAE: 0.0314 - RMSE: 0.0648 - MAPE: 4983.7427 - MSE: 0.0042\n",
      "Epoch 00036: loss did not improve from 0.03132\n",
      "6469/6469 [==============================] - 13s 2ms/step - loss: 0.0314 - Wape: 15.8142 - MAE: 0.0314 - RMSE: 0.0648 - MAPE: 4977.7231 - MSE: 0.0042\n",
      "Epoch 37/50\n",
      "6452/6469 [============================>.] - ETA: 0s - loss: 0.0314 - Wape: 15.8030 - MAE: 0.0314 - RMSE: 0.0647 - MAPE: 6621.9824 - MSE: 0.0042\n",
      "Epoch 00037: loss did not improve from 0.03132\n",
      "6469/6469 [==============================] - 13s 2ms/step - loss: 0.0314 - Wape: 15.8008 - MAE: 0.0314 - RMSE: 0.0647 - MAPE: 6604.7866 - MSE: 0.0042\n",
      "Epoch 38/50\n",
      "6467/6469 [============================>.] - ETA: 0s - loss: 0.0314 - Wape: 15.8066 - MAE: 0.0314 - RMSE: 0.0648 - MAPE: 8135.5020 - MSE: 0.0042\n",
      "Epoch 00038: loss did not improve from 0.03132\n",
      "6469/6469 [==============================] - 13s 2ms/step - loss: 0.0314 - Wape: 15.8063 - MAE: 0.0314 - RMSE: 0.0648 - MAPE: 8935.5596 - MSE: 0.0042\n",
      "Epoch 39/50\n",
      "6462/6469 [============================>.] - ETA: 0s - loss: 0.0315 - Wape: 15.8332 - MAE: 0.0315 - RMSE: 0.0657 - MAPE: 5258.7485 - MSE: 0.0043\n",
      "Epoch 00039: loss did not improve from 0.03132\n",
      "6469/6469 [==============================] - 13s 2ms/step - loss: 0.0315 - Wape: 15.8317 - MAE: 0.0315 - RMSE: 0.0657 - MAPE: 5253.2041 - MSE: 0.0043\n",
      "Epoch 40/50\n",
      "6461/6469 [============================>.] - ETA: 0s - loss: 0.0313 - Wape: 15.7883 - MAE: 0.0313 - RMSE: 0.0648 - MAPE: 6755.3882 - MSE: 0.0042\n",
      "Epoch 00040: loss did not improve from 0.03132\n",
      "6469/6469 [==============================] - 13s 2ms/step - loss: 0.0313 - Wape: 15.7861 - MAE: 0.0313 - RMSE: 0.0648 - MAPE: 6747.2168 - MSE: 0.0042\n",
      "Epoch 41/50\n",
      "6460/6469 [============================>.] - ETA: 0s - loss: 0.0314 - Wape: 15.8186 - MAE: 0.0314 - RMSE: 0.0649 - MAPE: 6756.8291 - MSE: 0.0042\n",
      "Epoch 00041: loss did not improve from 0.03132\n",
      "6469/6469 [==============================] - 13s 2ms/step - loss: 0.0314 - Wape: 15.8188 - MAE: 0.0314 - RMSE: 0.0649 - MAPE: 6747.6147 - MSE: 0.0042\n",
      "Epoch 42/50\n",
      "6448/6469 [============================>.] - ETA: 0s - loss: 0.0314 - Wape: 15.8034 - MAE: 0.0314 - RMSE: 0.0649 - MAPE: 6395.6270 - MSE: 0.0042\n",
      "Epoch 00042: loss did not improve from 0.03132\n",
      "6469/6469 [==============================] - 13s 2ms/step - loss: 0.0314 - Wape: 15.8022 - MAE: 0.0314 - RMSE: 0.0648 - MAPE: 6375.0752 - MSE: 0.0042\n",
      "Epoch 43/50\n",
      "6449/6469 [============================>.] - ETA: 0s - loss: 0.0314 - Wape: 15.8242 - MAE: 0.0314 - RMSE: 0.0651 - MAPE: 5729.8721 - MSE: 0.0042\n",
      "Epoch 00043: loss did not improve from 0.03132\n",
      "6469/6469 [==============================] - 13s 2ms/step - loss: 0.0314 - Wape: 15.8232 - MAE: 0.0314 - RMSE: 0.0651 - MAPE: 5712.3540 - MSE: 0.0042\n",
      "Epoch 44/50\n",
      "6449/6469 [============================>.] - ETA: 0s - loss: 0.0313 - Wape: 15.7715 - MAE: 0.0313 - RMSE: 0.0646 - MAPE: 8008.7534 - MSE: 0.0042\n",
      "Epoch 00044: loss did not improve from 0.03132\n",
      "6469/6469 [==============================] - 13s 2ms/step - loss: 0.0313 - Wape: 15.7765 - MAE: 0.0313 - RMSE: 0.0646 - MAPE: 8356.5576 - MSE: 0.0042\n",
      "Epoch 45/50\n",
      "6449/6469 [============================>.] - ETA: 0s - loss: 0.0315 - Wape: 15.8394 - MAE: 0.0315 - RMSE: 0.0652 - MAPE: 6747.3843 - MSE: 0.0042\n",
      "Epoch 00045: loss did not improve from 0.03132\n",
      "6469/6469 [==============================] - 13s 2ms/step - loss: 0.0315 - Wape: 15.8448 - MAE: 0.0315 - RMSE: 0.0652 - MAPE: 6946.8384 - MSE: 0.0043\n",
      "Epoch 46/50\n",
      "6453/6469 [============================>.] - ETA: 0s - loss: 0.0314 - Wape: 15.8197 - MAE: 0.0314 - RMSE: 0.0648 - MAPE: 7882.5518 - MSE: 0.0042\n",
      "Epoch 00046: loss did not improve from 0.03132\n",
      "6469/6469 [==============================] - 12s 2ms/step - loss: 0.0314 - Wape: 15.8262 - MAE: 0.0314 - RMSE: 0.0649 - MAPE: 8099.0918 - MSE: 0.0042\n",
      "Epoch 47/50\n",
      "6448/6469 [============================>.] - ETA: 0s - loss: 0.0316 - Wape: 15.8797 - MAE: 0.0316 - RMSE: 0.0657 - MAPE: 6447.9458 - MSE: 0.0043\n",
      "Epoch 00047: loss did not improve from 0.03132\n",
      "6469/6469 [==============================] - 13s 2ms/step - loss: 0.0316 - Wape: 15.8777 - MAE: 0.0316 - RMSE: 0.0657 - MAPE: 6427.2246 - MSE: 0.0043\n",
      "Epoch 48/50\n",
      "6461/6469 [============================>.] - ETA: 0s - loss: 0.0313 - Wape: 15.7677 - MAE: 0.0313 - RMSE: 0.0647 - MAPE: 7825.4624 - MSE: 0.0042\n",
      "Epoch 00048: loss did not improve from 0.03132\n",
      "6469/6469 [==============================] - 13s 2ms/step - loss: 0.0313 - Wape: 15.7665 - MAE: 0.0313 - RMSE: 0.0647 - MAPE: 8054.6748 - MSE: 0.0042\n",
      "Epoch 49/50\n",
      "6461/6469 [============================>.] - ETA: 0s - loss: 0.0314 - Wape: 15.8240 - MAE: 0.0314 - RMSE: 0.0650 - MAPE: 6001.0557 - MSE: 0.0042\n",
      "Epoch 00049: loss did not improve from 0.03132\n",
      "6469/6469 [==============================] - 13s 2ms/step - loss: 0.0314 - Wape: 15.8209 - MAE: 0.0314 - RMSE: 0.0650 - MAPE: 5993.7983 - MSE: 0.0042\n",
      "Epoch 50/50\n",
      "6446/6469 [============================>.] - ETA: 0s - loss: 0.0312 - Wape: 15.7204 - MAE: 0.0312 - RMSE: 0.0643 - MAPE: 5995.7754 - MSE: 0.0041\n",
      "Epoch 00050: loss improved from 0.03132 to 0.03124, saving model to New Leon's LSTM Sweatwater/weights-improvement-50-0.0312.hdf5\n",
      "6469/6469 [==============================] - 13s 2ms/step - loss: 0.0312 - Wape: 15.7255 - MAE: 0.0312 - RMSE: 0.0643 - MAPE: 5974.6763 - MSE: 0.0041\n"
     ]
    },
    {
     "data": {
      "text/plain": [
       "<keras.callbacks.History at 0x1470a41c5890>"
      ]
     },
     "execution_count": 51,
     "metadata": {},
     "output_type": "execute_result"
    }
   ],
   "source": [
    "from tensorflow.keras import Sequential\n",
    "from tensorflow.keras.models import Sequential\n",
    "from tensorflow.keras.layers import Dense, LSTM, Dropout, Conv1D, MaxPooling1D, Flatten\n",
    "from tensorflow.keras.optimizers import Adam\n",
    "import tensorflow.keras.backend as K\n",
    "import tensorflow as tf\n",
    "from keras.callbacks import ModelCheckpoint\n",
    "\n",
    "\n",
    "\n",
    "adam = Adam(learning_rate=0.000001)\n",
    "# The LSTM architecture\n",
    "regressor = Sequential()\n",
    "# First layer with Dropout regularisation\n",
    "\n",
    "regressor.add(Dense(128, input_dim=100))\n",
    "\n",
    "# Third layer\n",
    "regressor.add(Dense(64))\n",
    "\n",
    "\n",
    "# Fourth layer\n",
    "regressor.add(Dense(32))\n",
    "regressor.add(Dropout(0.5))\n",
    "\n",
    "# fifth layer\n",
    "regressor.add(Dense(4))\n",
    "regressor.add(Dropout(0.5))\n",
    "\n",
    "# The output layer\n",
    "regressor.add(Dense(1,activation = \"relu\"))\n",
    "\n",
    "# Compiling the RNN\n",
    "regressor.compile(optimizer=\"adam\",loss=\"mean_absolute_error\",\n",
    "                  metrics=[Wape,\n",
    "                           tf.metrics.MeanAbsoluteError(name=\"MAE\"),\n",
    "                           tf.metrics.RootMeanSquaredError(name=\"RMSE\"),\n",
    "                           tf.metrics.MeanAbsolutePercentageError(name=\"MAPE\"),\n",
    "                           \"MSE\",\n",
    "                          ],\n",
    "                           \n",
    "                 )\n",
    "\n",
    "print(1)\n",
    "filepath=\"New Leon's LSTM Sweatwater/weights-improvement-{epoch:02d}-{loss:.4f}.hdf5\"\n",
    "checkpoint = ModelCheckpoint(filepath, monitor='loss', verbose=1, save_best_only=True, mode='min')\n",
    "callbacks_list = [checkpoint]\n",
    "print(1)\n",
    "# Fitting to the training set\n",
    "regressor.fit(X_train,y_train,epochs=50,batch_size=32,callbacks=callbacks_list)"
   ]
  },
  {
   "cell_type": "markdown",
   "id": "c70fac47-43c7-4393-9fc6-2ad3ad7bf129",
   "metadata": {},
   "source": [
    "# Create Model and load weights"
   ]
  },
  {
   "cell_type": "code",
   "execution_count": 15,
   "id": "45d2d43b-3469-46cc-b1da-3b7a6e385e19",
   "metadata": {
    "tags": []
   },
   "outputs": [],
   "source": [
    "from tensorflow.keras import Sequential\n",
    "from tensorflow.keras.models import Sequential\n",
    "from tensorflow.keras.layers import Dense, LSTM, Dropout\n",
    "from tensorflow.keras.optimizers import Adam\n",
    "import tensorflow.keras.backend as K\n",
    "import tensorflow as tf\n",
    "from keras.callbacks import ModelCheckpoint\n",
    "\n",
    "def create_model():\n",
    "    regressor = Sequential()\n",
    "    # First layer with Dropout regularisation\n",
    "\n",
    "    regressor.add(Dense(128, input_dim=100))\n",
    "\n",
    "    # Third layer\n",
    "    regressor.add(Dense(64))\n",
    "\n",
    "\n",
    "    # Fourth layer\n",
    "    regressor.add(Dense(32))\n",
    "    regressor.add(Dropout(0.5))\n",
    "\n",
    "    # fifth layer\n",
    "    regressor.add(Dense(4))\n",
    "    regressor.add(Dropout(0.5))\n",
    "\n",
    "    # The output layer\n",
    "    regressor.add(Dense(1,activation = \"relu\"))\n",
    "\n",
    "    # Compiling the RNN\n",
    "    regressor.compile(optimizer=\"adam\",loss=\"mean_absolute_error\",\n",
    "                      metrics=[Wape,\n",
    "                               tf.metrics.MeanAbsoluteError(name=\"MAE\"),\n",
    "                               tf.metrics.RootMeanSquaredError(name=\"RMSE\"),\n",
    "                               tf.metrics.MeanAbsolutePercentageError(name=\"MAPE\"),\n",
    "                               \"MSE\",\n",
    "                              ],\n",
    "\n",
    "                     )\n",
    "    return regressor\n",
    "regressor = create_model()\n",
    "regressor.load_weights(\"New Leon's LSTM Sweatwater/weights-improvement-50-0.0312.hdf5\")"
   ]
  },
  {
   "cell_type": "code",
   "execution_count": 26,
   "id": "0b4b8ff5-d8be-4faa-952c-4e9f21a439e1",
   "metadata": {},
   "outputs": [],
   "source": [
    "regressor.save(\"Sweatwater-Dense.h5\")"
   ]
  }
 ],
 "metadata": {
  "kernelspec": {
   "display_name": "Python 3 (ipykernel)",
   "language": "python",
   "name": "python3"
  },
  "language_info": {
   "codemirror_mode": {
    "name": "ipython",
    "version": 3
   },
   "file_extension": ".py",
   "mimetype": "text/x-python",
   "name": "python",
   "nbconvert_exporter": "python",
   "pygments_lexer": "ipython3",
   "version": "3.9.7"
  }
 },
 "nbformat": 4,
 "nbformat_minor": 5
}
